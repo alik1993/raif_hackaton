{
 "cells": [
  {
   "cell_type": "code",
   "execution_count": 1,
   "metadata": {
    "ExecuteTime": {
     "end_time": "2021-09-23T10:26:19.672642Z",
     "start_time": "2021-09-23T10:26:19.668831Z"
    }
   },
   "outputs": [],
   "source": [
    "# !pip install overpy"
   ]
  },
  {
   "cell_type": "code",
   "execution_count": 1,
   "metadata": {
    "ExecuteTime": {
     "end_time": "2021-09-24T08:11:30.824839Z",
     "start_time": "2021-09-24T08:11:30.492418Z"
    }
   },
   "outputs": [],
   "source": [
    "import pandas as pd\n",
    "pd.set_option('max_columns', 500)\n",
    "\n",
    "import requests\n",
    "import json\n",
    "\n",
    "import re\n",
    "from tqdm import tqdm"
   ]
  },
  {
   "cell_type": "code",
   "execution_count": 2,
   "metadata": {
    "ExecuteTime": {
     "end_time": "2021-09-24T08:11:31.575460Z",
     "start_time": "2021-09-24T08:11:31.540647Z"
    }
   },
   "outputs": [],
   "source": [
    "# https://github.com/hflabs/city\n",
    "cities = pd.read_csv('data/city.csv')\n",
    "\n",
    "cities.population = cities.population.apply(lambda x: x.split('[')[0]).astype(int)\n",
    "\n",
    "cities.loc[cities.region=='Москва', 'city'] = \"Москва\"\n",
    "cities.loc[cities.region=='Санкт-Петербург', 'city'] = \"Санкт-Петербург\"\n",
    "cities.loc[cities.region=='Севастополь', 'city'] = \"Севастополь\"\n",
    "\n",
    "\n",
    "cities.city = cities.city.apply(lambda x: {'Орёл': \"Орел\"}.get(x,x))\n",
    "\n",
    "# cities = cities[~cities.foundation_year.str.contains('век')]\n",
    "# cities = cities[~cities.foundation_year.str.contains('год')]\n",
    "# cities = cities[~cities.foundation_year.str.contains('или')]\n",
    "# cities = cities[~cities.foundation_year.str.contains('-')]\n",
    "\n",
    "# cities.foundation_year = cities.foundation_year.astype(int)\n",
    "\n",
    "cities = cities.drop('foundation_year', axis=1)\n",
    "\n",
    "cities = cities[~((cities.city=='Железногорск') & (cities.region=='Красноярский'))]\n",
    "cities = cities[~((cities.city=='Киров') & (cities.region=='Калужская'))]\n",
    "cities = cities[~((cities.city=='Благовещенск') & (cities.region=='Башкортостан'))]\n",
    "\n",
    "\n",
    "# cities = cities.sort_values('population', ascending=False)"
   ]
  },
  {
   "cell_type": "code",
   "execution_count": 3,
   "metadata": {
    "ExecuteTime": {
     "end_time": "2021-09-24T08:11:31.774580Z",
     "start_time": "2021-09-24T08:11:31.742751Z"
    }
   },
   "outputs": [
    {
     "data": {
      "text/html": [
       "<div>\n",
       "<style scoped>\n",
       "    .dataframe tbody tr th:only-of-type {\n",
       "        vertical-align: middle;\n",
       "    }\n",
       "\n",
       "    .dataframe tbody tr th {\n",
       "        vertical-align: top;\n",
       "    }\n",
       "\n",
       "    .dataframe thead th {\n",
       "        text-align: right;\n",
       "    }\n",
       "</style>\n",
       "<table border=\"1\" class=\"dataframe\">\n",
       "  <thead>\n",
       "    <tr style=\"text-align: right;\">\n",
       "      <th></th>\n",
       "      <th>address</th>\n",
       "      <th>postal_code</th>\n",
       "      <th>country</th>\n",
       "      <th>federal_district</th>\n",
       "      <th>region_type</th>\n",
       "      <th>region</th>\n",
       "      <th>area_type</th>\n",
       "      <th>area</th>\n",
       "      <th>city_type</th>\n",
       "      <th>city</th>\n",
       "      <th>settlement_type</th>\n",
       "      <th>settlement</th>\n",
       "      <th>kladr_id</th>\n",
       "      <th>fias_id</th>\n",
       "      <th>fias_level</th>\n",
       "      <th>capital_marker</th>\n",
       "      <th>okato</th>\n",
       "      <th>oktmo</th>\n",
       "      <th>tax_office</th>\n",
       "      <th>timezone</th>\n",
       "      <th>geo_lat</th>\n",
       "      <th>geo_lon</th>\n",
       "      <th>population</th>\n",
       "    </tr>\n",
       "  </thead>\n",
       "  <tbody>\n",
       "    <tr>\n",
       "      <th>0</th>\n",
       "      <td>Респ Адыгея, г Адыгейск</td>\n",
       "      <td>385200.0</td>\n",
       "      <td>Россия</td>\n",
       "      <td>Южный</td>\n",
       "      <td>Респ</td>\n",
       "      <td>Адыгея</td>\n",
       "      <td>NaN</td>\n",
       "      <td>NaN</td>\n",
       "      <td>г</td>\n",
       "      <td>Адыгейск</td>\n",
       "      <td>NaN</td>\n",
       "      <td>NaN</td>\n",
       "      <td>100000200000</td>\n",
       "      <td>ccdfd496-8108-4655-aadd-bd228747306d</td>\n",
       "      <td>4</td>\n",
       "      <td>0</td>\n",
       "      <td>79403000000</td>\n",
       "      <td>79703000001</td>\n",
       "      <td>107</td>\n",
       "      <td>UTC+3</td>\n",
       "      <td>44.878414</td>\n",
       "      <td>39.190289</td>\n",
       "      <td>12689</td>\n",
       "    </tr>\n",
       "    <tr>\n",
       "      <th>1</th>\n",
       "      <td>г Майкоп</td>\n",
       "      <td>385000.0</td>\n",
       "      <td>Россия</td>\n",
       "      <td>Южный</td>\n",
       "      <td>Респ</td>\n",
       "      <td>Адыгея</td>\n",
       "      <td>NaN</td>\n",
       "      <td>NaN</td>\n",
       "      <td>г</td>\n",
       "      <td>Майкоп</td>\n",
       "      <td>NaN</td>\n",
       "      <td>NaN</td>\n",
       "      <td>100000100000</td>\n",
       "      <td>8cfbe842-e803-49ca-9347-1ef90481dd98</td>\n",
       "      <td>4</td>\n",
       "      <td>2</td>\n",
       "      <td>79401000000</td>\n",
       "      <td>79701000001</td>\n",
       "      <td>105</td>\n",
       "      <td>UTC+3</td>\n",
       "      <td>44.609827</td>\n",
       "      <td>40.100661</td>\n",
       "      <td>144055</td>\n",
       "    </tr>\n",
       "    <tr>\n",
       "      <th>2</th>\n",
       "      <td>г Горно-Алтайск</td>\n",
       "      <td>649000.0</td>\n",
       "      <td>Россия</td>\n",
       "      <td>Сибирский</td>\n",
       "      <td>Респ</td>\n",
       "      <td>Алтай</td>\n",
       "      <td>NaN</td>\n",
       "      <td>NaN</td>\n",
       "      <td>г</td>\n",
       "      <td>Горно-Алтайск</td>\n",
       "      <td>NaN</td>\n",
       "      <td>NaN</td>\n",
       "      <td>400000100000</td>\n",
       "      <td>0839d751-b940-4d3d-afb6-5df03fdd7791</td>\n",
       "      <td>4</td>\n",
       "      <td>2</td>\n",
       "      <td>84401000000</td>\n",
       "      <td>84701000</td>\n",
       "      <td>400</td>\n",
       "      <td>UTC+7</td>\n",
       "      <td>51.958103</td>\n",
       "      <td>85.960324</td>\n",
       "      <td>62861</td>\n",
       "    </tr>\n",
       "  </tbody>\n",
       "</table>\n",
       "</div>"
      ],
      "text/plain": [
       "                   address  postal_code country federal_district region_type  \\\n",
       "0  Респ Адыгея, г Адыгейск     385200.0  Россия            Южный        Респ   \n",
       "1                 г Майкоп     385000.0  Россия            Южный        Респ   \n",
       "2          г Горно-Алтайск     649000.0  Россия        Сибирский        Респ   \n",
       "\n",
       "   region area_type area city_type           city settlement_type settlement  \\\n",
       "0  Адыгея       NaN  NaN         г       Адыгейск             NaN        NaN   \n",
       "1  Адыгея       NaN  NaN         г         Майкоп             NaN        NaN   \n",
       "2   Алтай       NaN  NaN         г  Горно-Алтайск             NaN        NaN   \n",
       "\n",
       "       kladr_id                               fias_id  fias_level  \\\n",
       "0  100000200000  ccdfd496-8108-4655-aadd-bd228747306d           4   \n",
       "1  100000100000  8cfbe842-e803-49ca-9347-1ef90481dd98           4   \n",
       "2  400000100000  0839d751-b940-4d3d-afb6-5df03fdd7791           4   \n",
       "\n",
       "   capital_marker        okato        oktmo  tax_office timezone    geo_lat  \\\n",
       "0               0  79403000000  79703000001         107    UTC+3  44.878414   \n",
       "1               2  79401000000  79701000001         105    UTC+3  44.609827   \n",
       "2               2  84401000000     84701000         400    UTC+7  51.958103   \n",
       "\n",
       "     geo_lon  population  \n",
       "0  39.190289       12689  \n",
       "1  40.100661      144055  \n",
       "2  85.960324       62861  "
      ]
     },
     "execution_count": 3,
     "metadata": {},
     "output_type": "execute_result"
    }
   ],
   "source": [
    "cities.head(3)"
   ]
  },
  {
   "cell_type": "code",
   "execution_count": 4,
   "metadata": {
    "ExecuteTime": {
     "end_time": "2021-09-24T08:11:31.906135Z",
     "start_time": "2021-09-24T08:11:31.882912Z"
    }
   },
   "outputs": [
    {
     "data": {
      "text/html": [
       "<div>\n",
       "<style scoped>\n",
       "    .dataframe tbody tr th:only-of-type {\n",
       "        vertical-align: middle;\n",
       "    }\n",
       "\n",
       "    .dataframe tbody tr th {\n",
       "        vertical-align: top;\n",
       "    }\n",
       "\n",
       "    .dataframe thead th {\n",
       "        text-align: right;\n",
       "    }\n",
       "</style>\n",
       "<table border=\"1\" class=\"dataframe\">\n",
       "  <thead>\n",
       "    <tr style=\"text-align: right;\">\n",
       "      <th></th>\n",
       "      <th>address</th>\n",
       "      <th>postal_code</th>\n",
       "      <th>country</th>\n",
       "      <th>federal_district</th>\n",
       "      <th>region_type</th>\n",
       "      <th>region</th>\n",
       "      <th>area_type</th>\n",
       "      <th>area</th>\n",
       "      <th>city_type</th>\n",
       "      <th>city</th>\n",
       "      <th>settlement_type</th>\n",
       "      <th>settlement</th>\n",
       "      <th>kladr_id</th>\n",
       "      <th>fias_id</th>\n",
       "      <th>fias_level</th>\n",
       "      <th>capital_marker</th>\n",
       "      <th>okato</th>\n",
       "      <th>oktmo</th>\n",
       "      <th>tax_office</th>\n",
       "      <th>timezone</th>\n",
       "      <th>geo_lat</th>\n",
       "      <th>geo_lon</th>\n",
       "      <th>population</th>\n",
       "    </tr>\n",
       "  </thead>\n",
       "  <tbody>\n",
       "    <tr>\n",
       "      <th>706</th>\n",
       "      <td>г Пермь</td>\n",
       "      <td>614000.0</td>\n",
       "      <td>Россия</td>\n",
       "      <td>Приволжский</td>\n",
       "      <td>край</td>\n",
       "      <td>Пермский</td>\n",
       "      <td>NaN</td>\n",
       "      <td>NaN</td>\n",
       "      <td>г</td>\n",
       "      <td>Пермь</td>\n",
       "      <td>NaN</td>\n",
       "      <td>NaN</td>\n",
       "      <td>5900000100000</td>\n",
       "      <td>a309e4ce-2f36-4106-b1ca-53e0f48a6d95</td>\n",
       "      <td>4</td>\n",
       "      <td>2</td>\n",
       "      <td>57401000000</td>\n",
       "      <td>57701000001</td>\n",
       "      <td>5900</td>\n",
       "      <td>UTC+5</td>\n",
       "      <td>58.010258</td>\n",
       "      <td>56.234203</td>\n",
       "      <td>1000679</td>\n",
       "    </tr>\n",
       "  </tbody>\n",
       "</table>\n",
       "</div>"
      ],
      "text/plain": [
       "     address  postal_code country federal_district region_type    region  \\\n",
       "706  г Пермь     614000.0  Россия      Приволжский        край  Пермский   \n",
       "\n",
       "    area_type area city_type   city settlement_type settlement       kladr_id  \\\n",
       "706       NaN  NaN         г  Пермь             NaN        NaN  5900000100000   \n",
       "\n",
       "                                  fias_id  fias_level  capital_marker  \\\n",
       "706  a309e4ce-2f36-4106-b1ca-53e0f48a6d95           4               2   \n",
       "\n",
       "           okato        oktmo  tax_office timezone    geo_lat    geo_lon  \\\n",
       "706  57401000000  57701000001        5900    UTC+5  58.010258  56.234203   \n",
       "\n",
       "     population  \n",
       "706     1000679  "
      ]
     },
     "execution_count": 4,
     "metadata": {},
     "output_type": "execute_result"
    }
   ],
   "source": [
    "cities[cities.city=='Пермь']"
   ]
  },
  {
   "cell_type": "code",
   "execution_count": null,
   "metadata": {},
   "outputs": [],
   "source": []
  },
  {
   "cell_type": "code",
   "execution_count": 5,
   "metadata": {
    "ExecuteTime": {
     "end_time": "2021-09-24T08:11:32.234458Z",
     "start_time": "2021-09-24T08:11:32.230228Z"
    }
   },
   "outputs": [],
   "source": [
    "# mo_cities = cities[cities.region.str.contains('Московская', na=False)]['city']"
   ]
  },
  {
   "cell_type": "code",
   "execution_count": 6,
   "metadata": {
    "ExecuteTime": {
     "end_time": "2021-09-24T08:11:32.574207Z",
     "start_time": "2021-09-24T08:11:32.569781Z"
    }
   },
   "outputs": [],
   "source": [
    "# def proc_wiki_pop(df):\n",
    "#     dd = pd.DataFrame(columns=['year', 'pop'])\n",
    "#     dff = df.T.reset_index()\n",
    "#     for i in range(0,len(dff.columns),2):\n",
    "#         temp = dff.iloc[:,i:i+2]\n",
    "#         temp.columns = ['year', 'pop']\n",
    "#         dd = pd.concat([dd, temp])\n",
    "#     dd = dd[dd.year.notnull()]\n",
    "#     dd['year'] = dd.year.apply(lambda x: int(x.split('[')[0]))\n",
    "#     dd['pop'] = dd['pop'].apply(lambda x: x.replace(\"\\xa0\", \"\"))\n",
    "#     dd['pop'] = dd['pop'].apply(lambda x: re.findall('\\d+', x)[0])\n",
    "#     dd = dd[dd.year>2009]\n",
    "#     return dd"
   ]
  },
  {
   "cell_type": "code",
   "execution_count": 7,
   "metadata": {
    "ExecuteTime": {
     "end_time": "2021-09-24T08:11:32.752938Z",
     "start_time": "2021-09-24T08:11:32.747317Z"
    },
    "scrolled": true
   },
   "outputs": [],
   "source": [
    "# from bs4 import BeautifulSoup\n",
    "# city_pop_dict = {}\n",
    "\n",
    "# # get the response in the form of html\n",
    "# for city in tqdm(mo_cities):\n",
    "#     if city == 'Королев':\n",
    "#         city = city.replace('е', \"ё\") + \"_(город)\"\n",
    "#     elif city in ['Жуковский', 'Домодедово', \"Чехов\", \"Клин\", \"Дзержинский\", \"Истра\", \"Рошаль\", \"Пересвет\"]:\n",
    "#         city = city + \"_(город)\"\n",
    "#     elif city in [\"Краснознаменск\", \"Красноармейск\"]:\n",
    "#         city = city + '_(Московская_область)'\n",
    "       \n",
    "#     wikiurl= f\"https://ru.wikipedia.org/wiki/{city}\"\n",
    "#     table_class=\"wikitable sortable jquery-tablesorter\"\n",
    "#     response=requests.get(wikiurl)\n",
    "#     # print(response.status_code)\n",
    "\n",
    "#     soup = BeautifulSoup(response.text, 'html.parser')\n",
    "#     if city == 'Электросталь':\n",
    "#         indiatable=soup.findAll('table',{'class':\"standard\"})[-1]\n",
    "#     elif city == 'Реутов':\n",
    "#         indiatable=soup.findAll('table',{'class':\"standard\"})[1]\n",
    "#     elif city == 'Электроугли':\n",
    "#         indiatable=soup.findAll('table',{'class':\"wikitable\"})[0]\n",
    "#     else:\n",
    "#         indiatable=soup.findAll('table',{'class':\"standard\"})[0]\n",
    "\n",
    "#     df=pd.read_html(str(indiatable), skiprows=1)\n",
    "#     # convert list to dataframe\n",
    "#     df=pd.DataFrame(df[0])\n",
    "# #         print(df.iloc[-2:,])\n",
    "\n",
    "#     df_proc = proc_wiki_pop(df)\n",
    "#     df_proc = df_proc.reset_index(drop=True)\n",
    "#     df_proc['pop'] = df_proc['pop'].astype(int)\n",
    "#     city_pop_dict[city] = df_proc"
   ]
  },
  {
   "cell_type": "code",
   "execution_count": 8,
   "metadata": {
    "ExecuteTime": {
     "end_time": "2021-09-24T08:11:34.154246Z",
     "start_time": "2021-09-24T08:11:34.149388Z"
    }
   },
   "outputs": [],
   "source": [
    "# mo_df = []\n",
    "# for k in city_pop_dict.keys():\n",
    "#     pop_last_y = city_pop_dict[k].iloc[-1:,].values[0][-1]\n",
    "#     pop_5y = city_pop_dict[k].iloc[-5:-5+1,].values[0][-1]\n",
    "#     pop_10y = city_pop_dict[k].iloc[-10:-10+1,].values[0][-1]\n",
    "    \n",
    "#     last_5y_change = (pop_last_y - pop_5y) / pop_5y * 100 \n",
    "#     last_10y_change = (pop_last_y - pop_10y) / pop_10y * 100 \n",
    "#     mo_df.append([k, pop_last_y, last_5y_change, last_10y_change])\n",
    "\n",
    "# mo_df = pd.DataFrame(mo_df, columns = ['city', 'population', 'last5y_chg', 'last10y_chg'])\n",
    "\n",
    "# mo_df.city = mo_df.city.apply(lambda x: x.split('_')[0])\n",
    "# mo_df.city = mo_df.city.apply(lambda x: x.replace('Королёв', 'Королев'))"
   ]
  },
  {
   "cell_type": "code",
   "execution_count": 9,
   "metadata": {
    "ExecuteTime": {
     "end_time": "2021-09-24T08:11:34.344195Z",
     "start_time": "2021-09-24T08:11:34.340190Z"
    }
   },
   "outputs": [],
   "source": [
    "# set(mo_cities) - set(mo_df.city)"
   ]
  },
  {
   "cell_type": "code",
   "execution_count": 10,
   "metadata": {
    "ExecuteTime": {
     "end_time": "2021-09-24T08:11:34.765797Z",
     "start_time": "2021-09-24T08:11:34.761743Z"
    }
   },
   "outputs": [],
   "source": [
    "# mo_df.head()"
   ]
  },
  {
   "cell_type": "code",
   "execution_count": null,
   "metadata": {},
   "outputs": [],
   "source": []
  },
  {
   "cell_type": "code",
   "execution_count": 11,
   "metadata": {
    "ExecuteTime": {
     "end_time": "2021-09-24T08:11:36.288745Z",
     "start_time": "2021-09-24T08:11:35.512632Z"
    }
   },
   "outputs": [
    {
     "data": {
      "text/plain": [
       "(171, 5)"
      ]
     },
     "execution_count": 11,
     "metadata": {},
     "output_type": "execute_result"
    }
   ],
   "source": [
    "from bs4 import BeautifulSoup\n",
    "\n",
    "# get the response in the form of html\n",
    "wikiurl=\"https://ru.wikipedia.org/wiki/%D0%A1%D0%BF%D0%B8%D1%81%D0%BE%D0%BA_%D0%B3%D0%BE%D1%80%D0%BE%D0%B4%D0%BE%D0%B2_%D0%A0%D0%BE%D1%81%D1%81%D0%B8%D0%B8_%D1%81_%D0%BD%D0%B0%D1%81%D0%B5%D0%BB%D0%B5%D0%BD%D0%B8%D0%B5%D0%BC_%D0%B1%D0%BE%D0%BB%D0%B5%D0%B5_100_%D1%82%D1%8B%D1%81%D1%8F%D1%87_%D0%B6%D0%B8%D1%82%D0%B5%D0%BB%D0%B5%D0%B9\"\n",
    "table_class=\"wikitable sortable jquery-tablesorter\"\n",
    "response=requests.get(wikiurl)\n",
    "# print(response.status_code)\n",
    "\n",
    "soup = BeautifulSoup(response.text, 'html.parser')\n",
    "indiatable=soup.find('table',{'class':\"wikitable\"})\n",
    "\n",
    "df=pd.read_html(str(indiatable))\n",
    "# convert list to dataframe\n",
    "df=pd.DataFrame(df[0])\n",
    "# df.head()\n",
    "\n",
    "df_popul = pd.concat([df['Город'], df['Население, тыс. человек'][['2021']]], axis=1)\n",
    "df_popul.columns = ['city', 'population']\n",
    "\n",
    "df_popul = pd.concat([df_popul, df['Население, тыс. человек'][['2021', '2016', '2011']]], axis=1)\n",
    "\n",
    "df_popul = df_popul[df_popul.population>=100]  # 100к города россии\n",
    "df_popul.city = df_popul.city.apply(lambda x: x.split('[')[0])\n",
    "df_popul.city = df_popul.city.apply(lambda x: x.replace('ё', 'е'))\n",
    "df_popul.shape"
   ]
  },
  {
   "cell_type": "code",
   "execution_count": 12,
   "metadata": {
    "ExecuteTime": {
     "end_time": "2021-09-24T08:11:36.524085Z",
     "start_time": "2021-09-24T08:11:36.503203Z"
    }
   },
   "outputs": [],
   "source": [
    "df_popul['last5y_chg'] = df_popul.apply(lambda x: round((x['2021']-x['2016'])/x['2016']*100,2), axis=1)\n",
    "df_popul['last10y_chg'] = df_popul.apply(lambda x: round((x['2021']-x['2011'])/x['2011']*100,2), axis=1)"
   ]
  },
  {
   "cell_type": "code",
   "execution_count": 13,
   "metadata": {
    "ExecuteTime": {
     "end_time": "2021-09-24T08:11:36.729112Z",
     "start_time": "2021-09-24T08:11:36.713590Z"
    }
   },
   "outputs": [
    {
     "data": {
      "text/html": [
       "<div>\n",
       "<style scoped>\n",
       "    .dataframe tbody tr th:only-of-type {\n",
       "        vertical-align: middle;\n",
       "    }\n",
       "\n",
       "    .dataframe tbody tr th {\n",
       "        vertical-align: top;\n",
       "    }\n",
       "\n",
       "    .dataframe thead th {\n",
       "        text-align: right;\n",
       "    }\n",
       "</style>\n",
       "<table border=\"1\" class=\"dataframe\">\n",
       "  <thead>\n",
       "    <tr style=\"text-align: right;\">\n",
       "      <th></th>\n",
       "      <th>city</th>\n",
       "      <th>population</th>\n",
       "      <th>2021</th>\n",
       "      <th>2016</th>\n",
       "      <th>2011</th>\n",
       "      <th>last5y_chg</th>\n",
       "      <th>last10y_chg</th>\n",
       "    </tr>\n",
       "  </thead>\n",
       "  <tbody>\n",
       "    <tr>\n",
       "      <th>0</th>\n",
       "      <td>Москва</td>\n",
       "      <td>12655</td>\n",
       "      <td>12655</td>\n",
       "      <td>12330</td>\n",
       "      <td>11541</td>\n",
       "      <td>2.64</td>\n",
       "      <td>9.65</td>\n",
       "    </tr>\n",
       "    <tr>\n",
       "      <th>1</th>\n",
       "      <td>Санкт-Петербург</td>\n",
       "      <td>5384</td>\n",
       "      <td>5384</td>\n",
       "      <td>5226</td>\n",
       "      <td>4899</td>\n",
       "      <td>3.02</td>\n",
       "      <td>9.90</td>\n",
       "    </tr>\n",
       "    <tr>\n",
       "      <th>2</th>\n",
       "      <td>Новосибирск</td>\n",
       "      <td>1620</td>\n",
       "      <td>1620</td>\n",
       "      <td>1584</td>\n",
       "      <td>1475</td>\n",
       "      <td>2.27</td>\n",
       "      <td>9.83</td>\n",
       "    </tr>\n",
       "    <tr>\n",
       "      <th>3</th>\n",
       "      <td>Екатеринбург</td>\n",
       "      <td>1495</td>\n",
       "      <td>1495</td>\n",
       "      <td>1444</td>\n",
       "      <td>1353</td>\n",
       "      <td>3.53</td>\n",
       "      <td>10.50</td>\n",
       "    </tr>\n",
       "    <tr>\n",
       "      <th>4</th>\n",
       "      <td>Казань</td>\n",
       "      <td>1257</td>\n",
       "      <td>1257</td>\n",
       "      <td>1217</td>\n",
       "      <td>1145</td>\n",
       "      <td>3.29</td>\n",
       "      <td>9.78</td>\n",
       "    </tr>\n",
       "  </tbody>\n",
       "</table>\n",
       "</div>"
      ],
      "text/plain": [
       "              city  population   2021   2016   2011  last5y_chg  last10y_chg\n",
       "0           Москва       12655  12655  12330  11541        2.64         9.65\n",
       "1  Санкт-Петербург        5384   5384   5226   4899        3.02         9.90\n",
       "2      Новосибирск        1620   1620   1584   1475        2.27         9.83\n",
       "3     Екатеринбург        1495   1495   1444   1353        3.53        10.50\n",
       "4           Казань        1257   1257   1217   1145        3.29         9.78"
      ]
     },
     "execution_count": 13,
     "metadata": {},
     "output_type": "execute_result"
    }
   ],
   "source": [
    "df_popul.head()"
   ]
  },
  {
   "cell_type": "code",
   "execution_count": 14,
   "metadata": {
    "ExecuteTime": {
     "end_time": "2021-09-24T08:11:37.136898Z",
     "start_time": "2021-09-24T08:11:37.128826Z"
    }
   },
   "outputs": [
    {
     "data": {
      "text/plain": [
       "set()"
      ]
     },
     "execution_count": 14,
     "metadata": {},
     "output_type": "execute_result"
    }
   ],
   "source": [
    "set(df_popul.city) - set(cities.city)"
   ]
  },
  {
   "cell_type": "code",
   "execution_count": 15,
   "metadata": {
    "ExecuteTime": {
     "end_time": "2021-09-24T08:11:39.950580Z",
     "start_time": "2021-09-24T08:11:39.946620Z"
    }
   },
   "outputs": [],
   "source": [
    "# cities[cities.city.str.contains('Ор', na=False)]"
   ]
  },
  {
   "cell_type": "code",
   "execution_count": 16,
   "metadata": {
    "ExecuteTime": {
     "end_time": "2021-09-24T08:11:40.201581Z",
     "start_time": "2021-09-24T08:11:40.193701Z"
    }
   },
   "outputs": [],
   "source": [
    "df_popul = df_popul.drop(['2021', '2016', '2011'], axis=1)"
   ]
  },
  {
   "cell_type": "code",
   "execution_count": 17,
   "metadata": {
    "ExecuteTime": {
     "end_time": "2021-09-24T08:11:40.543587Z",
     "start_time": "2021-09-24T08:11:40.528851Z"
    }
   },
   "outputs": [
    {
     "data": {
      "text/html": [
       "<div>\n",
       "<style scoped>\n",
       "    .dataframe tbody tr th:only-of-type {\n",
       "        vertical-align: middle;\n",
       "    }\n",
       "\n",
       "    .dataframe tbody tr th {\n",
       "        vertical-align: top;\n",
       "    }\n",
       "\n",
       "    .dataframe thead th {\n",
       "        text-align: right;\n",
       "    }\n",
       "</style>\n",
       "<table border=\"1\" class=\"dataframe\">\n",
       "  <thead>\n",
       "    <tr style=\"text-align: right;\">\n",
       "      <th></th>\n",
       "      <th>city</th>\n",
       "      <th>population</th>\n",
       "      <th>last5y_chg</th>\n",
       "      <th>last10y_chg</th>\n",
       "    </tr>\n",
       "  </thead>\n",
       "  <tbody>\n",
       "    <tr>\n",
       "      <th>0</th>\n",
       "      <td>Москва</td>\n",
       "      <td>12655</td>\n",
       "      <td>2.64</td>\n",
       "      <td>9.65</td>\n",
       "    </tr>\n",
       "    <tr>\n",
       "      <th>1</th>\n",
       "      <td>Санкт-Петербург</td>\n",
       "      <td>5384</td>\n",
       "      <td>3.02</td>\n",
       "      <td>9.90</td>\n",
       "    </tr>\n",
       "    <tr>\n",
       "      <th>2</th>\n",
       "      <td>Новосибирск</td>\n",
       "      <td>1620</td>\n",
       "      <td>2.27</td>\n",
       "      <td>9.83</td>\n",
       "    </tr>\n",
       "    <tr>\n",
       "      <th>3</th>\n",
       "      <td>Екатеринбург</td>\n",
       "      <td>1495</td>\n",
       "      <td>3.53</td>\n",
       "      <td>10.50</td>\n",
       "    </tr>\n",
       "    <tr>\n",
       "      <th>4</th>\n",
       "      <td>Казань</td>\n",
       "      <td>1257</td>\n",
       "      <td>3.29</td>\n",
       "      <td>9.78</td>\n",
       "    </tr>\n",
       "  </tbody>\n",
       "</table>\n",
       "</div>"
      ],
      "text/plain": [
       "              city  population  last5y_chg  last10y_chg\n",
       "0           Москва       12655        2.64         9.65\n",
       "1  Санкт-Петербург        5384        3.02         9.90\n",
       "2      Новосибирск        1620        2.27         9.83\n",
       "3     Екатеринбург        1495        3.53        10.50\n",
       "4           Казань        1257        3.29         9.78"
      ]
     },
     "execution_count": 17,
     "metadata": {},
     "output_type": "execute_result"
    }
   ],
   "source": [
    "df_popul.head()"
   ]
  },
  {
   "cell_type": "code",
   "execution_count": 18,
   "metadata": {
    "ExecuteTime": {
     "end_time": "2021-09-24T08:11:42.261601Z",
     "start_time": "2021-09-24T08:11:42.257575Z"
    }
   },
   "outputs": [],
   "source": [
    "# df_popul = pd.concat([df_popul, mo_df])"
   ]
  },
  {
   "cell_type": "code",
   "execution_count": 19,
   "metadata": {
    "ExecuteTime": {
     "end_time": "2021-09-24T08:11:42.561599Z",
     "start_time": "2021-09-24T08:11:42.557517Z"
    }
   },
   "outputs": [],
   "source": [
    "# mo_df.shape"
   ]
  },
  {
   "cell_type": "code",
   "execution_count": 20,
   "metadata": {
    "ExecuteTime": {
     "end_time": "2021-09-24T08:11:42.777266Z",
     "start_time": "2021-09-24T08:11:42.772914Z"
    }
   },
   "outputs": [],
   "source": [
    "# df_popul[df_popul.duplicated('city')] #это 100к!!!"
   ]
  },
  {
   "cell_type": "code",
   "execution_count": 21,
   "metadata": {
    "ExecuteTime": {
     "end_time": "2021-09-24T08:11:43.212343Z",
     "start_time": "2021-09-24T08:11:43.182856Z"
    }
   },
   "outputs": [
    {
     "data": {
      "text/html": [
       "<div>\n",
       "<style scoped>\n",
       "    .dataframe tbody tr th:only-of-type {\n",
       "        vertical-align: middle;\n",
       "    }\n",
       "\n",
       "    .dataframe tbody tr th {\n",
       "        vertical-align: top;\n",
       "    }\n",
       "\n",
       "    .dataframe thead th {\n",
       "        text-align: right;\n",
       "    }\n",
       "</style>\n",
       "<table border=\"1\" class=\"dataframe\">\n",
       "  <thead>\n",
       "    <tr style=\"text-align: right;\">\n",
       "      <th></th>\n",
       "      <th>address</th>\n",
       "      <th>postal_code</th>\n",
       "      <th>country</th>\n",
       "      <th>federal_district</th>\n",
       "      <th>region_type</th>\n",
       "      <th>region</th>\n",
       "      <th>area_type</th>\n",
       "      <th>area</th>\n",
       "      <th>city_type</th>\n",
       "      <th>city</th>\n",
       "      <th>settlement_type</th>\n",
       "      <th>settlement</th>\n",
       "      <th>kladr_id</th>\n",
       "      <th>fias_id</th>\n",
       "      <th>fias_level</th>\n",
       "      <th>capital_marker</th>\n",
       "      <th>okato</th>\n",
       "      <th>oktmo</th>\n",
       "      <th>tax_office</th>\n",
       "      <th>timezone</th>\n",
       "      <th>geo_lat</th>\n",
       "      <th>geo_lon</th>\n",
       "      <th>population</th>\n",
       "    </tr>\n",
       "  </thead>\n",
       "  <tbody>\n",
       "    <tr>\n",
       "      <th>435</th>\n",
       "      <td>Респ Крым, г Ялта</td>\n",
       "      <td>298600.0</td>\n",
       "      <td>Россия</td>\n",
       "      <td>Южный</td>\n",
       "      <td>Респ</td>\n",
       "      <td>Крым</td>\n",
       "      <td>NaN</td>\n",
       "      <td>NaN</td>\n",
       "      <td>г</td>\n",
       "      <td>Ялта</td>\n",
       "      <td>NaN</td>\n",
       "      <td>NaN</td>\n",
       "      <td>9100000800000</td>\n",
       "      <td>c64ea472-28c6-4242-968f-0e1a08830f8e</td>\n",
       "      <td>4</td>\n",
       "      <td>0</td>\n",
       "      <td>35419000000</td>\n",
       "      <td>35729000001</td>\n",
       "      <td>9103</td>\n",
       "      <td>UTC+3</td>\n",
       "      <td>44.495361</td>\n",
       "      <td>34.166308</td>\n",
       "      <td>76746</td>\n",
       "    </tr>\n",
       "    <tr>\n",
       "      <th>823</th>\n",
       "      <td>Свердловская обл, г Березовский</td>\n",
       "      <td>623700.0</td>\n",
       "      <td>Россия</td>\n",
       "      <td>Уральский</td>\n",
       "      <td>обл</td>\n",
       "      <td>Свердловская</td>\n",
       "      <td>NaN</td>\n",
       "      <td>NaN</td>\n",
       "      <td>г</td>\n",
       "      <td>Березовский</td>\n",
       "      <td>NaN</td>\n",
       "      <td>NaN</td>\n",
       "      <td>6600000300000</td>\n",
       "      <td>adf5df2b-2c2e-45a9-b971-05550353cf43</td>\n",
       "      <td>4</td>\n",
       "      <td>0</td>\n",
       "      <td>65412000000</td>\n",
       "      <td>65731000001</td>\n",
       "      <td>6678</td>\n",
       "      <td>UTC+5</td>\n",
       "      <td>56.909592</td>\n",
       "      <td>60.818091</td>\n",
       "      <td>51583</td>\n",
       "    </tr>\n",
       "    <tr>\n",
       "      <th>899</th>\n",
       "      <td>Ставропольский край, г Михайловск</td>\n",
       "      <td>356240.0</td>\n",
       "      <td>Россия</td>\n",
       "      <td>Северо-Кавказский</td>\n",
       "      <td>край</td>\n",
       "      <td>Ставропольский</td>\n",
       "      <td>р-н</td>\n",
       "      <td>Шпаковский</td>\n",
       "      <td>г</td>\n",
       "      <td>Михайловск</td>\n",
       "      <td>NaN</td>\n",
       "      <td>NaN</td>\n",
       "      <td>2602700100000</td>\n",
       "      <td>51007e5c-e430-4f18-912c-f88c7e73698d</td>\n",
       "      <td>4</td>\n",
       "      <td>1</td>\n",
       "      <td>7258501000</td>\n",
       "      <td>7658101</td>\n",
       "      <td>2600</td>\n",
       "      <td>UTC+3</td>\n",
       "      <td>45.129732</td>\n",
       "      <td>42.028844</td>\n",
       "      <td>71018</td>\n",
       "    </tr>\n",
       "    <tr>\n",
       "      <th>1055</th>\n",
       "      <td>Челябинская обл, г Озерск</td>\n",
       "      <td>456780.0</td>\n",
       "      <td>Россия</td>\n",
       "      <td>Уральский</td>\n",
       "      <td>обл</td>\n",
       "      <td>Челябинская</td>\n",
       "      <td>NaN</td>\n",
       "      <td>NaN</td>\n",
       "      <td>г</td>\n",
       "      <td>Озерск</td>\n",
       "      <td>NaN</td>\n",
       "      <td>NaN</td>\n",
       "      <td>7400001100000</td>\n",
       "      <td>8192c863-edbf-4825-8523-0612ae80e5a7</td>\n",
       "      <td>4</td>\n",
       "      <td>0</td>\n",
       "      <td>75543000000</td>\n",
       "      <td>75743000001</td>\n",
       "      <td>7413</td>\n",
       "      <td>UTC+5</td>\n",
       "      <td>55.763154</td>\n",
       "      <td>60.707620</td>\n",
       "      <td>82268</td>\n",
       "    </tr>\n",
       "  </tbody>\n",
       "</table>\n",
       "</div>"
      ],
      "text/plain": [
       "                                address  postal_code country  \\\n",
       "435                   Респ Крым, г Ялта     298600.0  Россия   \n",
       "823     Свердловская обл, г Березовский     623700.0  Россия   \n",
       "899   Ставропольский край, г Михайловск     356240.0  Россия   \n",
       "1055          Челябинская обл, г Озерск     456780.0  Россия   \n",
       "\n",
       "       federal_district region_type          region area_type        area  \\\n",
       "435               Южный        Респ            Крым       NaN         NaN   \n",
       "823           Уральский         обл    Свердловская       NaN         NaN   \n",
       "899   Северо-Кавказский        край  Ставропольский       р-н  Шпаковский   \n",
       "1055          Уральский         обл     Челябинская       NaN         NaN   \n",
       "\n",
       "     city_type         city settlement_type settlement       kladr_id  \\\n",
       "435          г         Ялта             NaN        NaN  9100000800000   \n",
       "823          г  Березовский             NaN        NaN  6600000300000   \n",
       "899          г   Михайловск             NaN        NaN  2602700100000   \n",
       "1055         г       Озерск             NaN        NaN  7400001100000   \n",
       "\n",
       "                                   fias_id  fias_level  capital_marker  \\\n",
       "435   c64ea472-28c6-4242-968f-0e1a08830f8e           4               0   \n",
       "823   adf5df2b-2c2e-45a9-b971-05550353cf43           4               0   \n",
       "899   51007e5c-e430-4f18-912c-f88c7e73698d           4               1   \n",
       "1055  8192c863-edbf-4825-8523-0612ae80e5a7           4               0   \n",
       "\n",
       "            okato        oktmo  tax_office timezone    geo_lat    geo_lon  \\\n",
       "435   35419000000  35729000001        9103    UTC+3  44.495361  34.166308   \n",
       "823   65412000000  65731000001        6678    UTC+5  56.909592  60.818091   \n",
       "899    7258501000      7658101        2600    UTC+3  45.129732  42.028844   \n",
       "1055  75543000000  75743000001        7413    UTC+5  55.763154  60.707620   \n",
       "\n",
       "      population  \n",
       "435        76746  \n",
       "823        51583  \n",
       "899        71018  \n",
       "1055       82268  "
      ]
     },
     "execution_count": 21,
     "metadata": {},
     "output_type": "execute_result"
    }
   ],
   "source": [
    "cities[(cities.duplicated('city')) & (cities.population > 50000)]"
   ]
  },
  {
   "cell_type": "code",
   "execution_count": 22,
   "metadata": {
    "ExecuteTime": {
     "end_time": "2021-09-24T08:11:48.003431Z",
     "start_time": "2021-09-24T08:11:47.986803Z"
    }
   },
   "outputs": [],
   "source": [
    "cities_upd = cities.merge(df_popul, how='inner', on='city').drop('population_x', axis=1).rename(columns={'population_y': 'population'})"
   ]
  },
  {
   "cell_type": "code",
   "execution_count": 23,
   "metadata": {
    "ExecuteTime": {
     "end_time": "2021-09-24T08:11:48.208639Z",
     "start_time": "2021-09-24T08:11:48.190110Z"
    }
   },
   "outputs": [
    {
     "data": {
      "text/html": [
       "<div>\n",
       "<style scoped>\n",
       "    .dataframe tbody tr th:only-of-type {\n",
       "        vertical-align: middle;\n",
       "    }\n",
       "\n",
       "    .dataframe tbody tr th {\n",
       "        vertical-align: top;\n",
       "    }\n",
       "\n",
       "    .dataframe thead th {\n",
       "        text-align: right;\n",
       "    }\n",
       "</style>\n",
       "<table border=\"1\" class=\"dataframe\">\n",
       "  <thead>\n",
       "    <tr style=\"text-align: right;\">\n",
       "      <th></th>\n",
       "      <th>address</th>\n",
       "      <th>postal_code</th>\n",
       "      <th>country</th>\n",
       "      <th>federal_district</th>\n",
       "      <th>region_type</th>\n",
       "      <th>region</th>\n",
       "      <th>area_type</th>\n",
       "      <th>area</th>\n",
       "      <th>city_type</th>\n",
       "      <th>city</th>\n",
       "      <th>settlement_type</th>\n",
       "      <th>settlement</th>\n",
       "      <th>kladr_id</th>\n",
       "      <th>fias_id</th>\n",
       "      <th>fias_level</th>\n",
       "      <th>capital_marker</th>\n",
       "      <th>okato</th>\n",
       "      <th>oktmo</th>\n",
       "      <th>tax_office</th>\n",
       "      <th>timezone</th>\n",
       "      <th>geo_lat</th>\n",
       "      <th>geo_lon</th>\n",
       "      <th>population</th>\n",
       "      <th>last5y_chg</th>\n",
       "      <th>last10y_chg</th>\n",
       "    </tr>\n",
       "  </thead>\n",
       "  <tbody>\n",
       "  </tbody>\n",
       "</table>\n",
       "</div>"
      ],
      "text/plain": [
       "Empty DataFrame\n",
       "Columns: [address, postal_code, country, federal_district, region_type, region, area_type, area, city_type, city, settlement_type, settlement, kladr_id, fias_id, fias_level, capital_marker, okato, oktmo, tax_office, timezone, geo_lat, geo_lon, population, last5y_chg, last10y_chg]\n",
       "Index: []"
      ]
     },
     "execution_count": 23,
     "metadata": {},
     "output_type": "execute_result"
    }
   ],
   "source": [
    "cities_upd[cities_upd.duplicated(['city'])]"
   ]
  },
  {
   "cell_type": "code",
   "execution_count": 24,
   "metadata": {
    "ExecuteTime": {
     "end_time": "2021-09-24T08:11:48.428391Z",
     "start_time": "2021-09-24T08:11:48.421047Z"
    }
   },
   "outputs": [
    {
     "data": {
      "text/plain": [
       "(171, 25)"
      ]
     },
     "execution_count": 24,
     "metadata": {},
     "output_type": "execute_result"
    }
   ],
   "source": [
    "cities_upd.shape"
   ]
  },
  {
   "cell_type": "markdown",
   "metadata": {},
   "source": [
    "# MAIN"
   ]
  },
  {
   "cell_type": "code",
   "execution_count": 328,
   "metadata": {
    "ExecuteTime": {
     "end_time": "2021-09-24T12:02:10.781242Z",
     "start_time": "2021-09-24T12:02:10.644467Z"
    }
   },
   "outputs": [
    {
     "name": "stdout",
     "output_type": "stream",
     "text": [
      "bar_over.geojson                   omsnx_city_dict_restaurant_ALL.pickle\r\n",
      "cafe_over.geojson                  omsnx_city_dict_school_ALL.pickle\r\n",
      "omsnx_city_dict_bar_ALL.pickle     omsnx_city_dict_station.pickle\r\n",
      "omsnx_city_dict_cafe_ALL.pickle    omsnx_city_dict_stop_position.pickle\r\n",
      "omsnx_city_dict_commercial.pickle  omsnx_city_dict_supermarket.pickle\r\n",
      "omsnx_city_dict_fuel.pickle        pub_over.geojson\r\n",
      "omsnx_city_dict_office.pickle      restaurant_over.geojson\r\n",
      "omsnx_city_dict_pub_ALL.pickle     school_over.geojson\r\n"
     ]
    }
   ],
   "source": [
    "ls overpass_out"
   ]
  },
  {
   "cell_type": "code",
   "execution_count": null,
   "metadata": {},
   "outputs": [],
   "source": [
    "# city_dict_fuel = overapass_dict(cities_upd, 'amenity', 'fuel')\n",
    "# city_dict_school = overapass_dict(cities_upd, 'amenity', 'school')\n",
    "# city_dict_restaurant = overapass_dict(cities_upd, 'amenity', 'restaurant')\n",
    "\n",
    "# city_dict_pub = overapass_dict(cities_upd, 'amenity', 'pub')\n",
    "# city_dict_bar = overapass_dict(cities_upd, 'amenity', 'bar')\n",
    "# city_dict_cafe = overapass_dict(cities_upd, 'amenity', 'cafe')\n",
    "\n",
    "\n",
    "# city_dict_stop_position = overapass_dict(cities_upd, 'public_transport', 'stop_position') # автобус, трамвай\n",
    "# city_dict_station = overapass_dict(cities_upd, 'public_transport', 'station') # метро\n",
    "\n",
    "# city_dict_supermarket = overapass_dict(cities_upd, 'shop', 'supermarket') # supermarket\n",
    "\n",
    "# city_dict_office = overapass_dict(cities_upd, 'building', 'office')\n",
    "# city_dict_commercial = overapass_dict(cities_upd, 'building', 'commercial')"
   ]
  },
  {
   "cell_type": "code",
   "execution_count": 497,
   "metadata": {
    "ExecuteTime": {
     "end_time": "2021-09-24T13:02:13.234014Z",
     "start_time": "2021-09-24T13:02:10.452354Z"
    }
   },
   "outputs": [],
   "source": [
    "nm = 'omsnx_city_dict_stop_position'\n",
    "amnt = 'stop_position'\n",
    "bar = pd.read_pickle(f'overpass_out/{nm}.pickle')"
   ]
  },
  {
   "cell_type": "code",
   "execution_count": 498,
   "metadata": {
    "ExecuteTime": {
     "end_time": "2021-09-24T13:02:16.000409Z",
     "start_time": "2021-09-24T13:02:15.992419Z"
    }
   },
   "outputs": [
    {
     "data": {
      "text/plain": [
       "{'Артем',\n",
       " 'Королев',\n",
       " 'Курган',\n",
       " 'Орел',\n",
       " 'Ставрополь',\n",
       " 'Томск',\n",
       " 'Хабаровск',\n",
       " 'Щелково'}"
      ]
     },
     "execution_count": 498,
     "metadata": {},
     "output_type": "execute_result"
    }
   ],
   "source": [
    "set(cities_upd.city)-set(list(bar.keys()))"
   ]
  },
  {
   "cell_type": "code",
   "execution_count": 499,
   "metadata": {
    "ExecuteTime": {
     "end_time": "2021-09-24T13:02:27.713722Z",
     "start_time": "2021-09-24T13:02:27.494855Z"
    },
    "scrolled": true
   },
   "outputs": [
    {
     "name": "stdout",
     "output_type": "stream",
     "text": [
      "Нефтекамск 1\n",
      "Октябрьский 4\n",
      "Стерлитамак 1\n",
      "Волжский 2\n",
      "Камышин 1\n",
      "Дербент 3\n",
      "Элиста 3\n",
      "Обнинск 2\n",
      "Киров 1\n",
      "Армавир 4\n",
      "Ачинск 3\n",
      "Железногорск 1\n",
      "Елец 1\n",
      "Ногинск 1\n",
      "Электросталь 3\n",
      "Оренбург 4\n",
      "Балаково 2\n",
      "Энгельс 3\n",
      "Невинномысск 1\n",
      "Северск 3\n",
      "Нижневартовск 4\n",
      "Копейск 1\n",
      "Грозный 1\n",
      "Новый Уренгой 3\n"
     ]
    }
   ],
   "source": [
    "over_search = []\n",
    "for k in bar.keys():\n",
    "    try:\n",
    "        bar[k].element_type.value_counts()\n",
    "        if bar[k].element_type.value_counts().sum()<5:\n",
    "            print(k, bar[k].element_type.value_counts().sum())\n",
    "#         print('\\n')\n",
    "    except:\n",
    "        over_search.append(k)"
   ]
  },
  {
   "cell_type": "code",
   "execution_count": 500,
   "metadata": {
    "ExecuteTime": {
     "end_time": "2021-09-24T13:02:33.110102Z",
     "start_time": "2021-09-24T13:02:33.101297Z"
    },
    "scrolled": true
   },
   "outputs": [
    {
     "data": {
      "text/plain": [
       "['Рубцовск',\n",
       " 'Благовещенск',\n",
       " 'Северодвинск',\n",
       " 'Уфа',\n",
       " 'Брянск',\n",
       " 'Каспийск',\n",
       " 'Хасавюрт',\n",
       " 'Назрань',\n",
       " 'Красноярск',\n",
       " 'Липецк',\n",
       " 'Саранск',\n",
       " 'Подольск',\n",
       " 'Дзержинск',\n",
       " 'Нижний Новгород',\n",
       " 'Пенза',\n",
       " 'Находка',\n",
       " 'Альметьевск',\n",
       " 'Зеленодольск',\n",
       " 'Кызыл',\n",
       " 'Нефтеюганск',\n",
       " 'Ханты-Мансийск',\n",
       " 'Якутск']"
      ]
     },
     "execution_count": 500,
     "metadata": {},
     "output_type": "execute_result"
    }
   ],
   "source": [
    "over_search"
   ]
  },
  {
   "cell_type": "code",
   "execution_count": 501,
   "metadata": {
    "ExecuteTime": {
     "end_time": "2021-09-24T13:07:44.805831Z",
     "start_time": "2021-09-24T13:02:53.225102Z"
    }
   },
   "outputs": [],
   "source": [
    "bar['Уфа'] = ox.geometries_from_place('Уфа,  Россия', {\"public_transport\": amnt}).reset_index()\n",
    "bar['Брянск'] = ox.geometries_from_place('Брянск,  Брянская Область, Россия', {\"public_transport\": amnt}).reset_index()\n",
    "bar['Красноярск'] = ox.geometries_from_place('Красноярск,  Россия', {\"public_transport\": amnt}).reset_index()\n",
    "bar['Липецк'] = ox.geometries_from_place('Lipetsk', {\"public_transport\": amnt}).reset_index()\n",
    "bar['Нижний Новгород'] = ox.geometries_from_place('Nizhny Novgorod', {\"public_transport\": amnt}).reset_index()\n",
    "bar['Саранск'] = ox.geometries_from_place('город Саранск', {\"public_transport\": amnt}).reset_index()\n",
    "\n",
    "bar['Хабаровск'] = ox.geometries_from_place('Хабаровск, Хабаровский край, Россия', {\"public_transport\": amnt}).reset_index()\n",
    "bar['Волжский'] = ox.geometries_from_place('город Волжский, Россия', {\"public_transport\": amnt}).reset_index()\n",
    "bar['Дзержинск'] = ox.geometries_from_place('Dzerzhinsk', {\"public_transport\": amnt}).reset_index()"
   ]
  },
  {
   "cell_type": "code",
   "execution_count": 478,
   "metadata": {
    "ExecuteTime": {
     "end_time": "2021-09-24T12:56:01.146132Z",
     "start_time": "2021-09-24T12:56:01.141740Z"
    }
   },
   "outputs": [],
   "source": [
    "# ox.geometries_from_place('Томск, Россия', {\"building\": amnt}).reset_index()"
   ]
  },
  {
   "cell_type": "code",
   "execution_count": 479,
   "metadata": {
    "ExecuteTime": {
     "end_time": "2021-09-24T12:56:01.381707Z",
     "start_time": "2021-09-24T12:56:01.377304Z"
    }
   },
   "outputs": [],
   "source": [
    "# bar['Санкт-Петербург'] = gpd.read_file('overpass_out/peter_cafe.geojson')"
   ]
  },
  {
   "cell_type": "code",
   "execution_count": 502,
   "metadata": {
    "ExecuteTime": {
     "end_time": "2021-09-24T13:07:44.809895Z",
     "start_time": "2021-09-24T13:07:44.807640Z"
    }
   },
   "outputs": [],
   "source": [
    "# assert len(ox.geometries_from_place('Saint Petersburgг', {\"amenity\": amnt}).reset_index())>0\n",
    "assert len(bar['Санкт-Петербург'])>0"
   ]
  },
  {
   "cell_type": "code",
   "execution_count": 503,
   "metadata": {
    "ExecuteTime": {
     "end_time": "2021-09-24T13:07:44.814570Z",
     "start_time": "2021-09-24T13:07:44.811428Z"
    }
   },
   "outputs": [],
   "source": [
    "# Томск\n",
    "# Ставрополь\n",
    "\n",
    "# Находка\n",
    "\n",
    "# Нефтекамск\n",
    "# Дербент\n",
    "# Назрань\n",
    "# Зеленодольск\n",
    "# Нижнекамск\n",
    "# Димитровград"
   ]
  },
  {
   "cell_type": "code",
   "execution_count": 504,
   "metadata": {
    "ExecuteTime": {
     "end_time": "2021-09-24T13:07:45.373242Z",
     "start_time": "2021-09-24T13:07:44.815880Z"
    }
   },
   "outputs": [],
   "source": [
    "import pickle\n",
    "with open(f'overpass_out/{nm}.pickle', 'wb') as handle:\n",
    "    pickle.dump(bar, handle, protocol=pickle.HIGHEST_PROTOCOL)"
   ]
  },
  {
   "cell_type": "code",
   "execution_count": null,
   "metadata": {},
   "outputs": [],
   "source": []
  },
  {
   "cell_type": "code",
   "execution_count": 140,
   "metadata": {
    "ExecuteTime": {
     "end_time": "2021-09-24T09:26:23.750314Z",
     "start_time": "2021-09-24T09:26:23.716648Z"
    }
   },
   "outputs": [
    {
     "data": {
      "text/plain": [
       "(58, 38)"
      ]
     },
     "execution_count": 140,
     "metadata": {},
     "output_type": "execute_result"
    }
   ],
   "source": [
    "sss[sss.name.notnull()].shape"
   ]
  },
  {
   "cell_type": "code",
   "execution_count": 506,
   "metadata": {
    "ExecuteTime": {
     "end_time": "2021-09-24T13:09:46.676563Z",
     "start_time": "2021-09-24T13:09:46.672514Z"
    }
   },
   "outputs": [],
   "source": [
    "# bar1['Москва']#['element_type']#.value_counts()"
   ]
  },
  {
   "cell_type": "code",
   "execution_count": 511,
   "metadata": {
    "ExecuteTime": {
     "end_time": "2021-09-24T13:10:22.530586Z",
     "start_time": "2021-09-24T13:10:22.383074Z"
    }
   },
   "outputs": [
    {
     "name": "stdout",
     "output_type": "stream",
     "text": [
      "omsnx_city_dict_bar_ALL.pickle         omsnx_city_dict_restaurant_ALL.pickle\r\n",
      "omsnx_city_dict_cafe_ALL.pickle        omsnx_city_dict_school_ALL.pickle\r\n",
      "omsnx_city_dict_commercial_ALL.pickle  omsnx_city_dict_station_ALL.pickle\r\n",
      "omsnx_city_dict_fuel_ALL.pickle        omsnx_city_dict_stop_position_ALL.pickle\r\n",
      "omsnx_city_dict_office_ALL.pickle      omsnx_city_dict_supermarket_ALL.pickle\r\n",
      "omsnx_city_dict_pub_ALL.pickle\r\n"
     ]
    }
   ],
   "source": [
    "ls overpass_out"
   ]
  },
  {
   "cell_type": "markdown",
   "metadata": {},
   "source": [
    "# main-2"
   ]
  },
  {
   "cell_type": "code",
   "execution_count": 514,
   "metadata": {
    "ExecuteTime": {
     "end_time": "2021-09-24T13:11:04.637037Z",
     "start_time": "2021-09-24T13:11:02.220901Z"
    }
   },
   "outputs": [],
   "source": [
    "bar = pd.read_pickle('overpass_out/omsnx_city_dict_bar_ALL.pickle')"
   ]
  },
  {
   "cell_type": "code",
   "execution_count": 537,
   "metadata": {
    "ExecuteTime": {
     "end_time": "2021-09-24T13:21:37.014887Z",
     "start_time": "2021-09-24T13:21:37.009083Z"
    }
   },
   "outputs": [],
   "source": [
    "import numpy as np"
   ]
  },
  {
   "cell_type": "code",
   "execution_count": 539,
   "metadata": {
    "ExecuteTime": {
     "end_time": "2021-09-24T13:23:14.928942Z",
     "start_time": "2021-09-24T13:22:29.684380Z"
    }
   },
   "outputs": [
    {
     "name": "stderr",
     "output_type": "stream",
     "text": [
      "100%|██████████| 171/171 [00:45<00:00,  3.78it/s]\n"
     ]
    }
   ],
   "source": [
    "bar_df = pd.DataFrame()\n",
    "for k in tqdm(list(bar.keys())):\n",
    "    bar_df_city = bar[k]\n",
    "    if len(bar_df_city)>0:\n",
    "        bar_df_city['city'] = k\n",
    "        if 'name' not in bar_df_city.columns:\n",
    "            bar_df_city['name'] = np.nan\n",
    "        bar_df_city = bar_df_city[['city', 'element_type', 'amenity', 'osmid', 'amenity', 'name', 'geometry']]\n",
    "        bar_df = pd.concat([bar_df, bar_df_city])"
   ]
  },
  {
   "cell_type": "code",
   "execution_count": 544,
   "metadata": {
    "ExecuteTime": {
     "end_time": "2021-09-24T13:25:25.724006Z",
     "start_time": "2021-09-24T13:25:25.567890Z"
    }
   },
   "outputs": [
    {
     "data": {
      "text/html": [
       "<div>\n",
       "<style scoped>\n",
       "    .dataframe tbody tr th:only-of-type {\n",
       "        vertical-align: middle;\n",
       "    }\n",
       "\n",
       "    .dataframe tbody tr th {\n",
       "        vertical-align: top;\n",
       "    }\n",
       "\n",
       "    .dataframe thead th {\n",
       "        text-align: right;\n",
       "    }\n",
       "</style>\n",
       "<table border=\"1\" class=\"dataframe\">\n",
       "  <thead>\n",
       "    <tr style=\"text-align: right;\">\n",
       "      <th></th>\n",
       "      <th>city</th>\n",
       "      <th>element_type</th>\n",
       "      <th>amenity</th>\n",
       "      <th>osmid</th>\n",
       "      <th>amenity</th>\n",
       "      <th>name</th>\n",
       "      <th>geometry</th>\n",
       "    </tr>\n",
       "  </thead>\n",
       "  <tbody>\n",
       "    <tr>\n",
       "      <th>5</th>\n",
       "      <td>Хабаровск</td>\n",
       "      <td>node</td>\n",
       "      <td>bar</td>\n",
       "      <td>4427238689</td>\n",
       "      <td>bar</td>\n",
       "      <td>NaN</td>\n",
       "      <td>POINT (135.06569 48.46516)</td>\n",
       "    </tr>\n",
       "    <tr>\n",
       "      <th>6</th>\n",
       "      <td>Хабаровск</td>\n",
       "      <td>node</td>\n",
       "      <td>bar</td>\n",
       "      <td>4481622593</td>\n",
       "      <td>bar</td>\n",
       "      <td>Допинг Бар</td>\n",
       "      <td>POINT (135.05221 48.47428)</td>\n",
       "    </tr>\n",
       "    <tr>\n",
       "      <th>7</th>\n",
       "      <td>Хабаровск</td>\n",
       "      <td>node</td>\n",
       "      <td>bar</td>\n",
       "      <td>5154590542</td>\n",
       "      <td>bar</td>\n",
       "      <td>KhaBpub</td>\n",
       "      <td>POINT (135.11118 48.38161)</td>\n",
       "    </tr>\n",
       "    <tr>\n",
       "      <th>8</th>\n",
       "      <td>Хабаровск</td>\n",
       "      <td>way</td>\n",
       "      <td>bar</td>\n",
       "      <td>268572451</td>\n",
       "      <td>bar</td>\n",
       "      <td>NaN</td>\n",
       "      <td>POLYGON ((135.08198 48.46967, 135.08206 48.469...</td>\n",
       "    </tr>\n",
       "    <tr>\n",
       "      <th>9</th>\n",
       "      <td>Хабаровск</td>\n",
       "      <td>way</td>\n",
       "      <td>bar</td>\n",
       "      <td>544760183</td>\n",
       "      <td>bar</td>\n",
       "      <td>NaN</td>\n",
       "      <td>POLYGON ((135.11122 48.38172, 135.11110 48.381...</td>\n",
       "    </tr>\n",
       "  </tbody>\n",
       "</table>\n",
       "</div>"
      ],
      "text/plain": [
       "        city element_type amenity       osmid amenity        name  \\\n",
       "5  Хабаровск         node     bar  4427238689     bar         NaN   \n",
       "6  Хабаровск         node     bar  4481622593     bar  Допинг Бар   \n",
       "7  Хабаровск         node     bar  5154590542     bar     KhaBpub   \n",
       "8  Хабаровск          way     bar   268572451     bar         NaN   \n",
       "9  Хабаровск          way     bar   544760183     bar         NaN   \n",
       "\n",
       "                                            geometry  \n",
       "5                         POINT (135.06569 48.46516)  \n",
       "6                         POINT (135.05221 48.47428)  \n",
       "7                         POINT (135.11118 48.38161)  \n",
       "8  POLYGON ((135.08198 48.46967, 135.08206 48.469...  \n",
       "9  POLYGON ((135.11122 48.38172, 135.11110 48.381...  "
      ]
     },
     "execution_count": 544,
     "metadata": {},
     "output_type": "execute_result"
    }
   ],
   "source": [
    "bar_df.tail()"
   ]
  },
  {
   "cell_type": "code",
   "execution_count": 546,
   "metadata": {
    "ExecuteTime": {
     "end_time": "2021-09-24T13:26:03.345307Z",
     "start_time": "2021-09-24T13:26:03.275344Z"
    }
   },
   "outputs": [
    {
     "name": "stderr",
     "output_type": "stream",
     "text": [
      "/home/atuthvatullin/environments/albert/lib/python3.6/site-packages/ipykernel_launcher.py:1: UserWarning: Geometry is in a geographic CRS. Results from 'centroid' are likely incorrect. Use 'GeoSeries.to_crs()' to re-project geometries to a projected CRS before this operation.\n",
      "\n",
      "  \"\"\"Entry point for launching an IPython kernel.\n"
     ]
    }
   ],
   "source": [
    "bar_df['center'] = bar_df.geometry.centroid"
   ]
  },
  {
   "cell_type": "code",
   "execution_count": 560,
   "metadata": {
    "ExecuteTime": {
     "end_time": "2021-09-24T13:27:36.444222Z",
     "start_time": "2021-09-24T13:27:36.432550Z"
    }
   },
   "outputs": [
    {
     "data": {
      "text/plain": [
       "'POINT (40.1259685 44.584235)'"
      ]
     },
     "execution_count": 560,
     "metadata": {},
     "output_type": "execute_result"
    }
   ],
   "source": [
    "str(bar_df['center'].values[0])"
   ]
  },
  {
   "cell_type": "code",
   "execution_count": 572,
   "metadata": {
    "ExecuteTime": {
     "end_time": "2021-09-24T13:29:21.247682Z",
     "start_time": "2021-09-24T13:29:21.239170Z"
    }
   },
   "outputs": [
    {
     "data": {
      "text/plain": [
       "(array('d', [40.1259685]), array('d', [44.584235]))"
      ]
     },
     "execution_count": 572,
     "metadata": {},
     "output_type": "execute_result"
    }
   ],
   "source": [
    "bar_df['center'].values[0].coords.xy"
   ]
  },
  {
   "cell_type": "code",
   "execution_count": 580,
   "metadata": {
    "ExecuteTime": {
     "end_time": "2021-09-24T13:30:17.763221Z",
     "start_time": "2021-09-24T13:30:17.681882Z"
    }
   },
   "outputs": [],
   "source": [
    "bar_df['center'] = bar_df['center'].apply(lambda x: (x.coords.xy[1][0], x.coords.xy[0][0]))"
   ]
  },
  {
   "cell_type": "code",
   "execution_count": 584,
   "metadata": {
    "ExecuteTime": {
     "end_time": "2021-09-24T13:36:12.692673Z",
     "start_time": "2021-09-24T13:36:12.676061Z"
    }
   },
   "outputs": [],
   "source": [
    "bar_df['lat'] = bar_df['center'].apply(lambda x: x[0])\n",
    "bar_df['lon'] = bar_df['center'].apply(lambda x: x[0])"
   ]
  },
  {
   "cell_type": "code",
   "execution_count": 589,
   "metadata": {
    "ExecuteTime": {
     "end_time": "2021-09-24T13:38:24.399745Z",
     "start_time": "2021-09-24T13:38:24.163845Z"
    }
   },
   "outputs": [],
   "source": [
    "bar_df.to_csv('overpass_out/omsnx_city_dict_bar_ALL_DF.csv', index=False)"
   ]
  },
  {
   "cell_type": "markdown",
   "metadata": {},
   "source": [
    "# overpass"
   ]
  },
  {
   "cell_type": "code",
   "execution_count": 110,
   "metadata": {
    "ExecuteTime": {
     "end_time": "2021-09-24T09:04:06.368303Z",
     "start_time": "2021-09-24T09:04:06.361000Z"
    }
   },
   "outputs": [],
   "source": [
    "import overpy\n",
    "from tqdm import tqdm\n",
    "import time\n",
    "\n",
    "api = overpy.Overpass()"
   ]
  },
  {
   "cell_type": "code",
   "execution_count": 26,
   "metadata": {
    "ExecuteTime": {
     "end_time": "2021-09-24T08:11:52.123477Z",
     "start_time": "2021-09-24T08:11:52.119524Z"
    }
   },
   "outputs": [],
   "source": [
    "# area[\"ISO3166-1\"=\"DE\"][admin_level=2];\n",
    "# out skel qt;\n",
    "# area[name=\"Россия\"];"
   ]
  },
  {
   "cell_type": "code",
   "execution_count": null,
   "metadata": {
    "ExecuteTime": {
     "end_time": "2021-09-21T20:31:37.402293Z",
     "start_time": "2021-09-21T20:31:37.396939Z"
    }
   },
   "outputs": [],
   "source": []
  },
  {
   "cell_type": "code",
   "execution_count": 27,
   "metadata": {
    "ExecuteTime": {
     "end_time": "2021-09-24T08:11:53.399705Z",
     "start_time": "2021-09-24T08:11:53.389354Z"
    }
   },
   "outputs": [],
   "source": [
    "def overpass_city(city, tip, place):\n",
    "    \n",
    "    overpass_url = \"http://overpass-api.de/api/interpreter\"\n",
    "    tip = '\"' + tip + '\"'\n",
    "    place = '\"' + place + '\"'\n",
    "    city = '\"' + city + '\"'\n",
    "    \n",
    "    overpass_query = \"\"\"\n",
    "        [out:json];\n",
    "        area[name=\"\"\"+city+\"\"\"];\n",
    "        (\n",
    "          node[\"\"\"+tip+\"\"\"=\"\"\"+place+\"\"\"](area);\n",
    "        );\n",
    "        out;\n",
    "        \n",
    "        \"\"\"\n",
    "    response = requests.get(overpass_url, \n",
    "                        params={'data': overpass_query})\n",
    "    try:\n",
    "        data = response.json()\n",
    "    except:\n",
    "        return None\n",
    "    return data"
   ]
  },
  {
   "cell_type": "code",
   "execution_count": 28,
   "metadata": {
    "ExecuteTime": {
     "end_time": "2021-09-24T08:11:54.477304Z",
     "start_time": "2021-09-24T08:11:54.466541Z"
    }
   },
   "outputs": [],
   "source": [
    "def overapass_dict(df, tip, place):\n",
    "\n",
    "    city_dict = {}\n",
    "    \n",
    "\n",
    "    for city in tqdm(df.city):\n",
    "\n",
    "        if city in ['Королев', 'Артем', 'Щелково', 'Орел']:\n",
    "            city = city.replace('е', \"ё\")\n",
    "\n",
    "        try:\n",
    "            time.sleep(30)\n",
    "            Data = overpass_city(city, tip, place)\n",
    "\n",
    "        except:\n",
    "            time.sleep(60)\n",
    "            Data = overpass_city(city, tip, place)\n",
    "\n",
    "        city = city.replace('\"', '')\n",
    "        city_dict[city] = Data\n",
    "        \n",
    "    return city_dict"
   ]
  },
  {
   "cell_type": "code",
   "execution_count": 29,
   "metadata": {
    "ExecuteTime": {
     "end_time": "2021-09-24T08:11:54.723992Z",
     "start_time": "2021-09-24T08:11:54.719356Z"
    }
   },
   "outputs": [],
   "source": [
    "# fuel_l = []\n",
    "# for k in city_dict_fuel.keys():\n",
    "#     fuel_l.append([k, len(city_dict_fuel[k]['elements'])])\n",
    "# fuel_df = pd.DataFrame(fuel_l, columns = ['city', 'cnt'])\n",
    "# fuel_df = fuel_df.sort_values('cnt', ascending=False)"
   ]
  },
  {
   "cell_type": "code",
   "execution_count": 30,
   "metadata": {
    "ExecuteTime": {
     "end_time": "2021-09-24T08:11:54.990816Z",
     "start_time": "2021-09-24T08:11:54.987716Z"
    },
    "scrolled": true
   },
   "outputs": [],
   "source": [
    "# fuel_df[fuel_df.cnt<10]"
   ]
  },
  {
   "cell_type": "code",
   "execution_count": 31,
   "metadata": {
    "ExecuteTime": {
     "end_time": "2021-09-24T08:11:56.012814Z",
     "start_time": "2021-09-24T08:11:56.008373Z"
    }
   },
   "outputs": [],
   "source": [
    "city_dict_stop_position = {}"
   ]
  },
  {
   "cell_type": "code",
   "execution_count": 32,
   "metadata": {
    "ExecuteTime": {
     "end_time": "2021-09-24T08:12:02.780130Z",
     "start_time": "2021-09-24T08:11:56.353433Z"
    }
   },
   "outputs": [
    {
     "name": "stderr",
     "output_type": "stream",
     "text": [
      "  0%|          | 0/171 [00:06<?, ?it/s]\n"
     ]
    },
    {
     "ename": "KeyboardInterrupt",
     "evalue": "",
     "output_type": "error",
     "traceback": [
      "\u001b[0;31m---------------------------------------------------------------------------\u001b[0m",
      "\u001b[0;31mKeyboardInterrupt\u001b[0m                         Traceback (most recent call last)",
      "\u001b[0;32m<ipython-input-32-c0db36dc4acf>\u001b[0m in \u001b[0;36m<module>\u001b[0;34m\u001b[0m\n\u001b[1;32m      9\u001b[0m     \u001b[0;32mtry\u001b[0m\u001b[0;34m:\u001b[0m\u001b[0;34m\u001b[0m\u001b[0;34m\u001b[0m\u001b[0m\n\u001b[0;32m---> 10\u001b[0;31m         \u001b[0mtime\u001b[0m\u001b[0;34m.\u001b[0m\u001b[0msleep\u001b[0m\u001b[0;34m(\u001b[0m\u001b[0;36m30\u001b[0m\u001b[0;34m)\u001b[0m\u001b[0;34m\u001b[0m\u001b[0;34m\u001b[0m\u001b[0m\n\u001b[0m\u001b[1;32m     11\u001b[0m         \u001b[0mData\u001b[0m \u001b[0;34m=\u001b[0m \u001b[0moverpass_city\u001b[0m\u001b[0;34m(\u001b[0m\u001b[0mcity\u001b[0m\u001b[0;34m,\u001b[0m \u001b[0mtip\u001b[0m\u001b[0;34m,\u001b[0m \u001b[0mplace\u001b[0m\u001b[0;34m)\u001b[0m\u001b[0;34m\u001b[0m\u001b[0;34m\u001b[0m\u001b[0m\n",
      "\u001b[0;31mKeyboardInterrupt\u001b[0m: ",
      "\nDuring handling of the above exception, another exception occurred:\n",
      "\u001b[0;31mKeyboardInterrupt\u001b[0m                         Traceback (most recent call last)",
      "\u001b[0;32m<ipython-input-32-c0db36dc4acf>\u001b[0m in \u001b[0;36m<module>\u001b[0;34m\u001b[0m\n\u001b[1;32m     12\u001b[0m \u001b[0;34m\u001b[0m\u001b[0m\n\u001b[1;32m     13\u001b[0m     \u001b[0;32mexcept\u001b[0m\u001b[0;34m:\u001b[0m\u001b[0;34m\u001b[0m\u001b[0;34m\u001b[0m\u001b[0m\n\u001b[0;32m---> 14\u001b[0;31m         \u001b[0mtime\u001b[0m\u001b[0;34m.\u001b[0m\u001b[0msleep\u001b[0m\u001b[0;34m(\u001b[0m\u001b[0;36m60\u001b[0m\u001b[0;34m)\u001b[0m\u001b[0;34m\u001b[0m\u001b[0;34m\u001b[0m\u001b[0m\n\u001b[0m\u001b[1;32m     15\u001b[0m         \u001b[0mData\u001b[0m \u001b[0;34m=\u001b[0m \u001b[0moverpass_city\u001b[0m\u001b[0;34m(\u001b[0m\u001b[0mcity\u001b[0m\u001b[0;34m,\u001b[0m \u001b[0mtip\u001b[0m\u001b[0;34m,\u001b[0m \u001b[0mplace\u001b[0m\u001b[0;34m)\u001b[0m\u001b[0;34m\u001b[0m\u001b[0;34m\u001b[0m\u001b[0m\n\u001b[1;32m     16\u001b[0m \u001b[0;34m\u001b[0m\u001b[0m\n",
      "\u001b[0;31mKeyboardInterrupt\u001b[0m: "
     ]
    }
   ],
   "source": [
    "tip = 'public_transport'\n",
    "place = 'stop_position'\n",
    "\n",
    "for city in tqdm(cities_upd.city):\n",
    "\n",
    "    if city in ['Королев', 'Артем', 'Щелково', 'Орел']:\n",
    "        city = city.replace('е', \"ё\")\n",
    "\n",
    "    try:\n",
    "        time.sleep(30)\n",
    "        Data = overpass_city(city, tip, place)\n",
    "\n",
    "    except:\n",
    "        time.sleep(60)\n",
    "        Data = overpass_city(city, tip, place)\n",
    "\n",
    "    city = city.replace('\"', '')\n",
    "    city_dict_stop_position[city] = Data\n",
    "    \n",
    "# city_dict_school = overapass_dict(cities_upd, 'amenity', 'school')"
   ]
  },
  {
   "cell_type": "code",
   "execution_count": 64,
   "metadata": {
    "ExecuteTime": {
     "end_time": "2021-09-23T18:01:14.699414Z",
     "start_time": "2021-09-23T18:01:14.691347Z"
    }
   },
   "outputs": [
    {
     "data": {
      "text/plain": [
       "171"
      ]
     },
     "execution_count": 64,
     "metadata": {},
     "output_type": "execute_result"
    }
   ],
   "source": [
    "len(city_dict_stop_position)"
   ]
  },
  {
   "cell_type": "code",
   "execution_count": 65,
   "metadata": {
    "ExecuteTime": {
     "end_time": "2021-09-23T18:01:16.518678Z",
     "start_time": "2021-09-23T18:01:16.505736Z"
    }
   },
   "outputs": [],
   "source": [
    "import pickle\n",
    "with open('overpass_out/city_dict_stop_position.pickle', 'wb') as handle:\n",
    "    pickle.dump(city_dict_stop_position, handle, protocol=pickle.HIGHEST_PROTOCOL)"
   ]
  },
  {
   "cell_type": "code",
   "execution_count": 41,
   "metadata": {
    "ExecuteTime": {
     "end_time": "2021-09-23T07:34:11.127547Z",
     "start_time": "2021-09-23T07:32:21.141058Z"
    }
   },
   "outputs": [
    {
     "name": "stderr",
     "output_type": "stream",
     "text": [
      "  1%|          | 1/171 [01:49<5:11:29, 109.94s/it]\n"
     ]
    },
    {
     "ename": "KeyboardInterrupt",
     "evalue": "",
     "output_type": "error",
     "traceback": [
      "\u001b[0;31m---------------------------------------------------------------------------\u001b[0m",
      "\u001b[0;31mKeyboardInterrupt\u001b[0m                         Traceback (most recent call last)",
      "\u001b[0;32m<ipython-input-38-c6db07a24ede>\u001b[0m in \u001b[0;36moverapass_dict\u001b[0;34m(df, tip, place)\u001b[0m\n\u001b[1;32m     14\u001b[0m             \u001b[0;32mtry\u001b[0m\u001b[0;34m:\u001b[0m\u001b[0;34m\u001b[0m\u001b[0;34m\u001b[0m\u001b[0m\n\u001b[0;32m---> 15\u001b[0;31m                 \u001b[0mData\u001b[0m \u001b[0;34m=\u001b[0m \u001b[0moverpass_city\u001b[0m\u001b[0;34m(\u001b[0m\u001b[0mcity\u001b[0m\u001b[0;34m,\u001b[0m \u001b[0mtip\u001b[0m\u001b[0;34m,\u001b[0m \u001b[0mplace\u001b[0m\u001b[0;34m)\u001b[0m\u001b[0;34m\u001b[0m\u001b[0;34m\u001b[0m\u001b[0m\n\u001b[0m\u001b[1;32m     16\u001b[0m                 \u001b[0mcont\u001b[0m \u001b[0;34m=\u001b[0m \u001b[0;32mFalse\u001b[0m\u001b[0;34m\u001b[0m\u001b[0;34m\u001b[0m\u001b[0m\n",
      "\u001b[0;32m<ipython-input-33-6fff4c95afd8>\u001b[0m in \u001b[0;36moverpass_city\u001b[0;34m(city, tip, place)\u001b[0m\n\u001b[1;32m     17\u001b[0m     response = requests.get(overpass_url, \n\u001b[0;32m---> 18\u001b[0;31m                         params={'data': overpass_query})\n\u001b[0m\u001b[1;32m     19\u001b[0m     \u001b[0mdata\u001b[0m \u001b[0;34m=\u001b[0m \u001b[0mresponse\u001b[0m\u001b[0;34m.\u001b[0m\u001b[0mjson\u001b[0m\u001b[0;34m(\u001b[0m\u001b[0;34m)\u001b[0m\u001b[0;34m\u001b[0m\u001b[0;34m\u001b[0m\u001b[0m\n",
      "\u001b[0;32m~/environments/albert/lib/python3.6/site-packages/requests/api.py\u001b[0m in \u001b[0;36mget\u001b[0;34m(url, params, **kwargs)\u001b[0m\n\u001b[1;32m     74\u001b[0m \u001b[0;34m\u001b[0m\u001b[0m\n\u001b[0;32m---> 75\u001b[0;31m     \u001b[0;32mreturn\u001b[0m \u001b[0mrequest\u001b[0m\u001b[0;34m(\u001b[0m\u001b[0;34m'get'\u001b[0m\u001b[0;34m,\u001b[0m \u001b[0murl\u001b[0m\u001b[0;34m,\u001b[0m \u001b[0mparams\u001b[0m\u001b[0;34m=\u001b[0m\u001b[0mparams\u001b[0m\u001b[0;34m,\u001b[0m \u001b[0;34m**\u001b[0m\u001b[0mkwargs\u001b[0m\u001b[0;34m)\u001b[0m\u001b[0;34m\u001b[0m\u001b[0;34m\u001b[0m\u001b[0m\n\u001b[0m\u001b[1;32m     76\u001b[0m \u001b[0;34m\u001b[0m\u001b[0m\n",
      "\u001b[0;32m~/environments/albert/lib/python3.6/site-packages/requests/api.py\u001b[0m in \u001b[0;36mrequest\u001b[0;34m(method, url, **kwargs)\u001b[0m\n\u001b[1;32m     60\u001b[0m     \u001b[0;32mwith\u001b[0m \u001b[0msessions\u001b[0m\u001b[0;34m.\u001b[0m\u001b[0mSession\u001b[0m\u001b[0;34m(\u001b[0m\u001b[0;34m)\u001b[0m \u001b[0;32mas\u001b[0m \u001b[0msession\u001b[0m\u001b[0;34m:\u001b[0m\u001b[0;34m\u001b[0m\u001b[0;34m\u001b[0m\u001b[0m\n\u001b[0;32m---> 61\u001b[0;31m         \u001b[0;32mreturn\u001b[0m \u001b[0msession\u001b[0m\u001b[0;34m.\u001b[0m\u001b[0mrequest\u001b[0m\u001b[0;34m(\u001b[0m\u001b[0mmethod\u001b[0m\u001b[0;34m=\u001b[0m\u001b[0mmethod\u001b[0m\u001b[0;34m,\u001b[0m \u001b[0murl\u001b[0m\u001b[0;34m=\u001b[0m\u001b[0murl\u001b[0m\u001b[0;34m,\u001b[0m \u001b[0;34m**\u001b[0m\u001b[0mkwargs\u001b[0m\u001b[0;34m)\u001b[0m\u001b[0;34m\u001b[0m\u001b[0;34m\u001b[0m\u001b[0m\n\u001b[0m\u001b[1;32m     62\u001b[0m \u001b[0;34m\u001b[0m\u001b[0m\n",
      "\u001b[0;32m~/environments/albert/lib/python3.6/site-packages/requests/sessions.py\u001b[0m in \u001b[0;36mrequest\u001b[0;34m(self, method, url, params, data, headers, cookies, files, auth, timeout, allow_redirects, proxies, hooks, stream, verify, cert, json)\u001b[0m\n\u001b[1;32m    541\u001b[0m         \u001b[0msend_kwargs\u001b[0m\u001b[0;34m.\u001b[0m\u001b[0mupdate\u001b[0m\u001b[0;34m(\u001b[0m\u001b[0msettings\u001b[0m\u001b[0;34m)\u001b[0m\u001b[0;34m\u001b[0m\u001b[0;34m\u001b[0m\u001b[0m\n\u001b[0;32m--> 542\u001b[0;31m         \u001b[0mresp\u001b[0m \u001b[0;34m=\u001b[0m \u001b[0mself\u001b[0m\u001b[0;34m.\u001b[0m\u001b[0msend\u001b[0m\u001b[0;34m(\u001b[0m\u001b[0mprep\u001b[0m\u001b[0;34m,\u001b[0m \u001b[0;34m**\u001b[0m\u001b[0msend_kwargs\u001b[0m\u001b[0;34m)\u001b[0m\u001b[0;34m\u001b[0m\u001b[0;34m\u001b[0m\u001b[0m\n\u001b[0m\u001b[1;32m    543\u001b[0m \u001b[0;34m\u001b[0m\u001b[0m\n",
      "\u001b[0;32m~/environments/albert/lib/python3.6/site-packages/requests/sessions.py\u001b[0m in \u001b[0;36msend\u001b[0;34m(self, request, **kwargs)\u001b[0m\n\u001b[1;32m    654\u001b[0m         \u001b[0;31m# Send the request\u001b[0m\u001b[0;34m\u001b[0m\u001b[0;34m\u001b[0m\u001b[0;34m\u001b[0m\u001b[0m\n\u001b[0;32m--> 655\u001b[0;31m         \u001b[0mr\u001b[0m \u001b[0;34m=\u001b[0m \u001b[0madapter\u001b[0m\u001b[0;34m.\u001b[0m\u001b[0msend\u001b[0m\u001b[0;34m(\u001b[0m\u001b[0mrequest\u001b[0m\u001b[0;34m,\u001b[0m \u001b[0;34m**\u001b[0m\u001b[0mkwargs\u001b[0m\u001b[0;34m)\u001b[0m\u001b[0;34m\u001b[0m\u001b[0;34m\u001b[0m\u001b[0m\n\u001b[0m\u001b[1;32m    656\u001b[0m \u001b[0;34m\u001b[0m\u001b[0m\n",
      "\u001b[0;32m~/environments/albert/lib/python3.6/site-packages/requests/adapters.py\u001b[0m in \u001b[0;36msend\u001b[0;34m(self, request, stream, timeout, verify, cert, proxies)\u001b[0m\n\u001b[1;32m    448\u001b[0m                     \u001b[0mretries\u001b[0m\u001b[0;34m=\u001b[0m\u001b[0mself\u001b[0m\u001b[0;34m.\u001b[0m\u001b[0mmax_retries\u001b[0m\u001b[0;34m,\u001b[0m\u001b[0;34m\u001b[0m\u001b[0;34m\u001b[0m\u001b[0m\n\u001b[0;32m--> 449\u001b[0;31m                     \u001b[0mtimeout\u001b[0m\u001b[0;34m=\u001b[0m\u001b[0mtimeout\u001b[0m\u001b[0;34m\u001b[0m\u001b[0;34m\u001b[0m\u001b[0m\n\u001b[0m\u001b[1;32m    450\u001b[0m                 )\n",
      "\u001b[0;32m~/environments/albert/lib/python3.6/site-packages/urllib3/connectionpool.py\u001b[0m in \u001b[0;36murlopen\u001b[0;34m(self, method, url, body, headers, retries, redirect, assert_same_host, timeout, pool_timeout, release_conn, chunked, body_pos, **response_kw)\u001b[0m\n\u001b[1;32m    676\u001b[0m                 \u001b[0mheaders\u001b[0m\u001b[0;34m=\u001b[0m\u001b[0mheaders\u001b[0m\u001b[0;34m,\u001b[0m\u001b[0;34m\u001b[0m\u001b[0;34m\u001b[0m\u001b[0m\n\u001b[0;32m--> 677\u001b[0;31m                 \u001b[0mchunked\u001b[0m\u001b[0;34m=\u001b[0m\u001b[0mchunked\u001b[0m\u001b[0;34m,\u001b[0m\u001b[0;34m\u001b[0m\u001b[0;34m\u001b[0m\u001b[0m\n\u001b[0m\u001b[1;32m    678\u001b[0m             )\n",
      "\u001b[0;32m~/environments/albert/lib/python3.6/site-packages/urllib3/connectionpool.py\u001b[0m in \u001b[0;36m_make_request\u001b[0;34m(self, conn, method, url, timeout, chunked, **httplib_request_kw)\u001b[0m\n\u001b[1;32m    391\u001b[0m         \u001b[0;32melse\u001b[0m\u001b[0;34m:\u001b[0m\u001b[0;34m\u001b[0m\u001b[0;34m\u001b[0m\u001b[0m\n\u001b[0;32m--> 392\u001b[0;31m             \u001b[0mconn\u001b[0m\u001b[0;34m.\u001b[0m\u001b[0mrequest\u001b[0m\u001b[0;34m(\u001b[0m\u001b[0mmethod\u001b[0m\u001b[0;34m,\u001b[0m \u001b[0murl\u001b[0m\u001b[0;34m,\u001b[0m \u001b[0;34m**\u001b[0m\u001b[0mhttplib_request_kw\u001b[0m\u001b[0;34m)\u001b[0m\u001b[0;34m\u001b[0m\u001b[0;34m\u001b[0m\u001b[0m\n\u001b[0m\u001b[1;32m    393\u001b[0m \u001b[0;34m\u001b[0m\u001b[0m\n",
      "\u001b[0;32m/usr/lib/python3.6/http/client.py\u001b[0m in \u001b[0;36mrequest\u001b[0;34m(self, method, url, body, headers, encode_chunked)\u001b[0m\n\u001b[1;32m   1280\u001b[0m         \u001b[0;34m\"\"\"Send a complete request to the server.\"\"\"\u001b[0m\u001b[0;34m\u001b[0m\u001b[0;34m\u001b[0m\u001b[0m\n\u001b[0;32m-> 1281\u001b[0;31m         \u001b[0mself\u001b[0m\u001b[0;34m.\u001b[0m\u001b[0m_send_request\u001b[0m\u001b[0;34m(\u001b[0m\u001b[0mmethod\u001b[0m\u001b[0;34m,\u001b[0m \u001b[0murl\u001b[0m\u001b[0;34m,\u001b[0m \u001b[0mbody\u001b[0m\u001b[0;34m,\u001b[0m \u001b[0mheaders\u001b[0m\u001b[0;34m,\u001b[0m \u001b[0mencode_chunked\u001b[0m\u001b[0;34m)\u001b[0m\u001b[0;34m\u001b[0m\u001b[0;34m\u001b[0m\u001b[0m\n\u001b[0m\u001b[1;32m   1282\u001b[0m \u001b[0;34m\u001b[0m\u001b[0m\n",
      "\u001b[0;32m/usr/lib/python3.6/http/client.py\u001b[0m in \u001b[0;36m_send_request\u001b[0;34m(self, method, url, body, headers, encode_chunked)\u001b[0m\n\u001b[1;32m   1326\u001b[0m             \u001b[0mbody\u001b[0m \u001b[0;34m=\u001b[0m \u001b[0m_encode\u001b[0m\u001b[0;34m(\u001b[0m\u001b[0mbody\u001b[0m\u001b[0;34m,\u001b[0m \u001b[0;34m'body'\u001b[0m\u001b[0;34m)\u001b[0m\u001b[0;34m\u001b[0m\u001b[0;34m\u001b[0m\u001b[0m\n\u001b[0;32m-> 1327\u001b[0;31m         \u001b[0mself\u001b[0m\u001b[0;34m.\u001b[0m\u001b[0mendheaders\u001b[0m\u001b[0;34m(\u001b[0m\u001b[0mbody\u001b[0m\u001b[0;34m,\u001b[0m \u001b[0mencode_chunked\u001b[0m\u001b[0;34m=\u001b[0m\u001b[0mencode_chunked\u001b[0m\u001b[0;34m)\u001b[0m\u001b[0;34m\u001b[0m\u001b[0;34m\u001b[0m\u001b[0m\n\u001b[0m\u001b[1;32m   1328\u001b[0m \u001b[0;34m\u001b[0m\u001b[0m\n",
      "\u001b[0;32m/usr/lib/python3.6/http/client.py\u001b[0m in \u001b[0;36mendheaders\u001b[0;34m(self, message_body, encode_chunked)\u001b[0m\n\u001b[1;32m   1275\u001b[0m             \u001b[0;32mraise\u001b[0m \u001b[0mCannotSendHeader\u001b[0m\u001b[0;34m(\u001b[0m\u001b[0;34m)\u001b[0m\u001b[0;34m\u001b[0m\u001b[0;34m\u001b[0m\u001b[0m\n\u001b[0;32m-> 1276\u001b[0;31m         \u001b[0mself\u001b[0m\u001b[0;34m.\u001b[0m\u001b[0m_send_output\u001b[0m\u001b[0;34m(\u001b[0m\u001b[0mmessage_body\u001b[0m\u001b[0;34m,\u001b[0m \u001b[0mencode_chunked\u001b[0m\u001b[0;34m=\u001b[0m\u001b[0mencode_chunked\u001b[0m\u001b[0;34m)\u001b[0m\u001b[0;34m\u001b[0m\u001b[0;34m\u001b[0m\u001b[0m\n\u001b[0m\u001b[1;32m   1277\u001b[0m \u001b[0;34m\u001b[0m\u001b[0m\n",
      "\u001b[0;32m/usr/lib/python3.6/http/client.py\u001b[0m in \u001b[0;36m_send_output\u001b[0;34m(self, message_body, encode_chunked)\u001b[0m\n\u001b[1;32m   1041\u001b[0m         \u001b[0;32mdel\u001b[0m \u001b[0mself\u001b[0m\u001b[0;34m.\u001b[0m\u001b[0m_buffer\u001b[0m\u001b[0;34m[\u001b[0m\u001b[0;34m:\u001b[0m\u001b[0;34m]\u001b[0m\u001b[0;34m\u001b[0m\u001b[0;34m\u001b[0m\u001b[0m\n\u001b[0;32m-> 1042\u001b[0;31m         \u001b[0mself\u001b[0m\u001b[0;34m.\u001b[0m\u001b[0msend\u001b[0m\u001b[0;34m(\u001b[0m\u001b[0mmsg\u001b[0m\u001b[0;34m)\u001b[0m\u001b[0;34m\u001b[0m\u001b[0;34m\u001b[0m\u001b[0m\n\u001b[0m\u001b[1;32m   1043\u001b[0m \u001b[0;34m\u001b[0m\u001b[0m\n",
      "\u001b[0;32m/usr/lib/python3.6/http/client.py\u001b[0m in \u001b[0;36msend\u001b[0;34m(self, data)\u001b[0m\n\u001b[1;32m    979\u001b[0m             \u001b[0;32mif\u001b[0m \u001b[0mself\u001b[0m\u001b[0;34m.\u001b[0m\u001b[0mauto_open\u001b[0m\u001b[0;34m:\u001b[0m\u001b[0;34m\u001b[0m\u001b[0;34m\u001b[0m\u001b[0m\n\u001b[0;32m--> 980\u001b[0;31m                 \u001b[0mself\u001b[0m\u001b[0;34m.\u001b[0m\u001b[0mconnect\u001b[0m\u001b[0;34m(\u001b[0m\u001b[0;34m)\u001b[0m\u001b[0;34m\u001b[0m\u001b[0;34m\u001b[0m\u001b[0m\n\u001b[0m\u001b[1;32m    981\u001b[0m             \u001b[0;32melse\u001b[0m\u001b[0;34m:\u001b[0m\u001b[0;34m\u001b[0m\u001b[0;34m\u001b[0m\u001b[0m\n",
      "\u001b[0;32m~/environments/albert/lib/python3.6/site-packages/urllib3/connection.py\u001b[0m in \u001b[0;36mconnect\u001b[0;34m(self)\u001b[0m\n\u001b[1;32m    186\u001b[0m     \u001b[0;32mdef\u001b[0m \u001b[0mconnect\u001b[0m\u001b[0;34m(\u001b[0m\u001b[0mself\u001b[0m\u001b[0;34m)\u001b[0m\u001b[0;34m:\u001b[0m\u001b[0;34m\u001b[0m\u001b[0;34m\u001b[0m\u001b[0m\n\u001b[0;32m--> 187\u001b[0;31m         \u001b[0mconn\u001b[0m \u001b[0;34m=\u001b[0m \u001b[0mself\u001b[0m\u001b[0;34m.\u001b[0m\u001b[0m_new_conn\u001b[0m\u001b[0;34m(\u001b[0m\u001b[0;34m)\u001b[0m\u001b[0;34m\u001b[0m\u001b[0;34m\u001b[0m\u001b[0m\n\u001b[0m\u001b[1;32m    188\u001b[0m         \u001b[0mself\u001b[0m\u001b[0;34m.\u001b[0m\u001b[0m_prepare_conn\u001b[0m\u001b[0;34m(\u001b[0m\u001b[0mconn\u001b[0m\u001b[0;34m)\u001b[0m\u001b[0;34m\u001b[0m\u001b[0;34m\u001b[0m\u001b[0m\n",
      "\u001b[0;32m~/environments/albert/lib/python3.6/site-packages/urllib3/connection.py\u001b[0m in \u001b[0;36m_new_conn\u001b[0;34m(self)\u001b[0m\n\u001b[1;32m    159\u001b[0m             conn = connection.create_connection(\n\u001b[0;32m--> 160\u001b[0;31m                 \u001b[0;34m(\u001b[0m\u001b[0mself\u001b[0m\u001b[0;34m.\u001b[0m\u001b[0m_dns_host\u001b[0m\u001b[0;34m,\u001b[0m \u001b[0mself\u001b[0m\u001b[0;34m.\u001b[0m\u001b[0mport\u001b[0m\u001b[0;34m)\u001b[0m\u001b[0;34m,\u001b[0m \u001b[0mself\u001b[0m\u001b[0;34m.\u001b[0m\u001b[0mtimeout\u001b[0m\u001b[0;34m,\u001b[0m \u001b[0;34m**\u001b[0m\u001b[0mextra_kw\u001b[0m\u001b[0;34m\u001b[0m\u001b[0;34m\u001b[0m\u001b[0m\n\u001b[0m\u001b[1;32m    161\u001b[0m             )\n",
      "\u001b[0;32m~/environments/albert/lib/python3.6/site-packages/urllib3/util/connection.py\u001b[0m in \u001b[0;36mcreate_connection\u001b[0;34m(address, timeout, source_address, socket_options)\u001b[0m\n\u001b[1;32m     73\u001b[0m                 \u001b[0msock\u001b[0m\u001b[0;34m.\u001b[0m\u001b[0mbind\u001b[0m\u001b[0;34m(\u001b[0m\u001b[0msource_address\u001b[0m\u001b[0;34m)\u001b[0m\u001b[0;34m\u001b[0m\u001b[0;34m\u001b[0m\u001b[0m\n\u001b[0;32m---> 74\u001b[0;31m             \u001b[0msock\u001b[0m\u001b[0;34m.\u001b[0m\u001b[0mconnect\u001b[0m\u001b[0;34m(\u001b[0m\u001b[0msa\u001b[0m\u001b[0;34m)\u001b[0m\u001b[0;34m\u001b[0m\u001b[0;34m\u001b[0m\u001b[0m\n\u001b[0m\u001b[1;32m     75\u001b[0m             \u001b[0;32mreturn\u001b[0m \u001b[0msock\u001b[0m\u001b[0;34m\u001b[0m\u001b[0;34m\u001b[0m\u001b[0m\n",
      "\u001b[0;31mKeyboardInterrupt\u001b[0m: ",
      "\nDuring handling of the above exception, another exception occurred:\n",
      "\u001b[0;31mKeyboardInterrupt\u001b[0m                         Traceback (most recent call last)",
      "\u001b[0;32m<ipython-input-41-e3b43cfcc8da>\u001b[0m in \u001b[0;36m<module>\u001b[0;34m\u001b[0m\n\u001b[1;32m      1\u001b[0m \u001b[0;31m# city_dict_fuel = overapass_dict(cities_upd, 'amenity', 'fuel')\u001b[0m\u001b[0;34m\u001b[0m\u001b[0;34m\u001b[0m\u001b[0;34m\u001b[0m\u001b[0m\n\u001b[0;32m----> 2\u001b[0;31m \u001b[0mcity_dict_school\u001b[0m \u001b[0;34m=\u001b[0m \u001b[0moverapass_dict\u001b[0m\u001b[0;34m(\u001b[0m\u001b[0mcities_upd\u001b[0m\u001b[0;34m,\u001b[0m \u001b[0;34m'amenity'\u001b[0m\u001b[0;34m,\u001b[0m \u001b[0;34m'school'\u001b[0m\u001b[0;34m)\u001b[0m\u001b[0;34m\u001b[0m\u001b[0;34m\u001b[0m\u001b[0m\n\u001b[0m\u001b[1;32m      3\u001b[0m \u001b[0mcity_dict_restaurant\u001b[0m \u001b[0;34m=\u001b[0m \u001b[0moverapass_dict\u001b[0m\u001b[0;34m(\u001b[0m\u001b[0mcities_upd\u001b[0m\u001b[0;34m,\u001b[0m \u001b[0;34m'amenity'\u001b[0m\u001b[0;34m,\u001b[0m \u001b[0;34m'restaurant'\u001b[0m\u001b[0;34m)\u001b[0m\u001b[0;34m\u001b[0m\u001b[0;34m\u001b[0m\u001b[0m\n\u001b[1;32m      4\u001b[0m \u001b[0mcity_dict_pub\u001b[0m \u001b[0;34m=\u001b[0m \u001b[0moverapass_dict\u001b[0m\u001b[0;34m(\u001b[0m\u001b[0mcities_upd\u001b[0m\u001b[0;34m,\u001b[0m \u001b[0;34m'amenity'\u001b[0m\u001b[0;34m,\u001b[0m \u001b[0;34m'pub'\u001b[0m\u001b[0;34m)\u001b[0m\u001b[0;34m\u001b[0m\u001b[0;34m\u001b[0m\u001b[0m\n\u001b[1;32m      5\u001b[0m \u001b[0mcity_dict_bar\u001b[0m \u001b[0;34m=\u001b[0m \u001b[0moverapass_dict\u001b[0m\u001b[0;34m(\u001b[0m\u001b[0mcities_upd\u001b[0m\u001b[0;34m,\u001b[0m \u001b[0;34m'amenity'\u001b[0m\u001b[0;34m,\u001b[0m \u001b[0;34m'bar'\u001b[0m\u001b[0;34m)\u001b[0m\u001b[0;34m\u001b[0m\u001b[0;34m\u001b[0m\u001b[0m\n",
      "\u001b[0;32m<ipython-input-38-c6db07a24ede>\u001b[0m in \u001b[0;36moverapass_dict\u001b[0;34m(df, tip, place)\u001b[0m\n\u001b[1;32m     17\u001b[0m \u001b[0;34m\u001b[0m\u001b[0m\n\u001b[1;32m     18\u001b[0m             \u001b[0;32mexcept\u001b[0m\u001b[0;34m:\u001b[0m\u001b[0;34m\u001b[0m\u001b[0;34m\u001b[0m\u001b[0m\n\u001b[0;32m---> 19\u001b[0;31m                 \u001b[0mtime\u001b[0m\u001b[0;34m.\u001b[0m\u001b[0msleep\u001b[0m\u001b[0;34m(\u001b[0m\u001b[0;36m30\u001b[0m\u001b[0;34m)\u001b[0m\u001b[0;34m\u001b[0m\u001b[0;34m\u001b[0m\u001b[0m\n\u001b[0m\u001b[1;32m     20\u001b[0m                 \u001b[0mData\u001b[0m \u001b[0;34m=\u001b[0m \u001b[0moverpass_city\u001b[0m\u001b[0;34m(\u001b[0m\u001b[0mcity\u001b[0m\u001b[0;34m,\u001b[0m \u001b[0mtip\u001b[0m\u001b[0;34m,\u001b[0m \u001b[0mplace\u001b[0m\u001b[0;34m)\u001b[0m\u001b[0;34m\u001b[0m\u001b[0;34m\u001b[0m\u001b[0m\n\u001b[1;32m     21\u001b[0m                 \u001b[0mcont\u001b[0m \u001b[0;34m=\u001b[0m \u001b[0;32mTrue\u001b[0m\u001b[0;34m\u001b[0m\u001b[0;34m\u001b[0m\u001b[0m\n",
      "\u001b[0;31mKeyboardInterrupt\u001b[0m: "
     ]
    }
   ],
   "source": [
    "city_dict_fuel = overapass_dict(cities_upd, 'amenity', 'fuel')\n",
    "city_dict_school = overapass_dict(cities_upd, 'amenity', 'school')\n",
    "city_dict_restaurant = overapass_dict(cities_upd, 'amenity', 'restaurant')\n",
    "\n",
    "city_dict_pub = overapass_dict(cities_upd, 'amenity', 'pub')\n",
    "city_dict_bar = overapass_dict(cities_upd, 'amenity', 'bar')\n",
    "city_dict_cafe = overapass_dict(cities_upd, 'amenity', 'cafe')\n",
    "\n",
    "city_dict_stop_position = overapass_dict(cities_upd, 'public_transport', 'stop_position') # автобус, трамвай\n",
    "city_dict_station = overapass_dict(cities_upd, 'public_transport', 'station') # метро\n",
    "\n",
    "city_dict_supermarket = overapass_dict(cities_upd, 'shop', 'supermarket') # supermarket\n",
    "\n",
    "city_dict_office = overapass_dict(cities_upd, 'building', 'office')\n",
    "city_dict_commercial = overapass_dict(cities_upd, 'building', 'commercial')"
   ]
  },
  {
   "cell_type": "code",
   "execution_count": 111,
   "metadata": {
    "ExecuteTime": {
     "end_time": "2021-09-24T09:04:12.839648Z",
     "start_time": "2021-09-24T09:04:11.583725Z"
    }
   },
   "outputs": [],
   "source": [
    "import osmnx as ox"
   ]
  },
  {
   "cell_type": "code",
   "execution_count": 112,
   "metadata": {
    "ExecuteTime": {
     "end_time": "2021-09-24T09:04:12.847812Z",
     "start_time": "2021-09-24T09:04:12.841513Z"
    }
   },
   "outputs": [],
   "source": [
    "ent_dict = dict()"
   ]
  },
  {
   "cell_type": "code",
   "execution_count": 113,
   "metadata": {
    "ExecuteTime": {
     "end_time": "2021-09-24T09:04:15.193167Z",
     "start_time": "2021-09-24T09:04:12.849553Z"
    }
   },
   "outputs": [
    {
     "name": "stderr",
     "output_type": "stream",
     "text": [
      "  4%|▎         | 1/27 [00:02<00:57,  2.22s/it]\n"
     ]
    },
    {
     "ename": "KeyboardInterrupt",
     "evalue": "",
     "output_type": "error",
     "traceback": [
      "\u001b[0;31m---------------------------------------------------------------------------\u001b[0m",
      "\u001b[0;31mKeyboardInterrupt\u001b[0m                         Traceback (most recent call last)",
      "\u001b[0;32m<ipython-input-113-8d3a6d276c23>\u001b[0m in \u001b[0;36m<module>\u001b[0;34m\u001b[0m\n\u001b[1;32m      5\u001b[0m         \u001b[0mcity\u001b[0m \u001b[0;34m=\u001b[0m \u001b[0mcity\u001b[0m\u001b[0;34m.\u001b[0m\u001b[0mreplace\u001b[0m\u001b[0;34m(\u001b[0m\u001b[0;34m'е'\u001b[0m\u001b[0;34m,\u001b[0m \u001b[0;34m\"ё\"\u001b[0m\u001b[0;34m)\u001b[0m\u001b[0;34m\u001b[0m\u001b[0;34m\u001b[0m\u001b[0m\n\u001b[1;32m      6\u001b[0m \u001b[0;34m\u001b[0m\u001b[0m\n\u001b[0;32m----> 7\u001b[0;31m     \u001b[0ment_dict\u001b[0m\u001b[0;34m[\u001b[0m\u001b[0mcity\u001b[0m\u001b[0;34m]\u001b[0m \u001b[0;34m=\u001b[0m \u001b[0mox\u001b[0m\u001b[0;34m.\u001b[0m\u001b[0mgeometries_from_place\u001b[0m\u001b[0;34m(\u001b[0m\u001b[0mcity\u001b[0m\u001b[0;34m,\u001b[0m \u001b[0;34m{\u001b[0m\u001b[0;34m\"amenity\"\u001b[0m\u001b[0;34m:\u001b[0m \u001b[0;34m\"fuel\"\u001b[0m\u001b[0;34m}\u001b[0m\u001b[0;34m)\u001b[0m\u001b[0;34m.\u001b[0m\u001b[0mreset_index\u001b[0m\u001b[0;34m(\u001b[0m\u001b[0;34m)\u001b[0m\u001b[0;34m\u001b[0m\u001b[0;34m\u001b[0m\u001b[0m\n\u001b[0m",
      "\u001b[0;32m~/environments/albert/lib/python3.6/site-packages/osmnx/geometries.py\u001b[0m in \u001b[0;36mgeometries_from_place\u001b[0;34m(query, tags, which_result, buffer_dist)\u001b[0m\n\u001b[1;32m    229\u001b[0m \u001b[0;34m\u001b[0m\u001b[0m\n\u001b[1;32m    230\u001b[0m     \u001b[0;31m# create GeoDataFrame using this polygon(s) geometry\u001b[0m\u001b[0;34m\u001b[0m\u001b[0;34m\u001b[0m\u001b[0;34m\u001b[0m\u001b[0m\n\u001b[0;32m--> 231\u001b[0;31m     \u001b[0mgdf\u001b[0m \u001b[0;34m=\u001b[0m \u001b[0mgeometries_from_polygon\u001b[0m\u001b[0;34m(\u001b[0m\u001b[0mpolygon\u001b[0m\u001b[0;34m,\u001b[0m \u001b[0mtags\u001b[0m\u001b[0;34m)\u001b[0m\u001b[0;34m\u001b[0m\u001b[0;34m\u001b[0m\u001b[0m\n\u001b[0m\u001b[1;32m    232\u001b[0m \u001b[0;34m\u001b[0m\u001b[0m\n\u001b[1;32m    233\u001b[0m     \u001b[0;32mreturn\u001b[0m \u001b[0mgdf\u001b[0m\u001b[0;34m\u001b[0m\u001b[0;34m\u001b[0m\u001b[0m\n",
      "\u001b[0;32m~/environments/albert/lib/python3.6/site-packages/osmnx/geometries.py\u001b[0m in \u001b[0;36mgeometries_from_polygon\u001b[0;34m(polygon, tags)\u001b[0m\n\u001b[1;32m    279\u001b[0m \u001b[0;34m\u001b[0m\u001b[0m\n\u001b[1;32m    280\u001b[0m     \u001b[0;31m# create GeoDataFrame from the downloaded data\u001b[0m\u001b[0;34m\u001b[0m\u001b[0;34m\u001b[0m\u001b[0;34m\u001b[0m\u001b[0m\n\u001b[0;32m--> 281\u001b[0;31m     \u001b[0mgdf\u001b[0m \u001b[0;34m=\u001b[0m \u001b[0m_create_gdf\u001b[0m\u001b[0;34m(\u001b[0m\u001b[0mresponse_jsons\u001b[0m\u001b[0;34m,\u001b[0m \u001b[0mpolygon\u001b[0m\u001b[0;34m,\u001b[0m \u001b[0mtags\u001b[0m\u001b[0;34m)\u001b[0m\u001b[0;34m\u001b[0m\u001b[0;34m\u001b[0m\u001b[0m\n\u001b[0m\u001b[1;32m    282\u001b[0m \u001b[0;34m\u001b[0m\u001b[0m\n\u001b[1;32m    283\u001b[0m     \u001b[0;32mreturn\u001b[0m \u001b[0mgdf\u001b[0m\u001b[0;34m\u001b[0m\u001b[0;34m\u001b[0m\u001b[0m\n",
      "\u001b[0;32m~/environments/albert/lib/python3.6/site-packages/osmnx/geometries.py\u001b[0m in \u001b[0;36m_create_gdf\u001b[0;34m(response_jsons, polygon, tags)\u001b[0m\n\u001b[1;32m    449\u001b[0m \u001b[0;34m\u001b[0m\u001b[0m\n\u001b[1;32m    450\u001b[0m         \u001b[0;31m# Filter final gdf to requested tags and query polygon\u001b[0m\u001b[0;34m\u001b[0m\u001b[0;34m\u001b[0m\u001b[0;34m\u001b[0m\u001b[0m\n\u001b[0;32m--> 451\u001b[0;31m         \u001b[0mgdf\u001b[0m \u001b[0;34m=\u001b[0m \u001b[0m_filter_gdf_by_polygon_and_tags\u001b[0m\u001b[0;34m(\u001b[0m\u001b[0mgdf\u001b[0m\u001b[0;34m,\u001b[0m \u001b[0mpolygon\u001b[0m\u001b[0;34m=\u001b[0m\u001b[0mpolygon\u001b[0m\u001b[0;34m,\u001b[0m \u001b[0mtags\u001b[0m\u001b[0;34m=\u001b[0m\u001b[0mtags\u001b[0m\u001b[0;34m)\u001b[0m\u001b[0;34m\u001b[0m\u001b[0;34m\u001b[0m\u001b[0m\n\u001b[0m\u001b[1;32m    452\u001b[0m \u001b[0;34m\u001b[0m\u001b[0m\n\u001b[1;32m    453\u001b[0m         \u001b[0;31m# bug in geopandas <0.9 raises a TypeError if trying to plot empty\u001b[0m\u001b[0;34m\u001b[0m\u001b[0;34m\u001b[0m\u001b[0;34m\u001b[0m\u001b[0m\n",
      "\u001b[0;32m~/environments/albert/lib/python3.6/site-packages/osmnx/geometries.py\u001b[0m in \u001b[0;36m_filter_gdf_by_polygon_and_tags\u001b[0;34m(gdf, polygon, tags)\u001b[0m\n\u001b[1;32m    967\u001b[0m         \u001b[0;32mif\u001b[0m \u001b[0mpolygon\u001b[0m\u001b[0;34m:\u001b[0m\u001b[0;34m\u001b[0m\u001b[0;34m\u001b[0m\u001b[0m\n\u001b[1;32m    968\u001b[0m             \u001b[0;31m# get set of index labels of geometries that intersect polygon\u001b[0m\u001b[0;34m\u001b[0m\u001b[0;34m\u001b[0m\u001b[0;34m\u001b[0m\u001b[0m\n\u001b[0;32m--> 969\u001b[0;31m             \u001b[0mgdf_indices_in_polygon\u001b[0m \u001b[0;34m=\u001b[0m \u001b[0mutils_geo\u001b[0m\u001b[0;34m.\u001b[0m\u001b[0m_intersect_index_quadrats\u001b[0m\u001b[0;34m(\u001b[0m\u001b[0mgdf\u001b[0m\u001b[0;34m,\u001b[0m \u001b[0mpolygon\u001b[0m\u001b[0;34m)\u001b[0m\u001b[0;34m\u001b[0m\u001b[0;34m\u001b[0m\u001b[0m\n\u001b[0m\u001b[1;32m    970\u001b[0m             \u001b[0;31m# create boolean series, True for geometries whose index is in set\u001b[0m\u001b[0;34m\u001b[0m\u001b[0;34m\u001b[0m\u001b[0;34m\u001b[0m\u001b[0m\n\u001b[1;32m    971\u001b[0m             \u001b[0mpolygon_filter\u001b[0m \u001b[0;34m=\u001b[0m \u001b[0mgdf\u001b[0m\u001b[0;34m.\u001b[0m\u001b[0mindex\u001b[0m\u001b[0;34m.\u001b[0m\u001b[0misin\u001b[0m\u001b[0;34m(\u001b[0m\u001b[0mgdf_indices_in_polygon\u001b[0m\u001b[0;34m)\u001b[0m\u001b[0;34m\u001b[0m\u001b[0;34m\u001b[0m\u001b[0m\n",
      "\u001b[0;32m~/environments/albert/lib/python3.6/site-packages/osmnx/utils_geo.py\u001b[0m in \u001b[0;36m_intersect_index_quadrats\u001b[0;34m(geometries, polygon, quadrat_width, min_num)\u001b[0m\n\u001b[1;32m    430\u001b[0m         \u001b[0;32mif\u001b[0m \u001b[0mpoly\u001b[0m\u001b[0;34m.\u001b[0m\u001b[0mis_valid\u001b[0m \u001b[0;32mand\u001b[0m \u001b[0mpoly\u001b[0m\u001b[0;34m.\u001b[0m\u001b[0marea\u001b[0m \u001b[0;34m>\u001b[0m \u001b[0;36m0\u001b[0m\u001b[0;34m:\u001b[0m\u001b[0;34m\u001b[0m\u001b[0;34m\u001b[0m\u001b[0m\n\u001b[1;32m    431\u001b[0m             \u001b[0mpossible_matches_iloc\u001b[0m \u001b[0;34m=\u001b[0m \u001b[0msindex\u001b[0m\u001b[0;34m.\u001b[0m\u001b[0mintersection\u001b[0m\u001b[0;34m(\u001b[0m\u001b[0mpoly\u001b[0m\u001b[0;34m.\u001b[0m\u001b[0mbounds\u001b[0m\u001b[0;34m)\u001b[0m\u001b[0;34m\u001b[0m\u001b[0;34m\u001b[0m\u001b[0m\n\u001b[0;32m--> 432\u001b[0;31m             \u001b[0mpossible_matches\u001b[0m \u001b[0;34m=\u001b[0m \u001b[0mgeometries\u001b[0m\u001b[0;34m.\u001b[0m\u001b[0miloc\u001b[0m\u001b[0;34m[\u001b[0m\u001b[0mlist\u001b[0m\u001b[0;34m(\u001b[0m\u001b[0mpossible_matches_iloc\u001b[0m\u001b[0;34m)\u001b[0m\u001b[0;34m]\u001b[0m\u001b[0;34m\u001b[0m\u001b[0;34m\u001b[0m\u001b[0m\n\u001b[0m\u001b[1;32m    433\u001b[0m             \u001b[0mprecise_matches\u001b[0m \u001b[0;34m=\u001b[0m \u001b[0mpossible_matches\u001b[0m\u001b[0;34m[\u001b[0m\u001b[0mpossible_matches\u001b[0m\u001b[0;34m.\u001b[0m\u001b[0mintersects\u001b[0m\u001b[0;34m(\u001b[0m\u001b[0mpoly\u001b[0m\u001b[0;34m)\u001b[0m\u001b[0;34m]\u001b[0m\u001b[0;34m\u001b[0m\u001b[0;34m\u001b[0m\u001b[0m\n\u001b[1;32m    434\u001b[0m             \u001b[0mgeoms_in_poly\u001b[0m\u001b[0;34m.\u001b[0m\u001b[0mupdate\u001b[0m\u001b[0;34m(\u001b[0m\u001b[0mprecise_matches\u001b[0m\u001b[0;34m.\u001b[0m\u001b[0mindex\u001b[0m\u001b[0;34m)\u001b[0m\u001b[0;34m\u001b[0m\u001b[0;34m\u001b[0m\u001b[0m\n",
      "\u001b[0;32m~/environments/albert/lib/python3.6/site-packages/pandas/core/indexing.py\u001b[0m in \u001b[0;36m__getitem__\u001b[0;34m(self, key)\u001b[0m\n\u001b[1;32m    877\u001b[0m \u001b[0;34m\u001b[0m\u001b[0m\n\u001b[1;32m    878\u001b[0m             \u001b[0mmaybe_callable\u001b[0m \u001b[0;34m=\u001b[0m \u001b[0mcom\u001b[0m\u001b[0;34m.\u001b[0m\u001b[0mapply_if_callable\u001b[0m\u001b[0;34m(\u001b[0m\u001b[0mkey\u001b[0m\u001b[0;34m,\u001b[0m \u001b[0mself\u001b[0m\u001b[0;34m.\u001b[0m\u001b[0mobj\u001b[0m\u001b[0;34m)\u001b[0m\u001b[0;34m\u001b[0m\u001b[0;34m\u001b[0m\u001b[0m\n\u001b[0;32m--> 879\u001b[0;31m             \u001b[0;32mreturn\u001b[0m \u001b[0mself\u001b[0m\u001b[0;34m.\u001b[0m\u001b[0m_getitem_axis\u001b[0m\u001b[0;34m(\u001b[0m\u001b[0mmaybe_callable\u001b[0m\u001b[0;34m,\u001b[0m \u001b[0maxis\u001b[0m\u001b[0;34m=\u001b[0m\u001b[0maxis\u001b[0m\u001b[0;34m)\u001b[0m\u001b[0;34m\u001b[0m\u001b[0;34m\u001b[0m\u001b[0m\n\u001b[0m\u001b[1;32m    880\u001b[0m \u001b[0;34m\u001b[0m\u001b[0m\n\u001b[1;32m    881\u001b[0m     \u001b[0;32mdef\u001b[0m \u001b[0m_is_scalar_access\u001b[0m\u001b[0;34m(\u001b[0m\u001b[0mself\u001b[0m\u001b[0;34m,\u001b[0m \u001b[0mkey\u001b[0m\u001b[0;34m:\u001b[0m \u001b[0mTuple\u001b[0m\u001b[0;34m)\u001b[0m\u001b[0;34m:\u001b[0m\u001b[0;34m\u001b[0m\u001b[0;34m\u001b[0m\u001b[0m\n",
      "\u001b[0;32m~/environments/albert/lib/python3.6/site-packages/pandas/core/indexing.py\u001b[0m in \u001b[0;36m_getitem_axis\u001b[0;34m(self, key, axis)\u001b[0m\n\u001b[1;32m   1485\u001b[0m         \u001b[0;31m# a list of integers\u001b[0m\u001b[0;34m\u001b[0m\u001b[0;34m\u001b[0m\u001b[0;34m\u001b[0m\u001b[0m\n\u001b[1;32m   1486\u001b[0m         \u001b[0;32melif\u001b[0m \u001b[0mis_list_like_indexer\u001b[0m\u001b[0;34m(\u001b[0m\u001b[0mkey\u001b[0m\u001b[0;34m)\u001b[0m\u001b[0;34m:\u001b[0m\u001b[0;34m\u001b[0m\u001b[0;34m\u001b[0m\u001b[0m\n\u001b[0;32m-> 1487\u001b[0;31m             \u001b[0;32mreturn\u001b[0m \u001b[0mself\u001b[0m\u001b[0;34m.\u001b[0m\u001b[0m_get_list_axis\u001b[0m\u001b[0;34m(\u001b[0m\u001b[0mkey\u001b[0m\u001b[0;34m,\u001b[0m \u001b[0maxis\u001b[0m\u001b[0;34m=\u001b[0m\u001b[0maxis\u001b[0m\u001b[0;34m)\u001b[0m\u001b[0;34m\u001b[0m\u001b[0;34m\u001b[0m\u001b[0m\n\u001b[0m\u001b[1;32m   1488\u001b[0m \u001b[0;34m\u001b[0m\u001b[0m\n\u001b[1;32m   1489\u001b[0m         \u001b[0;31m# a single integer\u001b[0m\u001b[0;34m\u001b[0m\u001b[0;34m\u001b[0m\u001b[0;34m\u001b[0m\u001b[0m\n",
      "\u001b[0;32m~/environments/albert/lib/python3.6/site-packages/pandas/core/indexing.py\u001b[0m in \u001b[0;36m_get_list_axis\u001b[0;34m(self, key, axis)\u001b[0m\n\u001b[1;32m   1467\u001b[0m         \"\"\"\n\u001b[1;32m   1468\u001b[0m         \u001b[0;32mtry\u001b[0m\u001b[0;34m:\u001b[0m\u001b[0;34m\u001b[0m\u001b[0;34m\u001b[0m\u001b[0m\n\u001b[0;32m-> 1469\u001b[0;31m             \u001b[0;32mreturn\u001b[0m \u001b[0mself\u001b[0m\u001b[0;34m.\u001b[0m\u001b[0mobj\u001b[0m\u001b[0;34m.\u001b[0m\u001b[0m_take_with_is_copy\u001b[0m\u001b[0;34m(\u001b[0m\u001b[0mkey\u001b[0m\u001b[0;34m,\u001b[0m \u001b[0maxis\u001b[0m\u001b[0;34m=\u001b[0m\u001b[0maxis\u001b[0m\u001b[0;34m)\u001b[0m\u001b[0;34m\u001b[0m\u001b[0;34m\u001b[0m\u001b[0m\n\u001b[0m\u001b[1;32m   1470\u001b[0m         \u001b[0;32mexcept\u001b[0m \u001b[0mIndexError\u001b[0m \u001b[0;32mas\u001b[0m \u001b[0merr\u001b[0m\u001b[0;34m:\u001b[0m\u001b[0;34m\u001b[0m\u001b[0;34m\u001b[0m\u001b[0m\n\u001b[1;32m   1471\u001b[0m             \u001b[0;31m# re-raise with different error message\u001b[0m\u001b[0;34m\u001b[0m\u001b[0;34m\u001b[0m\u001b[0;34m\u001b[0m\u001b[0m\n",
      "\u001b[0;32m~/environments/albert/lib/python3.6/site-packages/pandas/core/generic.py\u001b[0m in \u001b[0;36m_take_with_is_copy\u001b[0;34m(self, indices, axis)\u001b[0m\n\u001b[1;32m   3361\u001b[0m         \u001b[0mSee\u001b[0m \u001b[0mthe\u001b[0m \u001b[0mdocstring\u001b[0m \u001b[0mof\u001b[0m\u001b[0;31m \u001b[0m\u001b[0;31m`\u001b[0m\u001b[0mtake\u001b[0m\u001b[0;31m`\u001b[0m \u001b[0;32mfor\u001b[0m \u001b[0mfull\u001b[0m \u001b[0mexplanation\u001b[0m \u001b[0mof\u001b[0m \u001b[0mthe\u001b[0m \u001b[0mparameters\u001b[0m\u001b[0;34m.\u001b[0m\u001b[0;34m\u001b[0m\u001b[0;34m\u001b[0m\u001b[0m\n\u001b[1;32m   3362\u001b[0m         \"\"\"\n\u001b[0;32m-> 3363\u001b[0;31m         \u001b[0mresult\u001b[0m \u001b[0;34m=\u001b[0m \u001b[0mself\u001b[0m\u001b[0;34m.\u001b[0m\u001b[0mtake\u001b[0m\u001b[0;34m(\u001b[0m\u001b[0mindices\u001b[0m\u001b[0;34m=\u001b[0m\u001b[0mindices\u001b[0m\u001b[0;34m,\u001b[0m \u001b[0maxis\u001b[0m\u001b[0;34m=\u001b[0m\u001b[0maxis\u001b[0m\u001b[0;34m)\u001b[0m\u001b[0;34m\u001b[0m\u001b[0;34m\u001b[0m\u001b[0m\n\u001b[0m\u001b[1;32m   3364\u001b[0m         \u001b[0;31m# Maybe set copy if we didn't actually change the index.\u001b[0m\u001b[0;34m\u001b[0m\u001b[0;34m\u001b[0m\u001b[0;34m\u001b[0m\u001b[0m\n\u001b[1;32m   3365\u001b[0m         \u001b[0;32mif\u001b[0m \u001b[0;32mnot\u001b[0m \u001b[0mresult\u001b[0m\u001b[0;34m.\u001b[0m\u001b[0m_get_axis\u001b[0m\u001b[0;34m(\u001b[0m\u001b[0maxis\u001b[0m\u001b[0;34m)\u001b[0m\u001b[0;34m.\u001b[0m\u001b[0mequals\u001b[0m\u001b[0;34m(\u001b[0m\u001b[0mself\u001b[0m\u001b[0;34m.\u001b[0m\u001b[0m_get_axis\u001b[0m\u001b[0;34m(\u001b[0m\u001b[0maxis\u001b[0m\u001b[0;34m)\u001b[0m\u001b[0;34m)\u001b[0m\u001b[0;34m:\u001b[0m\u001b[0;34m\u001b[0m\u001b[0;34m\u001b[0m\u001b[0m\n",
      "\u001b[0;32m~/environments/albert/lib/python3.6/site-packages/pandas/core/generic.py\u001b[0m in \u001b[0;36mtake\u001b[0;34m(self, indices, axis, is_copy, **kwargs)\u001b[0m\n\u001b[1;32m   3351\u001b[0m             \u001b[0mindices\u001b[0m\u001b[0;34m,\u001b[0m \u001b[0maxis\u001b[0m\u001b[0;34m=\u001b[0m\u001b[0mself\u001b[0m\u001b[0;34m.\u001b[0m\u001b[0m_get_block_manager_axis\u001b[0m\u001b[0;34m(\u001b[0m\u001b[0maxis\u001b[0m\u001b[0;34m)\u001b[0m\u001b[0;34m,\u001b[0m \u001b[0mverify\u001b[0m\u001b[0;34m=\u001b[0m\u001b[0;32mTrue\u001b[0m\u001b[0;34m\u001b[0m\u001b[0;34m\u001b[0m\u001b[0m\n\u001b[1;32m   3352\u001b[0m         )\n\u001b[0;32m-> 3353\u001b[0;31m         \u001b[0;32mreturn\u001b[0m \u001b[0mself\u001b[0m\u001b[0;34m.\u001b[0m\u001b[0m_constructor\u001b[0m\u001b[0;34m(\u001b[0m\u001b[0mnew_data\u001b[0m\u001b[0;34m)\u001b[0m\u001b[0;34m.\u001b[0m\u001b[0m__finalize__\u001b[0m\u001b[0;34m(\u001b[0m\u001b[0mself\u001b[0m\u001b[0;34m,\u001b[0m \u001b[0mmethod\u001b[0m\u001b[0;34m=\u001b[0m\u001b[0;34m\"take\"\u001b[0m\u001b[0;34m)\u001b[0m\u001b[0;34m\u001b[0m\u001b[0;34m\u001b[0m\u001b[0m\n\u001b[0m\u001b[1;32m   3354\u001b[0m \u001b[0;34m\u001b[0m\u001b[0m\n\u001b[1;32m   3355\u001b[0m     \u001b[0;32mdef\u001b[0m \u001b[0m_take_with_is_copy\u001b[0m\u001b[0;34m(\u001b[0m\u001b[0mself\u001b[0m\u001b[0;34m:\u001b[0m \u001b[0mFrameOrSeries\u001b[0m\u001b[0;34m,\u001b[0m \u001b[0mindices\u001b[0m\u001b[0;34m,\u001b[0m \u001b[0maxis\u001b[0m\u001b[0;34m=\u001b[0m\u001b[0;36m0\u001b[0m\u001b[0;34m)\u001b[0m \u001b[0;34m->\u001b[0m \u001b[0mFrameOrSeries\u001b[0m\u001b[0;34m:\u001b[0m\u001b[0;34m\u001b[0m\u001b[0;34m\u001b[0m\u001b[0m\n",
      "\u001b[0;32m~/environments/albert/lib/python3.6/site-packages/geopandas/geodataframe.py\u001b[0m in \u001b[0;36m__init__\u001b[0;34m(self, geometry, crs, *args, **kwargs)\u001b[0m\n\u001b[1;32m    165\u001b[0m                 )\n\u001b[1;32m    166\u001b[0m                 \u001b[0;31m# TODO: raise error in 0.9 or 0.10.\u001b[0m\u001b[0;34m\u001b[0m\u001b[0;34m\u001b[0m\u001b[0;34m\u001b[0m\u001b[0m\n\u001b[0;32m--> 167\u001b[0;31m             \u001b[0mself\u001b[0m\u001b[0;34m.\u001b[0m\u001b[0mset_geometry\u001b[0m\u001b[0;34m(\u001b[0m\u001b[0mgeometry\u001b[0m\u001b[0;34m,\u001b[0m \u001b[0minplace\u001b[0m\u001b[0;34m=\u001b[0m\u001b[0;32mTrue\u001b[0m\u001b[0;34m)\u001b[0m\u001b[0;34m\u001b[0m\u001b[0;34m\u001b[0m\u001b[0m\n\u001b[0m\u001b[1;32m    168\u001b[0m \u001b[0;34m\u001b[0m\u001b[0m\n\u001b[1;32m    169\u001b[0m         \u001b[0;32mif\u001b[0m \u001b[0mgeometry\u001b[0m \u001b[0;32mis\u001b[0m \u001b[0;32mNone\u001b[0m \u001b[0;32mand\u001b[0m \u001b[0mcrs\u001b[0m\u001b[0;34m:\u001b[0m\u001b[0;34m\u001b[0m\u001b[0;34m\u001b[0m\u001b[0m\n",
      "\u001b[0;32m~/environments/albert/lib/python3.6/site-packages/geopandas/geodataframe.py\u001b[0m in \u001b[0;36mset_geometry\u001b[0;34m(self, col, drop, inplace, crs)\u001b[0m\n\u001b[1;32m    287\u001b[0m             \u001b[0mcrs\u001b[0m \u001b[0;34m=\u001b[0m \u001b[0mlevel_crs\u001b[0m \u001b[0;32mif\u001b[0m \u001b[0mlevel_crs\u001b[0m \u001b[0;32mis\u001b[0m \u001b[0;32mnot\u001b[0m \u001b[0;32mNone\u001b[0m \u001b[0;32melse\u001b[0m \u001b[0mself\u001b[0m\u001b[0;34m.\u001b[0m\u001b[0m_crs\u001b[0m\u001b[0;34m\u001b[0m\u001b[0;34m\u001b[0m\u001b[0m\n\u001b[1;32m    288\u001b[0m \u001b[0;34m\u001b[0m\u001b[0m\n\u001b[0;32m--> 289\u001b[0;31m         \u001b[0;32mif\u001b[0m \u001b[0misinstance\u001b[0m\u001b[0;34m(\u001b[0m\u001b[0mlevel\u001b[0m\u001b[0;34m,\u001b[0m \u001b[0;34m(\u001b[0m\u001b[0mGeoSeries\u001b[0m\u001b[0;34m,\u001b[0m \u001b[0mGeometryArray\u001b[0m\u001b[0;34m)\u001b[0m\u001b[0;34m)\u001b[0m \u001b[0;32mand\u001b[0m \u001b[0mlevel\u001b[0m\u001b[0;34m.\u001b[0m\u001b[0mcrs\u001b[0m \u001b[0;34m!=\u001b[0m \u001b[0mcrs\u001b[0m\u001b[0;34m:\u001b[0m\u001b[0;34m\u001b[0m\u001b[0;34m\u001b[0m\u001b[0m\n\u001b[0m\u001b[1;32m    290\u001b[0m             \u001b[0;31m# Avoids caching issues/crs sharing issues\u001b[0m\u001b[0;34m\u001b[0m\u001b[0;34m\u001b[0m\u001b[0;34m\u001b[0m\u001b[0m\n\u001b[1;32m    291\u001b[0m             \u001b[0mlevel\u001b[0m \u001b[0;34m=\u001b[0m \u001b[0mlevel\u001b[0m\u001b[0;34m.\u001b[0m\u001b[0mcopy\u001b[0m\u001b[0;34m(\u001b[0m\u001b[0;34m)\u001b[0m\u001b[0;34m\u001b[0m\u001b[0;34m\u001b[0m\u001b[0m\n",
      "\u001b[0;32m~/environments/albert/lib/python3.6/site-packages/pyproj/crs/crs.py\u001b[0m in \u001b[0;36m__ne__\u001b[0;34m(self, other)\u001b[0m\n\u001b[1;32m    994\u001b[0m \u001b[0;34m\u001b[0m\u001b[0m\n\u001b[1;32m    995\u001b[0m     \u001b[0;32mdef\u001b[0m \u001b[0m__ne__\u001b[0m\u001b[0;34m(\u001b[0m\u001b[0mself\u001b[0m\u001b[0;34m,\u001b[0m \u001b[0mother\u001b[0m\u001b[0;34m:\u001b[0m \u001b[0mAny\u001b[0m\u001b[0;34m)\u001b[0m \u001b[0;34m->\u001b[0m \u001b[0mbool\u001b[0m\u001b[0;34m:\u001b[0m\u001b[0;34m\u001b[0m\u001b[0;34m\u001b[0m\u001b[0m\n\u001b[0;32m--> 996\u001b[0;31m         \u001b[0;32mreturn\u001b[0m \u001b[0;32mnot\u001b[0m \u001b[0mself\u001b[0m \u001b[0;34m==\u001b[0m \u001b[0mother\u001b[0m\u001b[0;34m\u001b[0m\u001b[0;34m\u001b[0m\u001b[0m\n\u001b[0m\u001b[1;32m    997\u001b[0m \u001b[0;34m\u001b[0m\u001b[0m\n\u001b[1;32m    998\u001b[0m     \u001b[0;32mdef\u001b[0m \u001b[0m__reduce__\u001b[0m\u001b[0;34m(\u001b[0m\u001b[0mself\u001b[0m\u001b[0;34m)\u001b[0m \u001b[0;34m->\u001b[0m \u001b[0mTuple\u001b[0m\u001b[0;34m[\u001b[0m\u001b[0mType\u001b[0m\u001b[0;34m[\u001b[0m\u001b[0;34m\"CRS\"\u001b[0m\u001b[0;34m]\u001b[0m\u001b[0;34m,\u001b[0m \u001b[0mTuple\u001b[0m\u001b[0;34m[\u001b[0m\u001b[0mstr\u001b[0m\u001b[0;34m]\u001b[0m\u001b[0;34m]\u001b[0m\u001b[0;34m:\u001b[0m\u001b[0;34m\u001b[0m\u001b[0;34m\u001b[0m\u001b[0m\n",
      "\u001b[0;32m~/environments/albert/lib/python3.6/site-packages/pyproj/crs/crs.py\u001b[0m in \u001b[0;36m__eq__\u001b[0;34m(self, other)\u001b[0m\n\u001b[1;32m    991\u001b[0m \u001b[0;34m\u001b[0m\u001b[0m\n\u001b[1;32m    992\u001b[0m     \u001b[0;32mdef\u001b[0m \u001b[0m__eq__\u001b[0m\u001b[0;34m(\u001b[0m\u001b[0mself\u001b[0m\u001b[0;34m,\u001b[0m \u001b[0mother\u001b[0m\u001b[0;34m:\u001b[0m \u001b[0mAny\u001b[0m\u001b[0;34m)\u001b[0m \u001b[0;34m->\u001b[0m \u001b[0mbool\u001b[0m\u001b[0;34m:\u001b[0m\u001b[0;34m\u001b[0m\u001b[0;34m\u001b[0m\u001b[0m\n\u001b[0;32m--> 993\u001b[0;31m         \u001b[0;32mreturn\u001b[0m \u001b[0mself\u001b[0m\u001b[0;34m.\u001b[0m\u001b[0mequals\u001b[0m\u001b[0;34m(\u001b[0m\u001b[0mother\u001b[0m\u001b[0;34m)\u001b[0m\u001b[0;34m\u001b[0m\u001b[0;34m\u001b[0m\u001b[0m\n\u001b[0m\u001b[1;32m    994\u001b[0m \u001b[0;34m\u001b[0m\u001b[0m\n\u001b[1;32m    995\u001b[0m     \u001b[0;32mdef\u001b[0m \u001b[0m__ne__\u001b[0m\u001b[0;34m(\u001b[0m\u001b[0mself\u001b[0m\u001b[0;34m,\u001b[0m \u001b[0mother\u001b[0m\u001b[0;34m:\u001b[0m \u001b[0mAny\u001b[0m\u001b[0;34m)\u001b[0m \u001b[0;34m->\u001b[0m \u001b[0mbool\u001b[0m\u001b[0;34m:\u001b[0m\u001b[0;34m\u001b[0m\u001b[0;34m\u001b[0m\u001b[0m\n",
      "\u001b[0;32m~/environments/albert/lib/python3.6/site-packages/pyproj/crs/crs.py\u001b[0m in \u001b[0;36mequals\u001b[0;34m(self, other, ignore_axis_order)\u001b[0m\n\u001b[1;32m    905\u001b[0m         \u001b[0;32mexcept\u001b[0m \u001b[0mCRSError\u001b[0m\u001b[0;34m:\u001b[0m\u001b[0;34m\u001b[0m\u001b[0;34m\u001b[0m\u001b[0m\n\u001b[1;32m    906\u001b[0m             \u001b[0;32mreturn\u001b[0m \u001b[0;32mFalse\u001b[0m\u001b[0;34m\u001b[0m\u001b[0;34m\u001b[0m\u001b[0m\n\u001b[0;32m--> 907\u001b[0;31m         \u001b[0;32mreturn\u001b[0m \u001b[0msuper\u001b[0m\u001b[0;34m(\u001b[0m\u001b[0;34m)\u001b[0m\u001b[0;34m.\u001b[0m\u001b[0mequals\u001b[0m\u001b[0;34m(\u001b[0m\u001b[0mother\u001b[0m\u001b[0;34m,\u001b[0m \u001b[0mignore_axis_order\u001b[0m\u001b[0;34m=\u001b[0m\u001b[0mignore_axis_order\u001b[0m\u001b[0;34m)\u001b[0m\u001b[0;34m\u001b[0m\u001b[0;34m\u001b[0m\u001b[0m\n\u001b[0m\u001b[1;32m    908\u001b[0m \u001b[0;34m\u001b[0m\u001b[0m\n\u001b[1;32m    909\u001b[0m     \u001b[0;34m@\u001b[0m\u001b[0mproperty\u001b[0m\u001b[0;34m\u001b[0m\u001b[0;34m\u001b[0m\u001b[0m\n",
      "\u001b[0;31mKeyboardInterrupt\u001b[0m: "
     ]
    }
   ],
   "source": [
    "for city in tqdm(cities_upd.city[61+74+9:]):\n",
    "# for city in tqdm(['Томск', 'Хабаровск']):\n",
    "\n",
    "    if city in ['Королев', 'Артем', 'Щелково', 'Орел']:\n",
    "        city = city.replace('е', \"ё\")\n",
    "\n",
    "    ent_dict[city] = ox.geometries_from_place(city, {\"amenity\": \"fuel\"}).reset_index()"
   ]
  },
  {
   "cell_type": "code",
   "execution_count": 119,
   "metadata": {
    "ExecuteTime": {
     "end_time": "2021-09-24T09:05:03.828693Z",
     "start_time": "2021-09-24T09:05:03.428269Z"
    }
   },
   "outputs": [
    {
     "data": {
      "text/html": [
       "<div>\n",
       "<style scoped>\n",
       "    .dataframe tbody tr th:only-of-type {\n",
       "        vertical-align: middle;\n",
       "    }\n",
       "\n",
       "    .dataframe tbody tr th {\n",
       "        vertical-align: top;\n",
       "    }\n",
       "\n",
       "    .dataframe thead th {\n",
       "        text-align: right;\n",
       "    }\n",
       "</style>\n",
       "<table border=\"1\" class=\"dataframe\">\n",
       "  <thead>\n",
       "    <tr style=\"text-align: right;\">\n",
       "      <th></th>\n",
       "      <th>index</th>\n",
       "      <th>geometry</th>\n",
       "    </tr>\n",
       "  </thead>\n",
       "  <tbody>\n",
       "  </tbody>\n",
       "</table>\n",
       "</div>"
      ],
      "text/plain": [
       "Empty GeoDataFrame\n",
       "Columns: [index, geometry]\n",
       "Index: []"
      ]
     },
     "execution_count": 119,
     "metadata": {},
     "output_type": "execute_result"
    }
   ],
   "source": [
    "ox.geometries_from_place('Саранск', {\"amenity\": \"school\"}).reset_index()"
   ]
  },
  {
   "cell_type": "code",
   "execution_count": null,
   "metadata": {},
   "outputs": [],
   "source": [
    "'Уфа|Брянск|Красноярск|Липецк|Саранск|Нижний Новгород'"
   ]
  },
  {
   "cell_type": "code",
   "execution_count": 30,
   "metadata": {
    "ExecuteTime": {
     "end_time": "2021-09-24T06:26:06.086785Z",
     "start_time": "2021-09-24T06:26:06.076472Z"
    }
   },
   "outputs": [],
   "source": [
    "import pickle\n",
    "with open('overpass_out/omsnx_city_dict_fuel.pickle', 'wb') as handle:\n",
    "    pickle.dump(ent_dict, handle, protocol=pickle.HIGHEST_PROTOCOL)"
   ]
  },
  {
   "cell_type": "code",
   "execution_count": 31,
   "metadata": {
    "ExecuteTime": {
     "end_time": "2021-09-24T06:26:07.459022Z",
     "start_time": "2021-09-24T06:26:07.317155Z"
    }
   },
   "outputs": [
    {
     "name": "stdout",
     "output_type": "stream",
     "text": [
      "city_dict_bar.pickle                omsnx_city_dict_cafe_119_end.pickle\r\n",
      "city_dict_cafe.pickle               omsnx_city_dict_pub_143.pickle\r\n",
      "city_dict_fuel.pickle               omsnx_city_dict_pub_144_end.pickle\r\n",
      "city_dict_pub.pickle                omsnx_city_dict_pub_2_middle.pickle\r\n",
      "city_dict_restaurant.pickle         omsnx_city_dict_restaurant_170.pickle\r\n",
      "city_dict_school.pickle             omsnx_city_dict_restaurant_1.pickle\r\n",
      "omsnx_city_dict_bar_143.pickle      omsnx_city_dict_school_143.pickle\r\n",
      "omsnx_city_dict_bar_144_end.pickle  omsnx_city_dict_school_144_end.pickle\r\n",
      "omsnx_city_dict_cafe_118.pickle\r\n"
     ]
    }
   ],
   "source": [
    "ls overpass_out"
   ]
  },
  {
   "cell_type": "code",
   "execution_count": 53,
   "metadata": {
    "ExecuteTime": {
     "end_time": "2021-09-24T06:39:23.057630Z",
     "start_time": "2021-09-24T06:39:20.024415Z"
    }
   },
   "outputs": [],
   "source": [
    "pub1 = pd.read_pickle('overpass_out/omsnx_city_dict_pub_143.pickle')\n",
    "pub2 = pd.read_pickle('overpass_out/omsnx_city_dict_pub_144_end.pickle')\n",
    "pub3 = pd.read_pickle('overpass_out/omsnx_city_dict_pub_2_middle.pickle')"
   ]
  },
  {
   "cell_type": "code",
   "execution_count": 54,
   "metadata": {
    "ExecuteTime": {
     "end_time": "2021-09-24T06:39:23.061502Z",
     "start_time": "2021-09-24T06:39:23.059366Z"
    }
   },
   "outputs": [],
   "source": [
    "pub1.update(pub2)"
   ]
  },
  {
   "cell_type": "code",
   "execution_count": 55,
   "metadata": {
    "ExecuteTime": {
     "end_time": "2021-09-24T06:39:23.595636Z",
     "start_time": "2021-09-24T06:39:23.590929Z"
    }
   },
   "outputs": [],
   "source": [
    "pub1.update(pub3)"
   ]
  },
  {
   "cell_type": "code",
   "execution_count": 58,
   "metadata": {
    "ExecuteTime": {
     "end_time": "2021-09-24T06:39:37.434938Z",
     "start_time": "2021-09-24T06:39:37.429887Z"
    }
   },
   "outputs": [],
   "source": [
    "assert len(pub1)==171"
   ]
  },
  {
   "cell_type": "code",
   "execution_count": 59,
   "metadata": {
    "ExecuteTime": {
     "end_time": "2021-09-24T06:39:38.798286Z",
     "start_time": "2021-09-24T06:39:38.788793Z"
    }
   },
   "outputs": [
    {
     "data": {
      "text/plain": [
       "{'Артем', 'Королев', 'Орел', 'Щелково'}"
      ]
     },
     "execution_count": 59,
     "metadata": {},
     "output_type": "execute_result"
    }
   ],
   "source": [
    "set(cities_upd.city) - set(pub1.keys())"
   ]
  },
  {
   "cell_type": "code",
   "execution_count": 44,
   "metadata": {
    "ExecuteTime": {
     "end_time": "2021-09-24T06:27:51.708831Z",
     "start_time": "2021-09-24T06:27:51.651212Z"
    }
   },
   "outputs": [],
   "source": [
    "import pickle\n",
    "with open('overpass_out/omsnx_city_dict_pub_ALL.pickle', 'wb') as handle:\n",
    "    pickle.dump(pub1, handle, protocol=pickle.HIGHEST_PROTOCOL)"
   ]
  },
  {
   "cell_type": "code",
   "execution_count": null,
   "metadata": {},
   "outputs": [],
   "source": []
  },
  {
   "cell_type": "code",
   "execution_count": null,
   "metadata": {},
   "outputs": [],
   "source": [
    "STOP"
   ]
  },
  {
   "cell_type": "code",
   "execution_count": 132,
   "metadata": {
    "ExecuteTime": {
     "end_time": "2021-09-22T10:27:54.046302Z",
     "start_time": "2021-09-22T10:27:54.041593Z"
    }
   },
   "outputs": [],
   "source": [
    "# river\n",
    "# forest\n",
    "# pond"
   ]
  },
  {
   "cell_type": "code",
   "execution_count": 3,
   "metadata": {
    "ExecuteTime": {
     "end_time": "2021-09-22T20:51:14.399275Z",
     "start_time": "2021-09-22T20:51:13.017812Z"
    }
   },
   "outputs": [],
   "source": [
    "import osmnx as ox"
   ]
  },
  {
   "cell_type": "code",
   "execution_count": null,
   "metadata": {
    "ExecuteTime": {
     "end_time": "2021-09-22T21:21:09.245154Z",
     "start_time": "2021-09-22T21:18:14.612Z"
    }
   },
   "outputs": [],
   "source": [
    "# place_name = \"Пермь\"\n",
    "# parks = ox.geometries_from_place(place_name, {\"leisure\": \"park\"})\n",
    "# # fuel = ox.geometries_from_place(place_name, {\"amenity\": \"fuel\"})\n",
    "# # river = ox.geometries_from_place(place_name, {\"waterway\": \"river\"})"
   ]
  },
  {
   "cell_type": "code",
   "execution_count": null,
   "metadata": {
    "ExecuteTime": {
     "end_time": "2021-09-22T21:21:09.245927Z",
     "start_time": "2021-09-22T21:18:18.800Z"
    }
   },
   "outputs": [],
   "source": [
    "# parks['geometry'].centroid.apply(lambda x: x.coords)"
   ]
  },
  {
   "cell_type": "code",
   "execution_count": 371,
   "metadata": {
    "ExecuteTime": {
     "end_time": "2021-09-22T17:18:04.868191Z",
     "start_time": "2021-09-22T17:18:04.697990Z"
    }
   },
   "outputs": [],
   "source": [
    "parks = parks.to_crs('epsg:32637')# меняем проекцию для корректного расчета расстояний\n",
    "\n",
    "parks = parks.reset_index()\n",
    "parks['area'] = parks.area / 10**6"
   ]
  },
  {
   "cell_type": "code",
   "execution_count": 380,
   "metadata": {
    "ExecuteTime": {
     "end_time": "2021-09-22T17:18:59.892448Z",
     "start_time": "2021-09-22T17:18:59.868219Z"
    }
   },
   "outputs": [],
   "source": [
    "parks_temp = parks[parks['area']>0]"
   ]
  },
  {
   "cell_type": "code",
   "execution_count": 382,
   "metadata": {
    "ExecuteTime": {
     "end_time": "2021-09-22T17:19:11.328847Z",
     "start_time": "2021-09-22T17:19:11.272248Z"
    }
   },
   "outputs": [
    {
     "data": {
      "text/html": [
       "<div>\n",
       "<style scoped>\n",
       "    .dataframe tbody tr th:only-of-type {\n",
       "        vertical-align: middle;\n",
       "    }\n",
       "\n",
       "    .dataframe tbody tr th {\n",
       "        vertical-align: top;\n",
       "    }\n",
       "\n",
       "    .dataframe thead th {\n",
       "        text-align: right;\n",
       "    }\n",
       "</style>\n",
       "<table border=\"1\" class=\"dataframe\">\n",
       "  <thead>\n",
       "    <tr style=\"text-align: right;\">\n",
       "      <th></th>\n",
       "      <th>element_type</th>\n",
       "      <th>osmid</th>\n",
       "      <th>barrier</th>\n",
       "      <th>geometry</th>\n",
       "      <th>leisure</th>\n",
       "      <th>name</th>\n",
       "      <th>tourism</th>\n",
       "      <th>nodes</th>\n",
       "      <th>old_name</th>\n",
       "      <th>wikidata</th>\n",
       "      <th>wikipedia</th>\n",
       "      <th>alt_name</th>\n",
       "      <th>name:de</th>\n",
       "      <th>name:en</th>\n",
       "      <th>leaf_type</th>\n",
       "      <th>natural</th>\n",
       "      <th>landuse</th>\n",
       "      <th>fence_type</th>\n",
       "      <th>height</th>\n",
       "      <th>wheelchair</th>\n",
       "      <th>description</th>\n",
       "      <th>ways</th>\n",
       "      <th>type</th>\n",
       "      <th>area</th>\n",
       "    </tr>\n",
       "  </thead>\n",
       "  <tbody>\n",
       "    <tr>\n",
       "      <th>2</th>\n",
       "      <td>way</td>\n",
       "      <td>25063656</td>\n",
       "      <td>NaN</td>\n",
       "      <td>POLYGON ((3639316.195 8017712.364, 3639048.461...</td>\n",
       "      <td>park</td>\n",
       "      <td>ПКиО \"Балатово\"</td>\n",
       "      <td>NaN</td>\n",
       "      <td>[272703701, 1888549728, 1888549730, 272703702,...</td>\n",
       "      <td>NaN</td>\n",
       "      <td>NaN</td>\n",
       "      <td>NaN</td>\n",
       "      <td>NaN</td>\n",
       "      <td>NaN</td>\n",
       "      <td>NaN</td>\n",
       "      <td>NaN</td>\n",
       "      <td>NaN</td>\n",
       "      <td>NaN</td>\n",
       "      <td>NaN</td>\n",
       "      <td>NaN</td>\n",
       "      <td>NaN</td>\n",
       "      <td>NaN</td>\n",
       "      <td>NaN</td>\n",
       "      <td>NaN</td>\n",
       "      <td>0.077847</td>\n",
       "    </tr>\n",
       "    <tr>\n",
       "      <th>3</th>\n",
       "      <td>way</td>\n",
       "      <td>25106910</td>\n",
       "      <td>NaN</td>\n",
       "      <td>POLYGON ((3640405.205 8025592.106, 3640463.988...</td>\n",
       "      <td>park</td>\n",
       "      <td>Сквер им. Розалии Землячки</td>\n",
       "      <td>NaN</td>\n",
       "      <td>[273297503, 273297504, 273297505, 273297506, 2...</td>\n",
       "      <td>NaN</td>\n",
       "      <td>NaN</td>\n",
       "      <td>NaN</td>\n",
       "      <td>NaN</td>\n",
       "      <td>NaN</td>\n",
       "      <td>NaN</td>\n",
       "      <td>NaN</td>\n",
       "      <td>NaN</td>\n",
       "      <td>NaN</td>\n",
       "      <td>NaN</td>\n",
       "      <td>NaN</td>\n",
       "      <td>NaN</td>\n",
       "      <td>NaN</td>\n",
       "      <td>NaN</td>\n",
       "      <td>NaN</td>\n",
       "      <td>0.033282</td>\n",
       "    </tr>\n",
       "    <tr>\n",
       "      <th>5</th>\n",
       "      <td>way</td>\n",
       "      <td>25107733</td>\n",
       "      <td>NaN</td>\n",
       "      <td>POLYGON ((3640015.044 8026226.849, 3640001.634...</td>\n",
       "      <td>park</td>\n",
       "      <td>NaN</td>\n",
       "      <td>NaN</td>\n",
       "      <td>[273317007, 7117282219, 7117282221, 1344306414...</td>\n",
       "      <td>NaN</td>\n",
       "      <td>NaN</td>\n",
       "      <td>NaN</td>\n",
       "      <td>NaN</td>\n",
       "      <td>NaN</td>\n",
       "      <td>NaN</td>\n",
       "      <td>NaN</td>\n",
       "      <td>NaN</td>\n",
       "      <td>NaN</td>\n",
       "      <td>NaN</td>\n",
       "      <td>NaN</td>\n",
       "      <td>NaN</td>\n",
       "      <td>NaN</td>\n",
       "      <td>NaN</td>\n",
       "      <td>NaN</td>\n",
       "      <td>0.023367</td>\n",
       "    </tr>\n",
       "    <tr>\n",
       "      <th>6</th>\n",
       "      <td>way</td>\n",
       "      <td>25347920</td>\n",
       "      <td>NaN</td>\n",
       "      <td>POLYGON ((3639054.891 8021977.224, 3639133.546...</td>\n",
       "      <td>park</td>\n",
       "      <td>Сквер Уральских добровольцев</td>\n",
       "      <td>NaN</td>\n",
       "      <td>[276237983, 1430536444, 6498382529, 276237984,...</td>\n",
       "      <td>Чёрный рынок</td>\n",
       "      <td>Q4518915</td>\n",
       "      <td>ru:Чёрный рынок (Пермь)</td>\n",
       "      <td>NaN</td>\n",
       "      <td>NaN</td>\n",
       "      <td>NaN</td>\n",
       "      <td>NaN</td>\n",
       "      <td>NaN</td>\n",
       "      <td>NaN</td>\n",
       "      <td>NaN</td>\n",
       "      <td>NaN</td>\n",
       "      <td>NaN</td>\n",
       "      <td>NaN</td>\n",
       "      <td>NaN</td>\n",
       "      <td>NaN</td>\n",
       "      <td>0.016037</td>\n",
       "    </tr>\n",
       "    <tr>\n",
       "      <th>7</th>\n",
       "      <td>way</td>\n",
       "      <td>25376945</td>\n",
       "      <td>NaN</td>\n",
       "      <td>POLYGON ((3638678.176 8019363.481, 3638726.542...</td>\n",
       "      <td>park</td>\n",
       "      <td>Сквер им. Ф. Э. Дзержинского</td>\n",
       "      <td>NaN</td>\n",
       "      <td>[276597820, 6960725575, 558932692, 558932688, ...</td>\n",
       "      <td>NaN</td>\n",
       "      <td>NaN</td>\n",
       "      <td>NaN</td>\n",
       "      <td>NaN</td>\n",
       "      <td>NaN</td>\n",
       "      <td>NaN</td>\n",
       "      <td>NaN</td>\n",
       "      <td>NaN</td>\n",
       "      <td>NaN</td>\n",
       "      <td>NaN</td>\n",
       "      <td>NaN</td>\n",
       "      <td>NaN</td>\n",
       "      <td>NaN</td>\n",
       "      <td>NaN</td>\n",
       "      <td>NaN</td>\n",
       "      <td>0.013935</td>\n",
       "    </tr>\n",
       "    <tr>\n",
       "      <th>8</th>\n",
       "      <td>way</td>\n",
       "      <td>25482034</td>\n",
       "      <td>NaN</td>\n",
       "      <td>POLYGON ((3638435.447 8019296.781, 3638473.040...</td>\n",
       "      <td>park</td>\n",
       "      <td>Сквер 250-летия г. Перми</td>\n",
       "      <td>NaN</td>\n",
       "      <td>[3945218968, 3945217654, 6291471442, 394527672...</td>\n",
       "      <td>NaN</td>\n",
       "      <td>Q4345319</td>\n",
       "      <td>ru:Парк камней</td>\n",
       "      <td>Парк камней</td>\n",
       "      <td>NaN</td>\n",
       "      <td>NaN</td>\n",
       "      <td>NaN</td>\n",
       "      <td>NaN</td>\n",
       "      <td>NaN</td>\n",
       "      <td>NaN</td>\n",
       "      <td>NaN</td>\n",
       "      <td>NaN</td>\n",
       "      <td>NaN</td>\n",
       "      <td>NaN</td>\n",
       "      <td>NaN</td>\n",
       "      <td>0.063209</td>\n",
       "    </tr>\n",
       "    <tr>\n",
       "      <th>9</th>\n",
       "      <td>way</td>\n",
       "      <td>26235745</td>\n",
       "      <td>NaN</td>\n",
       "      <td>POLYGON ((3639587.813 8022975.920, 3639569.584...</td>\n",
       "      <td>park</td>\n",
       "      <td>Театральный сад</td>\n",
       "      <td>NaN</td>\n",
       "      <td>[287283491, 287283543, 2874495552, 287283741, ...</td>\n",
       "      <td>NaN</td>\n",
       "      <td>NaN</td>\n",
       "      <td>NaN</td>\n",
       "      <td>NaN</td>\n",
       "      <td>Theatergarten</td>\n",
       "      <td>Theatre Garden</td>\n",
       "      <td>NaN</td>\n",
       "      <td>NaN</td>\n",
       "      <td>NaN</td>\n",
       "      <td>NaN</td>\n",
       "      <td>NaN</td>\n",
       "      <td>NaN</td>\n",
       "      <td>NaN</td>\n",
       "      <td>NaN</td>\n",
       "      <td>NaN</td>\n",
       "      <td>0.065205</td>\n",
       "    </tr>\n",
       "    <tr>\n",
       "      <th>10</th>\n",
       "      <td>way</td>\n",
       "      <td>26583105</td>\n",
       "      <td>NaN</td>\n",
       "      <td>POLYGON ((3640077.022 8023422.594, 3640104.028...</td>\n",
       "      <td>park</td>\n",
       "      <td>Сад Декабристов</td>\n",
       "      <td>NaN</td>\n",
       "      <td>[291521472, 291521473, 291521474, 291521475, 8...</td>\n",
       "      <td>NaN</td>\n",
       "      <td>NaN</td>\n",
       "      <td>NaN</td>\n",
       "      <td>Тюремный парк</td>\n",
       "      <td>NaN</td>\n",
       "      <td>NaN</td>\n",
       "      <td>broadleaved</td>\n",
       "      <td>wood</td>\n",
       "      <td>NaN</td>\n",
       "      <td>NaN</td>\n",
       "      <td>NaN</td>\n",
       "      <td>NaN</td>\n",
       "      <td>NaN</td>\n",
       "      <td>NaN</td>\n",
       "      <td>NaN</td>\n",
       "      <td>0.017123</td>\n",
       "    </tr>\n",
       "    <tr>\n",
       "      <th>12</th>\n",
       "      <td>way</td>\n",
       "      <td>31276543</td>\n",
       "      <td>NaN</td>\n",
       "      <td>POLYGON ((3639138.287 8021488.102, 3639140.250...</td>\n",
       "      <td>park</td>\n",
       "      <td>Эспланада</td>\n",
       "      <td>NaN</td>\n",
       "      <td>[348000612, 6732813025, 1788803232, 6732813026...</td>\n",
       "      <td>NaN</td>\n",
       "      <td>NaN</td>\n",
       "      <td>NaN</td>\n",
       "      <td>NaN</td>\n",
       "      <td>NaN</td>\n",
       "      <td>NaN</td>\n",
       "      <td>NaN</td>\n",
       "      <td>NaN</td>\n",
       "      <td>NaN</td>\n",
       "      <td>NaN</td>\n",
       "      <td>NaN</td>\n",
       "      <td>NaN</td>\n",
       "      <td>NaN</td>\n",
       "      <td>NaN</td>\n",
       "      <td>NaN</td>\n",
       "      <td>0.030025</td>\n",
       "    </tr>\n",
       "    <tr>\n",
       "      <th>13</th>\n",
       "      <td>way</td>\n",
       "      <td>31277521</td>\n",
       "      <td>NaN</td>\n",
       "      <td>POLYGON ((3641094.520 8018594.441, 3641222.067...</td>\n",
       "      <td>park</td>\n",
       "      <td>Сквер имени Миндовского</td>\n",
       "      <td>NaN</td>\n",
       "      <td>[348008720, 4768327561, 348008721, 348008723, ...</td>\n",
       "      <td>NaN</td>\n",
       "      <td>Q16698236</td>\n",
       "      <td>ru:Сквер Миндовского</td>\n",
       "      <td>NaN</td>\n",
       "      <td>NaN</td>\n",
       "      <td>NaN</td>\n",
       "      <td>NaN</td>\n",
       "      <td>wood</td>\n",
       "      <td>NaN</td>\n",
       "      <td>NaN</td>\n",
       "      <td>NaN</td>\n",
       "      <td>NaN</td>\n",
       "      <td>NaN</td>\n",
       "      <td>NaN</td>\n",
       "      <td>NaN</td>\n",
       "      <td>0.122076</td>\n",
       "    </tr>\n",
       "    <tr>\n",
       "      <th>14</th>\n",
       "      <td>way</td>\n",
       "      <td>39338063</td>\n",
       "      <td>NaN</td>\n",
       "      <td>POLYGON ((3642732.831 8016005.368, 3642655.951...</td>\n",
       "      <td>park</td>\n",
       "      <td>Парк Победы</td>\n",
       "      <td>NaN</td>\n",
       "      <td>[3509314810, 5625921685, 471280848, 3149337201...</td>\n",
       "      <td>NaN</td>\n",
       "      <td>NaN</td>\n",
       "      <td>NaN</td>\n",
       "      <td>NaN</td>\n",
       "      <td>NaN</td>\n",
       "      <td>NaN</td>\n",
       "      <td>NaN</td>\n",
       "      <td>NaN</td>\n",
       "      <td>NaN</td>\n",
       "      <td>NaN</td>\n",
       "      <td>NaN</td>\n",
       "      <td>NaN</td>\n",
       "      <td>NaN</td>\n",
       "      <td>NaN</td>\n",
       "      <td>NaN</td>\n",
       "      <td>0.166336</td>\n",
       "    </tr>\n",
       "    <tr>\n",
       "      <th>15</th>\n",
       "      <td>way</td>\n",
       "      <td>42092359</td>\n",
       "      <td>NaN</td>\n",
       "      <td>POLYGON ((3643344.389 8017936.601, 3643569.535...</td>\n",
       "      <td>park</td>\n",
       "      <td>Сквер Победителей</td>\n",
       "      <td>NaN</td>\n",
       "      <td>[522976427, 522976415, 463171776, 522976428, 5...</td>\n",
       "      <td>NaN</td>\n",
       "      <td>NaN</td>\n",
       "      <td>NaN</td>\n",
       "      <td>NaN</td>\n",
       "      <td>NaN</td>\n",
       "      <td>NaN</td>\n",
       "      <td>NaN</td>\n",
       "      <td>NaN</td>\n",
       "      <td>NaN</td>\n",
       "      <td>NaN</td>\n",
       "      <td>NaN</td>\n",
       "      <td>NaN</td>\n",
       "      <td>NaN</td>\n",
       "      <td>NaN</td>\n",
       "      <td>NaN</td>\n",
       "      <td>0.017491</td>\n",
       "    </tr>\n",
       "    <tr>\n",
       "      <th>16</th>\n",
       "      <td>way</td>\n",
       "      <td>42936522</td>\n",
       "      <td>NaN</td>\n",
       "      <td>POLYGON ((3629560.707 8007253.031, 3629486.001...</td>\n",
       "      <td>park</td>\n",
       "      <td>NaN</td>\n",
       "      <td>NaN</td>\n",
       "      <td>[1147713466, 1147713930, 1147713602, 114771330...</td>\n",
       "      <td>NaN</td>\n",
       "      <td>NaN</td>\n",
       "      <td>NaN</td>\n",
       "      <td>NaN</td>\n",
       "      <td>NaN</td>\n",
       "      <td>NaN</td>\n",
       "      <td>NaN</td>\n",
       "      <td>NaN</td>\n",
       "      <td>NaN</td>\n",
       "      <td>NaN</td>\n",
       "      <td>NaN</td>\n",
       "      <td>NaN</td>\n",
       "      <td>NaN</td>\n",
       "      <td>NaN</td>\n",
       "      <td>NaN</td>\n",
       "      <td>0.570321</td>\n",
       "    </tr>\n",
       "    <tr>\n",
       "      <th>17</th>\n",
       "      <td>way</td>\n",
       "      <td>43327053</td>\n",
       "      <td>NaN</td>\n",
       "      <td>POLYGON ((3638309.516 8021189.436, 3638362.371...</td>\n",
       "      <td>park</td>\n",
       "      <td>Сад имени Н. В. Гоголя</td>\n",
       "      <td>NaN</td>\n",
       "      <td>[544531147, 1469483851, 1469483870, 544531160,...</td>\n",
       "      <td>NaN</td>\n",
       "      <td>NaN</td>\n",
       "      <td>NaN</td>\n",
       "      <td>NaN</td>\n",
       "      <td>NaN</td>\n",
       "      <td>NaN</td>\n",
       "      <td>NaN</td>\n",
       "      <td>NaN</td>\n",
       "      <td>NaN</td>\n",
       "      <td>NaN</td>\n",
       "      <td>NaN</td>\n",
       "      <td>NaN</td>\n",
       "      <td>NaN</td>\n",
       "      <td>NaN</td>\n",
       "      <td>NaN</td>\n",
       "      <td>0.020608</td>\n",
       "    </tr>\n",
       "    <tr>\n",
       "      <th>18</th>\n",
       "      <td>way</td>\n",
       "      <td>44446585</td>\n",
       "      <td>NaN</td>\n",
       "      <td>POLYGON ((3631232.543 8032718.204, 3631434.908...</td>\n",
       "      <td>park</td>\n",
       "      <td>Парк имени Чехова</td>\n",
       "      <td>NaN</td>\n",
       "      <td>[564902103, 564902108, 564902110, 564902052, 9...</td>\n",
       "      <td>NaN</td>\n",
       "      <td>NaN</td>\n",
       "      <td>NaN</td>\n",
       "      <td>NaN</td>\n",
       "      <td>NaN</td>\n",
       "      <td>NaN</td>\n",
       "      <td>NaN</td>\n",
       "      <td>NaN</td>\n",
       "      <td>NaN</td>\n",
       "      <td>NaN</td>\n",
       "      <td>NaN</td>\n",
       "      <td>NaN</td>\n",
       "      <td>NaN</td>\n",
       "      <td>NaN</td>\n",
       "      <td>NaN</td>\n",
       "      <td>0.099498</td>\n",
       "    </tr>\n",
       "    <tr>\n",
       "      <th>20</th>\n",
       "      <td>way</td>\n",
       "      <td>45009568</td>\n",
       "      <td>NaN</td>\n",
       "      <td>POLYGON ((3642286.152 8016859.476, 3642331.164...</td>\n",
       "      <td>park</td>\n",
       "      <td>NaN</td>\n",
       "      <td>NaN</td>\n",
       "      <td>[570578227, 570578228, 570578229, 570578231, 5...</td>\n",
       "      <td>NaN</td>\n",
       "      <td>NaN</td>\n",
       "      <td>NaN</td>\n",
       "      <td>NaN</td>\n",
       "      <td>NaN</td>\n",
       "      <td>NaN</td>\n",
       "      <td>NaN</td>\n",
       "      <td>NaN</td>\n",
       "      <td>NaN</td>\n",
       "      <td>NaN</td>\n",
       "      <td>NaN</td>\n",
       "      <td>NaN</td>\n",
       "      <td>NaN</td>\n",
       "      <td>NaN</td>\n",
       "      <td>NaN</td>\n",
       "      <td>0.013531</td>\n",
       "    </tr>\n",
       "    <tr>\n",
       "      <th>21</th>\n",
       "      <td>way</td>\n",
       "      <td>45893707</td>\n",
       "      <td>NaN</td>\n",
       "      <td>POLYGON ((3633284.880 8038388.458, 3633275.733...</td>\n",
       "      <td>park</td>\n",
       "      <td>NaN</td>\n",
       "      <td>NaN</td>\n",
       "      <td>[584886778, 584886780, 584886783, 584886785, 5...</td>\n",
       "      <td>NaN</td>\n",
       "      <td>NaN</td>\n",
       "      <td>NaN</td>\n",
       "      <td>NaN</td>\n",
       "      <td>NaN</td>\n",
       "      <td>NaN</td>\n",
       "      <td>NaN</td>\n",
       "      <td>NaN</td>\n",
       "      <td>NaN</td>\n",
       "      <td>NaN</td>\n",
       "      <td>NaN</td>\n",
       "      <td>NaN</td>\n",
       "      <td>NaN</td>\n",
       "      <td>NaN</td>\n",
       "      <td>NaN</td>\n",
       "      <td>0.020886</td>\n",
       "    </tr>\n",
       "    <tr>\n",
       "      <th>22</th>\n",
       "      <td>way</td>\n",
       "      <td>45982318</td>\n",
       "      <td>NaN</td>\n",
       "      <td>POLYGON ((3642672.403 8021111.790, 3642700.809...</td>\n",
       "      <td>park</td>\n",
       "      <td>NaN</td>\n",
       "      <td>NaN</td>\n",
       "      <td>[586209521, 586209525, 586209527, 586209533, 5...</td>\n",
       "      <td>NaN</td>\n",
       "      <td>NaN</td>\n",
       "      <td>NaN</td>\n",
       "      <td>NaN</td>\n",
       "      <td>NaN</td>\n",
       "      <td>NaN</td>\n",
       "      <td>NaN</td>\n",
       "      <td>NaN</td>\n",
       "      <td>NaN</td>\n",
       "      <td>NaN</td>\n",
       "      <td>NaN</td>\n",
       "      <td>NaN</td>\n",
       "      <td>NaN</td>\n",
       "      <td>NaN</td>\n",
       "      <td>NaN</td>\n",
       "      <td>0.014858</td>\n",
       "    </tr>\n",
       "    <tr>\n",
       "      <th>23</th>\n",
       "      <td>way</td>\n",
       "      <td>45982319</td>\n",
       "      <td>NaN</td>\n",
       "      <td>POLYGON ((3642418.021 8021289.120, 3642199.830...</td>\n",
       "      <td>park</td>\n",
       "      <td>NaN</td>\n",
       "      <td>NaN</td>\n",
       "      <td>[586209541, 586209543, 586209546, 6251026154, ...</td>\n",
       "      <td>NaN</td>\n",
       "      <td>NaN</td>\n",
       "      <td>NaN</td>\n",
       "      <td>NaN</td>\n",
       "      <td>NaN</td>\n",
       "      <td>NaN</td>\n",
       "      <td>NaN</td>\n",
       "      <td>NaN</td>\n",
       "      <td>NaN</td>\n",
       "      <td>NaN</td>\n",
       "      <td>NaN</td>\n",
       "      <td>NaN</td>\n",
       "      <td>NaN</td>\n",
       "      <td>NaN</td>\n",
       "      <td>NaN</td>\n",
       "      <td>0.010867</td>\n",
       "    </tr>\n",
       "    <tr>\n",
       "      <th>26</th>\n",
       "      <td>way</td>\n",
       "      <td>46676463</td>\n",
       "      <td>NaN</td>\n",
       "      <td>POLYGON ((3638509.912 8019739.154, 3638487.236...</td>\n",
       "      <td>park</td>\n",
       "      <td>Сквер имени Олега Новосёлова</td>\n",
       "      <td>NaN</td>\n",
       "      <td>[596482949, 596482952, 596482915, 596482917, 2...</td>\n",
       "      <td>NaN</td>\n",
       "      <td>NaN</td>\n",
       "      <td>NaN</td>\n",
       "      <td>NaN</td>\n",
       "      <td>NaN</td>\n",
       "      <td>NaN</td>\n",
       "      <td>NaN</td>\n",
       "      <td>NaN</td>\n",
       "      <td>NaN</td>\n",
       "      <td>NaN</td>\n",
       "      <td>NaN</td>\n",
       "      <td>NaN</td>\n",
       "      <td>NaN</td>\n",
       "      <td>NaN</td>\n",
       "      <td>NaN</td>\n",
       "      <td>0.020598</td>\n",
       "    </tr>\n",
       "    <tr>\n",
       "      <th>28</th>\n",
       "      <td>way</td>\n",
       "      <td>46759190</td>\n",
       "      <td>NaN</td>\n",
       "      <td>POLYGON ((3643829.368 8019010.707, 3644146.943...</td>\n",
       "      <td>park</td>\n",
       "      <td>NaN</td>\n",
       "      <td>NaN</td>\n",
       "      <td>[597608197, 597608199, 597608201, 597608213, 5...</td>\n",
       "      <td>NaN</td>\n",
       "      <td>NaN</td>\n",
       "      <td>NaN</td>\n",
       "      <td>NaN</td>\n",
       "      <td>NaN</td>\n",
       "      <td>NaN</td>\n",
       "      <td>NaN</td>\n",
       "      <td>NaN</td>\n",
       "      <td>NaN</td>\n",
       "      <td>NaN</td>\n",
       "      <td>NaN</td>\n",
       "      <td>NaN</td>\n",
       "      <td>NaN</td>\n",
       "      <td>NaN</td>\n",
       "      <td>NaN</td>\n",
       "      <td>0.026340</td>\n",
       "    </tr>\n",
       "    <tr>\n",
       "      <th>31</th>\n",
       "      <td>way</td>\n",
       "      <td>49401355</td>\n",
       "      <td>NaN</td>\n",
       "      <td>POLYGON ((3640792.827 8024664.029, 3640852.915...</td>\n",
       "      <td>park</td>\n",
       "      <td>NaN</td>\n",
       "      <td>NaN</td>\n",
       "      <td>[627330460, 627330461, 627330462, 627330470, 6...</td>\n",
       "      <td>NaN</td>\n",
       "      <td>NaN</td>\n",
       "      <td>NaN</td>\n",
       "      <td>NaN</td>\n",
       "      <td>NaN</td>\n",
       "      <td>NaN</td>\n",
       "      <td>NaN</td>\n",
       "      <td>NaN</td>\n",
       "      <td>NaN</td>\n",
       "      <td>NaN</td>\n",
       "      <td>NaN</td>\n",
       "      <td>NaN</td>\n",
       "      <td>NaN</td>\n",
       "      <td>NaN</td>\n",
       "      <td>NaN</td>\n",
       "      <td>0.018505</td>\n",
       "    </tr>\n",
       "    <tr>\n",
       "      <th>34</th>\n",
       "      <td>way</td>\n",
       "      <td>51484277</td>\n",
       "      <td>NaN</td>\n",
       "      <td>POLYGON ((3639948.347 8026698.049, 3639949.603...</td>\n",
       "      <td>park</td>\n",
       "      <td>ЦПКиО им. Свердлова</td>\n",
       "      <td>NaN</td>\n",
       "      <td>[657881728, 657881730, 657881731, 657881733, 6...</td>\n",
       "      <td>NaN</td>\n",
       "      <td>NaN</td>\n",
       "      <td>NaN</td>\n",
       "      <td>NaN</td>\n",
       "      <td>NaN</td>\n",
       "      <td>NaN</td>\n",
       "      <td>NaN</td>\n",
       "      <td>NaN</td>\n",
       "      <td>NaN</td>\n",
       "      <td>NaN</td>\n",
       "      <td>NaN</td>\n",
       "      <td>NaN</td>\n",
       "      <td>NaN</td>\n",
       "      <td>NaN</td>\n",
       "      <td>NaN</td>\n",
       "      <td>0.059289</td>\n",
       "    </tr>\n",
       "    <tr>\n",
       "      <th>43</th>\n",
       "      <td>way</td>\n",
       "      <td>79882971</td>\n",
       "      <td>NaN</td>\n",
       "      <td>POLYGON ((3633707.767 8036501.353, 3633698.522...</td>\n",
       "      <td>park</td>\n",
       "      <td>NaN</td>\n",
       "      <td>NaN</td>\n",
       "      <td>[932506037, 932508621, 932501610, 598620768, 5...</td>\n",
       "      <td>NaN</td>\n",
       "      <td>NaN</td>\n",
       "      <td>NaN</td>\n",
       "      <td>NaN</td>\n",
       "      <td>NaN</td>\n",
       "      <td>NaN</td>\n",
       "      <td>NaN</td>\n",
       "      <td>NaN</td>\n",
       "      <td>NaN</td>\n",
       "      <td>NaN</td>\n",
       "      <td>NaN</td>\n",
       "      <td>NaN</td>\n",
       "      <td>NaN</td>\n",
       "      <td>NaN</td>\n",
       "      <td>NaN</td>\n",
       "      <td>0.013295</td>\n",
       "    </tr>\n",
       "    <tr>\n",
       "      <th>47</th>\n",
       "      <td>way</td>\n",
       "      <td>83015577</td>\n",
       "      <td>NaN</td>\n",
       "      <td>POLYGON ((3633174.867 8042989.666, 3633216.191...</td>\n",
       "      <td>park</td>\n",
       "      <td>NaN</td>\n",
       "      <td>NaN</td>\n",
       "      <td>[965863616, 6537690717, 965863617, 965863618, ...</td>\n",
       "      <td>NaN</td>\n",
       "      <td>NaN</td>\n",
       "      <td>NaN</td>\n",
       "      <td>NaN</td>\n",
       "      <td>NaN</td>\n",
       "      <td>NaN</td>\n",
       "      <td>NaN</td>\n",
       "      <td>NaN</td>\n",
       "      <td>NaN</td>\n",
       "      <td>NaN</td>\n",
       "      <td>NaN</td>\n",
       "      <td>NaN</td>\n",
       "      <td>NaN</td>\n",
       "      <td>NaN</td>\n",
       "      <td>NaN</td>\n",
       "      <td>0.013337</td>\n",
       "    </tr>\n",
       "    <tr>\n",
       "      <th>48</th>\n",
       "      <td>way</td>\n",
       "      <td>84000971</td>\n",
       "      <td>NaN</td>\n",
       "      <td>POLYGON ((3629299.511 8004632.186, 3629303.331...</td>\n",
       "      <td>park</td>\n",
       "      <td>Сквер ветеранов Афганистана</td>\n",
       "      <td>NaN</td>\n",
       "      <td>[977406128, 977406130, 977406131, 977406132, 9...</td>\n",
       "      <td>NaN</td>\n",
       "      <td>NaN</td>\n",
       "      <td>NaN</td>\n",
       "      <td>NaN</td>\n",
       "      <td>NaN</td>\n",
       "      <td>NaN</td>\n",
       "      <td>NaN</td>\n",
       "      <td>NaN</td>\n",
       "      <td>NaN</td>\n",
       "      <td>NaN</td>\n",
       "      <td>NaN</td>\n",
       "      <td>NaN</td>\n",
       "      <td>NaN</td>\n",
       "      <td>NaN</td>\n",
       "      <td>NaN</td>\n",
       "      <td>0.036359</td>\n",
       "    </tr>\n",
       "    <tr>\n",
       "      <th>50</th>\n",
       "      <td>way</td>\n",
       "      <td>93417893</td>\n",
       "      <td>NaN</td>\n",
       "      <td>POLYGON ((3629610.215 8005165.673, 3629696.881...</td>\n",
       "      <td>park</td>\n",
       "      <td>Сквер молодёжи</td>\n",
       "      <td>NaN</td>\n",
       "      <td>[1083097119, 1083097145, 1083097141, 108309716...</td>\n",
       "      <td>NaN</td>\n",
       "      <td>NaN</td>\n",
       "      <td>NaN</td>\n",
       "      <td>NaN</td>\n",
       "      <td>NaN</td>\n",
       "      <td>NaN</td>\n",
       "      <td>NaN</td>\n",
       "      <td>NaN</td>\n",
       "      <td>NaN</td>\n",
       "      <td>NaN</td>\n",
       "      <td>NaN</td>\n",
       "      <td>NaN</td>\n",
       "      <td>NaN</td>\n",
       "      <td>NaN</td>\n",
       "      <td>NaN</td>\n",
       "      <td>0.023123</td>\n",
       "    </tr>\n",
       "    <tr>\n",
       "      <th>51</th>\n",
       "      <td>way</td>\n",
       "      <td>112591445</td>\n",
       "      <td>NaN</td>\n",
       "      <td>POLYGON ((3629934.344 8005398.445, 3630066.511...</td>\n",
       "      <td>park</td>\n",
       "      <td>NaN</td>\n",
       "      <td>NaN</td>\n",
       "      <td>[1279384620, 529366357, 1279384616, 1279384643...</td>\n",
       "      <td>NaN</td>\n",
       "      <td>NaN</td>\n",
       "      <td>NaN</td>\n",
       "      <td>NaN</td>\n",
       "      <td>NaN</td>\n",
       "      <td>NaN</td>\n",
       "      <td>NaN</td>\n",
       "      <td>NaN</td>\n",
       "      <td>NaN</td>\n",
       "      <td>NaN</td>\n",
       "      <td>NaN</td>\n",
       "      <td>NaN</td>\n",
       "      <td>NaN</td>\n",
       "      <td>NaN</td>\n",
       "      <td>NaN</td>\n",
       "      <td>0.034971</td>\n",
       "    </tr>\n",
       "    <tr>\n",
       "      <th>53</th>\n",
       "      <td>way</td>\n",
       "      <td>133635744</td>\n",
       "      <td>NaN</td>\n",
       "      <td>POLYGON ((3636383.832 8015769.471, 3636409.387...</td>\n",
       "      <td>park</td>\n",
       "      <td>NaN</td>\n",
       "      <td>NaN</td>\n",
       "      <td>[1470881067, 1470881006, 1470880977, 147088095...</td>\n",
       "      <td>NaN</td>\n",
       "      <td>NaN</td>\n",
       "      <td>NaN</td>\n",
       "      <td>NaN</td>\n",
       "      <td>NaN</td>\n",
       "      <td>NaN</td>\n",
       "      <td>NaN</td>\n",
       "      <td>NaN</td>\n",
       "      <td>NaN</td>\n",
       "      <td>NaN</td>\n",
       "      <td>NaN</td>\n",
       "      <td>NaN</td>\n",
       "      <td>NaN</td>\n",
       "      <td>NaN</td>\n",
       "      <td>NaN</td>\n",
       "      <td>0.019272</td>\n",
       "    </tr>\n",
       "    <tr>\n",
       "      <th>61</th>\n",
       "      <td>way</td>\n",
       "      <td>287725002</td>\n",
       "      <td>NaN</td>\n",
       "      <td>POLYGON ((3643587.000 8019681.131, 3643667.108...</td>\n",
       "      <td>park</td>\n",
       "      <td>Сквер Авиаторов</td>\n",
       "      <td>NaN</td>\n",
       "      <td>[2913018564, 2913018551, 2913018550, 291301855...</td>\n",
       "      <td>NaN</td>\n",
       "      <td>NaN</td>\n",
       "      <td>NaN</td>\n",
       "      <td>NaN</td>\n",
       "      <td>NaN</td>\n",
       "      <td>NaN</td>\n",
       "      <td>NaN</td>\n",
       "      <td>NaN</td>\n",
       "      <td>NaN</td>\n",
       "      <td>NaN</td>\n",
       "      <td>NaN</td>\n",
       "      <td>NaN</td>\n",
       "      <td>NaN</td>\n",
       "      <td>NaN</td>\n",
       "      <td>NaN</td>\n",
       "      <td>0.019014</td>\n",
       "    </tr>\n",
       "    <tr>\n",
       "      <th>77</th>\n",
       "      <td>way</td>\n",
       "      <td>463501090</td>\n",
       "      <td>NaN</td>\n",
       "      <td>POLYGON ((3632694.584 8040120.877, 3632698.586...</td>\n",
       "      <td>park</td>\n",
       "      <td>NaN</td>\n",
       "      <td>NaN</td>\n",
       "      <td>[4587670058, 4587670059, 4587670060, 458767006...</td>\n",
       "      <td>NaN</td>\n",
       "      <td>NaN</td>\n",
       "      <td>NaN</td>\n",
       "      <td>NaN</td>\n",
       "      <td>NaN</td>\n",
       "      <td>NaN</td>\n",
       "      <td>NaN</td>\n",
       "      <td>NaN</td>\n",
       "      <td>NaN</td>\n",
       "      <td>NaN</td>\n",
       "      <td>NaN</td>\n",
       "      <td>NaN</td>\n",
       "      <td>NaN</td>\n",
       "      <td>NaN</td>\n",
       "      <td>NaN</td>\n",
       "      <td>0.067186</td>\n",
       "    </tr>\n",
       "    <tr>\n",
       "      <th>79</th>\n",
       "      <td>way</td>\n",
       "      <td>547244724</td>\n",
       "      <td>fence</td>\n",
       "      <td>POLYGON ((3639850.159 8028663.497, 3639880.264...</td>\n",
       "      <td>park</td>\n",
       "      <td>Сквер имени Свердлова</td>\n",
       "      <td>NaN</td>\n",
       "      <td>[1885561852, 1885561851, 2418923815, 613027895...</td>\n",
       "      <td>NaN</td>\n",
       "      <td>NaN</td>\n",
       "      <td>NaN</td>\n",
       "      <td>Райский уголок</td>\n",
       "      <td>NaN</td>\n",
       "      <td>NaN</td>\n",
       "      <td>NaN</td>\n",
       "      <td>NaN</td>\n",
       "      <td>NaN</td>\n",
       "      <td>NaN</td>\n",
       "      <td>NaN</td>\n",
       "      <td>NaN</td>\n",
       "      <td>NaN</td>\n",
       "      <td>NaN</td>\n",
       "      <td>NaN</td>\n",
       "      <td>0.024056</td>\n",
       "    </tr>\n",
       "    <tr>\n",
       "      <th>80</th>\n",
       "      <td>way</td>\n",
       "      <td>551418980</td>\n",
       "      <td>NaN</td>\n",
       "      <td>POLYGON ((3639108.291 8021428.448, 3639179.378...</td>\n",
       "      <td>park</td>\n",
       "      <td>Эспланада</td>\n",
       "      <td>attraction</td>\n",
       "      <td>[5325339997, 7563719656, 7563719657, 532533999...</td>\n",
       "      <td>NaN</td>\n",
       "      <td>NaN</td>\n",
       "      <td>NaN</td>\n",
       "      <td>NaN</td>\n",
       "      <td>NaN</td>\n",
       "      <td>NaN</td>\n",
       "      <td>NaN</td>\n",
       "      <td>NaN</td>\n",
       "      <td>NaN</td>\n",
       "      <td>NaN</td>\n",
       "      <td>NaN</td>\n",
       "      <td>yes</td>\n",
       "      <td>NaN</td>\n",
       "      <td>NaN</td>\n",
       "      <td>NaN</td>\n",
       "      <td>0.069425</td>\n",
       "    </tr>\n",
       "    <tr>\n",
       "      <th>81</th>\n",
       "      <td>way</td>\n",
       "      <td>551419905</td>\n",
       "      <td>NaN</td>\n",
       "      <td>POLYGON ((3638960.539 8020963.493, 3639112.586...</td>\n",
       "      <td>park</td>\n",
       "      <td>Эспланада</td>\n",
       "      <td>attraction</td>\n",
       "      <td>[5325347638, 5325347639, 5325347641, 532534764...</td>\n",
       "      <td>NaN</td>\n",
       "      <td>NaN</td>\n",
       "      <td>NaN</td>\n",
       "      <td>NaN</td>\n",
       "      <td>NaN</td>\n",
       "      <td>NaN</td>\n",
       "      <td>NaN</td>\n",
       "      <td>NaN</td>\n",
       "      <td>NaN</td>\n",
       "      <td>NaN</td>\n",
       "      <td>NaN</td>\n",
       "      <td>yes</td>\n",
       "      <td>NaN</td>\n",
       "      <td>NaN</td>\n",
       "      <td>NaN</td>\n",
       "      <td>0.057421</td>\n",
       "    </tr>\n",
       "    <tr>\n",
       "      <th>85</th>\n",
       "      <td>way</td>\n",
       "      <td>632288359</td>\n",
       "      <td>NaN</td>\n",
       "      <td>POLYGON ((3640415.646 8022113.380, 3640472.144...</td>\n",
       "      <td>park</td>\n",
       "      <td>Парк имени Горького</td>\n",
       "      <td>NaN</td>\n",
       "      <td>[5970222097, 5970222098, 5970222099, 597022210...</td>\n",
       "      <td>NaN</td>\n",
       "      <td>NaN</td>\n",
       "      <td>NaN</td>\n",
       "      <td>NaN</td>\n",
       "      <td>NaN</td>\n",
       "      <td>NaN</td>\n",
       "      <td>NaN</td>\n",
       "      <td>NaN</td>\n",
       "      <td>NaN</td>\n",
       "      <td>NaN</td>\n",
       "      <td>NaN</td>\n",
       "      <td>NaN</td>\n",
       "      <td>NaN</td>\n",
       "      <td>NaN</td>\n",
       "      <td>NaN</td>\n",
       "      <td>0.078562</td>\n",
       "    </tr>\n",
       "    <tr>\n",
       "      <th>87</th>\n",
       "      <td>way</td>\n",
       "      <td>698460390</td>\n",
       "      <td>NaN</td>\n",
       "      <td>POLYGON ((3628040.851 8005326.868, 3628224.790...</td>\n",
       "      <td>park</td>\n",
       "      <td>Парк на Богдана Хмельницкого</td>\n",
       "      <td>NaN</td>\n",
       "      <td>[6559424296, 6559424297, 6559424298, 655942429...</td>\n",
       "      <td>NaN</td>\n",
       "      <td>NaN</td>\n",
       "      <td>NaN</td>\n",
       "      <td>NaN</td>\n",
       "      <td>NaN</td>\n",
       "      <td>NaN</td>\n",
       "      <td>NaN</td>\n",
       "      <td>NaN</td>\n",
       "      <td>NaN</td>\n",
       "      <td>NaN</td>\n",
       "      <td>NaN</td>\n",
       "      <td>NaN</td>\n",
       "      <td>NaN</td>\n",
       "      <td>NaN</td>\n",
       "      <td>NaN</td>\n",
       "      <td>0.036935</td>\n",
       "    </tr>\n",
       "    <tr>\n",
       "      <th>91</th>\n",
       "      <td>way</td>\n",
       "      <td>821808338</td>\n",
       "      <td>NaN</td>\n",
       "      <td>POLYGON ((3645262.951 8018504.909, 3645452.381...</td>\n",
       "      <td>park</td>\n",
       "      <td>NaN</td>\n",
       "      <td>NaN</td>\n",
       "      <td>[7673409430, 7673409431, 7673409432, 767340943...</td>\n",
       "      <td>NaN</td>\n",
       "      <td>NaN</td>\n",
       "      <td>NaN</td>\n",
       "      <td>NaN</td>\n",
       "      <td>NaN</td>\n",
       "      <td>NaN</td>\n",
       "      <td>NaN</td>\n",
       "      <td>NaN</td>\n",
       "      <td>NaN</td>\n",
       "      <td>NaN</td>\n",
       "      <td>NaN</td>\n",
       "      <td>NaN</td>\n",
       "      <td>NaN</td>\n",
       "      <td>NaN</td>\n",
       "      <td>NaN</td>\n",
       "      <td>0.013255</td>\n",
       "    </tr>\n",
       "    <tr>\n",
       "      <th>93</th>\n",
       "      <td>way</td>\n",
       "      <td>935254876</td>\n",
       "      <td>NaN</td>\n",
       "      <td>POLYGON ((3640209.484 8025917.249, 3640252.088...</td>\n",
       "      <td>park</td>\n",
       "      <td>NaN</td>\n",
       "      <td>NaN</td>\n",
       "      <td>[8666830408, 8666830409, 8666830410, 866683041...</td>\n",
       "      <td>NaN</td>\n",
       "      <td>NaN</td>\n",
       "      <td>NaN</td>\n",
       "      <td>NaN</td>\n",
       "      <td>NaN</td>\n",
       "      <td>NaN</td>\n",
       "      <td>NaN</td>\n",
       "      <td>NaN</td>\n",
       "      <td>NaN</td>\n",
       "      <td>NaN</td>\n",
       "      <td>NaN</td>\n",
       "      <td>NaN</td>\n",
       "      <td>NaN</td>\n",
       "      <td>NaN</td>\n",
       "      <td>NaN</td>\n",
       "      <td>0.011792</td>\n",
       "    </tr>\n",
       "    <tr>\n",
       "      <th>95</th>\n",
       "      <td>way</td>\n",
       "      <td>964196809</td>\n",
       "      <td>NaN</td>\n",
       "      <td>POLYGON ((3631540.848 8033031.799, 3631615.696...</td>\n",
       "      <td>park</td>\n",
       "      <td>Сквер у Дворца культуры им. А.П.Чехова</td>\n",
       "      <td>NaN</td>\n",
       "      <td>[8918535647, 8918535648, 8918535649, 891853565...</td>\n",
       "      <td>NaN</td>\n",
       "      <td>NaN</td>\n",
       "      <td>NaN</td>\n",
       "      <td>NaN</td>\n",
       "      <td>NaN</td>\n",
       "      <td>NaN</td>\n",
       "      <td>NaN</td>\n",
       "      <td>NaN</td>\n",
       "      <td>NaN</td>\n",
       "      <td>NaN</td>\n",
       "      <td>NaN</td>\n",
       "      <td>NaN</td>\n",
       "      <td>NaN</td>\n",
       "      <td>NaN</td>\n",
       "      <td>NaN</td>\n",
       "      <td>0.055594</td>\n",
       "    </tr>\n",
       "    <tr>\n",
       "      <th>100</th>\n",
       "      <td>relation</td>\n",
       "      <td>13224042</td>\n",
       "      <td>NaN</td>\n",
       "      <td>POLYGON ((3640519.188 8021702.632, 3640515.947...</td>\n",
       "      <td>park</td>\n",
       "      <td>Сквер имени Георгия Буркова</td>\n",
       "      <td>NaN</td>\n",
       "      <td>[[[9097677457, 9097669657, 9100358151, 7204112...</td>\n",
       "      <td>NaN</td>\n",
       "      <td>NaN</td>\n",
       "      <td>NaN</td>\n",
       "      <td>NaN</td>\n",
       "      <td>NaN</td>\n",
       "      <td>NaN</td>\n",
       "      <td>NaN</td>\n",
       "      <td>NaN</td>\n",
       "      <td>NaN</td>\n",
       "      <td>NaN</td>\n",
       "      <td>NaN</td>\n",
       "      <td>NaN</td>\n",
       "      <td>NaN</td>\n",
       "      <td>[983885668, 984225697, 984225698, 983885667, 9...</td>\n",
       "      <td>multipolygon</td>\n",
       "      <td>0.024448</td>\n",
       "    </tr>\n",
       "  </tbody>\n",
       "</table>\n",
       "</div>"
      ],
      "text/plain": [
       "    element_type      osmid barrier  \\\n",
       "2            way   25063656     NaN   \n",
       "3            way   25106910     NaN   \n",
       "5            way   25107733     NaN   \n",
       "6            way   25347920     NaN   \n",
       "7            way   25376945     NaN   \n",
       "8            way   25482034     NaN   \n",
       "9            way   26235745     NaN   \n",
       "10           way   26583105     NaN   \n",
       "12           way   31276543     NaN   \n",
       "13           way   31277521     NaN   \n",
       "14           way   39338063     NaN   \n",
       "15           way   42092359     NaN   \n",
       "16           way   42936522     NaN   \n",
       "17           way   43327053     NaN   \n",
       "18           way   44446585     NaN   \n",
       "20           way   45009568     NaN   \n",
       "21           way   45893707     NaN   \n",
       "22           way   45982318     NaN   \n",
       "23           way   45982319     NaN   \n",
       "26           way   46676463     NaN   \n",
       "28           way   46759190     NaN   \n",
       "31           way   49401355     NaN   \n",
       "34           way   51484277     NaN   \n",
       "43           way   79882971     NaN   \n",
       "47           way   83015577     NaN   \n",
       "48           way   84000971     NaN   \n",
       "50           way   93417893     NaN   \n",
       "51           way  112591445     NaN   \n",
       "53           way  133635744     NaN   \n",
       "61           way  287725002     NaN   \n",
       "77           way  463501090     NaN   \n",
       "79           way  547244724   fence   \n",
       "80           way  551418980     NaN   \n",
       "81           way  551419905     NaN   \n",
       "85           way  632288359     NaN   \n",
       "87           way  698460390     NaN   \n",
       "91           way  821808338     NaN   \n",
       "93           way  935254876     NaN   \n",
       "95           way  964196809     NaN   \n",
       "100     relation   13224042     NaN   \n",
       "\n",
       "                                              geometry leisure  \\\n",
       "2    POLYGON ((3639316.195 8017712.364, 3639048.461...    park   \n",
       "3    POLYGON ((3640405.205 8025592.106, 3640463.988...    park   \n",
       "5    POLYGON ((3640015.044 8026226.849, 3640001.634...    park   \n",
       "6    POLYGON ((3639054.891 8021977.224, 3639133.546...    park   \n",
       "7    POLYGON ((3638678.176 8019363.481, 3638726.542...    park   \n",
       "8    POLYGON ((3638435.447 8019296.781, 3638473.040...    park   \n",
       "9    POLYGON ((3639587.813 8022975.920, 3639569.584...    park   \n",
       "10   POLYGON ((3640077.022 8023422.594, 3640104.028...    park   \n",
       "12   POLYGON ((3639138.287 8021488.102, 3639140.250...    park   \n",
       "13   POLYGON ((3641094.520 8018594.441, 3641222.067...    park   \n",
       "14   POLYGON ((3642732.831 8016005.368, 3642655.951...    park   \n",
       "15   POLYGON ((3643344.389 8017936.601, 3643569.535...    park   \n",
       "16   POLYGON ((3629560.707 8007253.031, 3629486.001...    park   \n",
       "17   POLYGON ((3638309.516 8021189.436, 3638362.371...    park   \n",
       "18   POLYGON ((3631232.543 8032718.204, 3631434.908...    park   \n",
       "20   POLYGON ((3642286.152 8016859.476, 3642331.164...    park   \n",
       "21   POLYGON ((3633284.880 8038388.458, 3633275.733...    park   \n",
       "22   POLYGON ((3642672.403 8021111.790, 3642700.809...    park   \n",
       "23   POLYGON ((3642418.021 8021289.120, 3642199.830...    park   \n",
       "26   POLYGON ((3638509.912 8019739.154, 3638487.236...    park   \n",
       "28   POLYGON ((3643829.368 8019010.707, 3644146.943...    park   \n",
       "31   POLYGON ((3640792.827 8024664.029, 3640852.915...    park   \n",
       "34   POLYGON ((3639948.347 8026698.049, 3639949.603...    park   \n",
       "43   POLYGON ((3633707.767 8036501.353, 3633698.522...    park   \n",
       "47   POLYGON ((3633174.867 8042989.666, 3633216.191...    park   \n",
       "48   POLYGON ((3629299.511 8004632.186, 3629303.331...    park   \n",
       "50   POLYGON ((3629610.215 8005165.673, 3629696.881...    park   \n",
       "51   POLYGON ((3629934.344 8005398.445, 3630066.511...    park   \n",
       "53   POLYGON ((3636383.832 8015769.471, 3636409.387...    park   \n",
       "61   POLYGON ((3643587.000 8019681.131, 3643667.108...    park   \n",
       "77   POLYGON ((3632694.584 8040120.877, 3632698.586...    park   \n",
       "79   POLYGON ((3639850.159 8028663.497, 3639880.264...    park   \n",
       "80   POLYGON ((3639108.291 8021428.448, 3639179.378...    park   \n",
       "81   POLYGON ((3638960.539 8020963.493, 3639112.586...    park   \n",
       "85   POLYGON ((3640415.646 8022113.380, 3640472.144...    park   \n",
       "87   POLYGON ((3628040.851 8005326.868, 3628224.790...    park   \n",
       "91   POLYGON ((3645262.951 8018504.909, 3645452.381...    park   \n",
       "93   POLYGON ((3640209.484 8025917.249, 3640252.088...    park   \n",
       "95   POLYGON ((3631540.848 8033031.799, 3631615.696...    park   \n",
       "100  POLYGON ((3640519.188 8021702.632, 3640515.947...    park   \n",
       "\n",
       "                                       name     tourism  \\\n",
       "2                           ПКиО \"Балатово\"         NaN   \n",
       "3                Сквер им. Розалии Землячки         NaN   \n",
       "5                                       NaN         NaN   \n",
       "6              Сквер Уральских добровольцев         NaN   \n",
       "7              Сквер им. Ф. Э. Дзержинского         NaN   \n",
       "8                  Сквер 250-летия г. Перми         NaN   \n",
       "9                           Театральный сад         NaN   \n",
       "10                          Сад Декабристов         NaN   \n",
       "12                                Эспланада         NaN   \n",
       "13                  Сквер имени Миндовского         NaN   \n",
       "14                              Парк Победы         NaN   \n",
       "15                        Сквер Победителей         NaN   \n",
       "16                                      NaN         NaN   \n",
       "17                   Сад имени Н. В. Гоголя         NaN   \n",
       "18                        Парк имени Чехова         NaN   \n",
       "20                                      NaN         NaN   \n",
       "21                                      NaN         NaN   \n",
       "22                                      NaN         NaN   \n",
       "23                                      NaN         NaN   \n",
       "26             Сквер имени Олега Новосёлова         NaN   \n",
       "28                                      NaN         NaN   \n",
       "31                                      NaN         NaN   \n",
       "34                      ЦПКиО им. Свердлова         NaN   \n",
       "43                                      NaN         NaN   \n",
       "47                                      NaN         NaN   \n",
       "48              Сквер ветеранов Афганистана         NaN   \n",
       "50                           Сквер молодёжи         NaN   \n",
       "51                                      NaN         NaN   \n",
       "53                                      NaN         NaN   \n",
       "61                          Сквер Авиаторов         NaN   \n",
       "77                                      NaN         NaN   \n",
       "79                    Сквер имени Свердлова         NaN   \n",
       "80                                Эспланада  attraction   \n",
       "81                                Эспланада  attraction   \n",
       "85                      Парк имени Горького         NaN   \n",
       "87             Парк на Богдана Хмельницкого         NaN   \n",
       "91                                      NaN         NaN   \n",
       "93                                      NaN         NaN   \n",
       "95   Сквер у Дворца культуры им. А.П.Чехова         NaN   \n",
       "100             Сквер имени Георгия Буркова         NaN   \n",
       "\n",
       "                                                 nodes      old_name  \\\n",
       "2    [272703701, 1888549728, 1888549730, 272703702,...           NaN   \n",
       "3    [273297503, 273297504, 273297505, 273297506, 2...           NaN   \n",
       "5    [273317007, 7117282219, 7117282221, 1344306414...           NaN   \n",
       "6    [276237983, 1430536444, 6498382529, 276237984,...  Чёрный рынок   \n",
       "7    [276597820, 6960725575, 558932692, 558932688, ...           NaN   \n",
       "8    [3945218968, 3945217654, 6291471442, 394527672...           NaN   \n",
       "9    [287283491, 287283543, 2874495552, 287283741, ...           NaN   \n",
       "10   [291521472, 291521473, 291521474, 291521475, 8...           NaN   \n",
       "12   [348000612, 6732813025, 1788803232, 6732813026...           NaN   \n",
       "13   [348008720, 4768327561, 348008721, 348008723, ...           NaN   \n",
       "14   [3509314810, 5625921685, 471280848, 3149337201...           NaN   \n",
       "15   [522976427, 522976415, 463171776, 522976428, 5...           NaN   \n",
       "16   [1147713466, 1147713930, 1147713602, 114771330...           NaN   \n",
       "17   [544531147, 1469483851, 1469483870, 544531160,...           NaN   \n",
       "18   [564902103, 564902108, 564902110, 564902052, 9...           NaN   \n",
       "20   [570578227, 570578228, 570578229, 570578231, 5...           NaN   \n",
       "21   [584886778, 584886780, 584886783, 584886785, 5...           NaN   \n",
       "22   [586209521, 586209525, 586209527, 586209533, 5...           NaN   \n",
       "23   [586209541, 586209543, 586209546, 6251026154, ...           NaN   \n",
       "26   [596482949, 596482952, 596482915, 596482917, 2...           NaN   \n",
       "28   [597608197, 597608199, 597608201, 597608213, 5...           NaN   \n",
       "31   [627330460, 627330461, 627330462, 627330470, 6...           NaN   \n",
       "34   [657881728, 657881730, 657881731, 657881733, 6...           NaN   \n",
       "43   [932506037, 932508621, 932501610, 598620768, 5...           NaN   \n",
       "47   [965863616, 6537690717, 965863617, 965863618, ...           NaN   \n",
       "48   [977406128, 977406130, 977406131, 977406132, 9...           NaN   \n",
       "50   [1083097119, 1083097145, 1083097141, 108309716...           NaN   \n",
       "51   [1279384620, 529366357, 1279384616, 1279384643...           NaN   \n",
       "53   [1470881067, 1470881006, 1470880977, 147088095...           NaN   \n",
       "61   [2913018564, 2913018551, 2913018550, 291301855...           NaN   \n",
       "77   [4587670058, 4587670059, 4587670060, 458767006...           NaN   \n",
       "79   [1885561852, 1885561851, 2418923815, 613027895...           NaN   \n",
       "80   [5325339997, 7563719656, 7563719657, 532533999...           NaN   \n",
       "81   [5325347638, 5325347639, 5325347641, 532534764...           NaN   \n",
       "85   [5970222097, 5970222098, 5970222099, 597022210...           NaN   \n",
       "87   [6559424296, 6559424297, 6559424298, 655942429...           NaN   \n",
       "91   [7673409430, 7673409431, 7673409432, 767340943...           NaN   \n",
       "93   [8666830408, 8666830409, 8666830410, 866683041...           NaN   \n",
       "95   [8918535647, 8918535648, 8918535649, 891853565...           NaN   \n",
       "100  [[[9097677457, 9097669657, 9100358151, 7204112...           NaN   \n",
       "\n",
       "      wikidata                wikipedia        alt_name        name:de  \\\n",
       "2          NaN                      NaN             NaN            NaN   \n",
       "3          NaN                      NaN             NaN            NaN   \n",
       "5          NaN                      NaN             NaN            NaN   \n",
       "6     Q4518915  ru:Чёрный рынок (Пермь)             NaN            NaN   \n",
       "7          NaN                      NaN             NaN            NaN   \n",
       "8     Q4345319           ru:Парк камней     Парк камней            NaN   \n",
       "9          NaN                      NaN             NaN  Theatergarten   \n",
       "10         NaN                      NaN   Тюремный парк            NaN   \n",
       "12         NaN                      NaN             NaN            NaN   \n",
       "13   Q16698236     ru:Сквер Миндовского             NaN            NaN   \n",
       "14         NaN                      NaN             NaN            NaN   \n",
       "15         NaN                      NaN             NaN            NaN   \n",
       "16         NaN                      NaN             NaN            NaN   \n",
       "17         NaN                      NaN             NaN            NaN   \n",
       "18         NaN                      NaN             NaN            NaN   \n",
       "20         NaN                      NaN             NaN            NaN   \n",
       "21         NaN                      NaN             NaN            NaN   \n",
       "22         NaN                      NaN             NaN            NaN   \n",
       "23         NaN                      NaN             NaN            NaN   \n",
       "26         NaN                      NaN             NaN            NaN   \n",
       "28         NaN                      NaN             NaN            NaN   \n",
       "31         NaN                      NaN             NaN            NaN   \n",
       "34         NaN                      NaN             NaN            NaN   \n",
       "43         NaN                      NaN             NaN            NaN   \n",
       "47         NaN                      NaN             NaN            NaN   \n",
       "48         NaN                      NaN             NaN            NaN   \n",
       "50         NaN                      NaN             NaN            NaN   \n",
       "51         NaN                      NaN             NaN            NaN   \n",
       "53         NaN                      NaN             NaN            NaN   \n",
       "61         NaN                      NaN             NaN            NaN   \n",
       "77         NaN                      NaN             NaN            NaN   \n",
       "79         NaN                      NaN  Райский уголок            NaN   \n",
       "80         NaN                      NaN             NaN            NaN   \n",
       "81         NaN                      NaN             NaN            NaN   \n",
       "85         NaN                      NaN             NaN            NaN   \n",
       "87         NaN                      NaN             NaN            NaN   \n",
       "91         NaN                      NaN             NaN            NaN   \n",
       "93         NaN                      NaN             NaN            NaN   \n",
       "95         NaN                      NaN             NaN            NaN   \n",
       "100        NaN                      NaN             NaN            NaN   \n",
       "\n",
       "            name:en    leaf_type natural landuse fence_type height wheelchair  \\\n",
       "2               NaN          NaN     NaN     NaN        NaN    NaN        NaN   \n",
       "3               NaN          NaN     NaN     NaN        NaN    NaN        NaN   \n",
       "5               NaN          NaN     NaN     NaN        NaN    NaN        NaN   \n",
       "6               NaN          NaN     NaN     NaN        NaN    NaN        NaN   \n",
       "7               NaN          NaN     NaN     NaN        NaN    NaN        NaN   \n",
       "8               NaN          NaN     NaN     NaN        NaN    NaN        NaN   \n",
       "9    Theatre Garden          NaN     NaN     NaN        NaN    NaN        NaN   \n",
       "10              NaN  broadleaved    wood     NaN        NaN    NaN        NaN   \n",
       "12              NaN          NaN     NaN     NaN        NaN    NaN        NaN   \n",
       "13              NaN          NaN    wood     NaN        NaN    NaN        NaN   \n",
       "14              NaN          NaN     NaN     NaN        NaN    NaN        NaN   \n",
       "15              NaN          NaN     NaN     NaN        NaN    NaN        NaN   \n",
       "16              NaN          NaN     NaN     NaN        NaN    NaN        NaN   \n",
       "17              NaN          NaN     NaN     NaN        NaN    NaN        NaN   \n",
       "18              NaN          NaN     NaN     NaN        NaN    NaN        NaN   \n",
       "20              NaN          NaN     NaN     NaN        NaN    NaN        NaN   \n",
       "21              NaN          NaN     NaN     NaN        NaN    NaN        NaN   \n",
       "22              NaN          NaN     NaN     NaN        NaN    NaN        NaN   \n",
       "23              NaN          NaN     NaN     NaN        NaN    NaN        NaN   \n",
       "26              NaN          NaN     NaN     NaN        NaN    NaN        NaN   \n",
       "28              NaN          NaN     NaN     NaN        NaN    NaN        NaN   \n",
       "31              NaN          NaN     NaN     NaN        NaN    NaN        NaN   \n",
       "34              NaN          NaN     NaN     NaN        NaN    NaN        NaN   \n",
       "43              NaN          NaN     NaN     NaN        NaN    NaN        NaN   \n",
       "47              NaN          NaN     NaN     NaN        NaN    NaN        NaN   \n",
       "48              NaN          NaN     NaN     NaN        NaN    NaN        NaN   \n",
       "50              NaN          NaN     NaN     NaN        NaN    NaN        NaN   \n",
       "51              NaN          NaN     NaN     NaN        NaN    NaN        NaN   \n",
       "53              NaN          NaN     NaN     NaN        NaN    NaN        NaN   \n",
       "61              NaN          NaN     NaN     NaN        NaN    NaN        NaN   \n",
       "77              NaN          NaN     NaN     NaN        NaN    NaN        NaN   \n",
       "79              NaN          NaN     NaN     NaN        NaN    NaN        NaN   \n",
       "80              NaN          NaN     NaN     NaN        NaN    NaN        yes   \n",
       "81              NaN          NaN     NaN     NaN        NaN    NaN        yes   \n",
       "85              NaN          NaN     NaN     NaN        NaN    NaN        NaN   \n",
       "87              NaN          NaN     NaN     NaN        NaN    NaN        NaN   \n",
       "91              NaN          NaN     NaN     NaN        NaN    NaN        NaN   \n",
       "93              NaN          NaN     NaN     NaN        NaN    NaN        NaN   \n",
       "95              NaN          NaN     NaN     NaN        NaN    NaN        NaN   \n",
       "100             NaN          NaN     NaN     NaN        NaN    NaN        NaN   \n",
       "\n",
       "    description                                               ways  \\\n",
       "2           NaN                                                NaN   \n",
       "3           NaN                                                NaN   \n",
       "5           NaN                                                NaN   \n",
       "6           NaN                                                NaN   \n",
       "7           NaN                                                NaN   \n",
       "8           NaN                                                NaN   \n",
       "9           NaN                                                NaN   \n",
       "10          NaN                                                NaN   \n",
       "12          NaN                                                NaN   \n",
       "13          NaN                                                NaN   \n",
       "14          NaN                                                NaN   \n",
       "15          NaN                                                NaN   \n",
       "16          NaN                                                NaN   \n",
       "17          NaN                                                NaN   \n",
       "18          NaN                                                NaN   \n",
       "20          NaN                                                NaN   \n",
       "21          NaN                                                NaN   \n",
       "22          NaN                                                NaN   \n",
       "23          NaN                                                NaN   \n",
       "26          NaN                                                NaN   \n",
       "28          NaN                                                NaN   \n",
       "31          NaN                                                NaN   \n",
       "34          NaN                                                NaN   \n",
       "43          NaN                                                NaN   \n",
       "47          NaN                                                NaN   \n",
       "48          NaN                                                NaN   \n",
       "50          NaN                                                NaN   \n",
       "51          NaN                                                NaN   \n",
       "53          NaN                                                NaN   \n",
       "61          NaN                                                NaN   \n",
       "77          NaN                                                NaN   \n",
       "79          NaN                                                NaN   \n",
       "80          NaN                                                NaN   \n",
       "81          NaN                                                NaN   \n",
       "85          NaN                                                NaN   \n",
       "87          NaN                                                NaN   \n",
       "91          NaN                                                NaN   \n",
       "93          NaN                                                NaN   \n",
       "95          NaN                                                NaN   \n",
       "100         NaN  [983885668, 984225697, 984225698, 983885667, 9...   \n",
       "\n",
       "             type      area  \n",
       "2             NaN  0.077847  \n",
       "3             NaN  0.033282  \n",
       "5             NaN  0.023367  \n",
       "6             NaN  0.016037  \n",
       "7             NaN  0.013935  \n",
       "8             NaN  0.063209  \n",
       "9             NaN  0.065205  \n",
       "10            NaN  0.017123  \n",
       "12            NaN  0.030025  \n",
       "13            NaN  0.122076  \n",
       "14            NaN  0.166336  \n",
       "15            NaN  0.017491  \n",
       "16            NaN  0.570321  \n",
       "17            NaN  0.020608  \n",
       "18            NaN  0.099498  \n",
       "20            NaN  0.013531  \n",
       "21            NaN  0.020886  \n",
       "22            NaN  0.014858  \n",
       "23            NaN  0.010867  \n",
       "26            NaN  0.020598  \n",
       "28            NaN  0.026340  \n",
       "31            NaN  0.018505  \n",
       "34            NaN  0.059289  \n",
       "43            NaN  0.013295  \n",
       "47            NaN  0.013337  \n",
       "48            NaN  0.036359  \n",
       "50            NaN  0.023123  \n",
       "51            NaN  0.034971  \n",
       "53            NaN  0.019272  \n",
       "61            NaN  0.019014  \n",
       "77            NaN  0.067186  \n",
       "79            NaN  0.024056  \n",
       "80            NaN  0.069425  \n",
       "81            NaN  0.057421  \n",
       "85            NaN  0.078562  \n",
       "87            NaN  0.036935  \n",
       "91            NaN  0.013255  \n",
       "93            NaN  0.011792  \n",
       "95            NaN  0.055594  \n",
       "100  multipolygon  0.024448  "
      ]
     },
     "execution_count": 382,
     "metadata": {},
     "output_type": "execute_result"
    }
   ],
   "source": [
    "parks_temp"
   ]
  },
  {
   "cell_type": "code",
   "execution_count": null,
   "metadata": {
    "ExecuteTime": {
     "end_time": "2021-09-22T21:21:09.249179Z",
     "start_time": "2021-09-22T21:20:51.204Z"
    }
   },
   "outputs": [],
   "source": [
    "parks_temp.plot(figsize=(15,10), color='whitesmoke', linestyle=':', edgecolor='black')\n",
    "parks_temp.to_crs(epsg=32637).plot(markersize=1, ax=ax)"
   ]
  },
  {
   "cell_type": "code",
   "execution_count": 182,
   "metadata": {
    "ExecuteTime": {
     "end_time": "2021-09-22T10:59:31.274718Z",
     "start_time": "2021-09-22T10:59:31.269857Z"
    }
   },
   "outputs": [],
   "source": [
    "# fuel.reset_index()#['geometry'].astype(str)[0]"
   ]
  },
  {
   "cell_type": "code",
   "execution_count": null,
   "metadata": {
    "ExecuteTime": {
     "end_time": "2021-09-22T21:15:25.184113Z",
     "start_time": "2021-09-22T21:12:41.769Z"
    }
   },
   "outputs": [],
   "source": [
    "# fig, ax = ox.plot_footprints(fuel, figsize=(20, 20))"
   ]
  },
  {
   "cell_type": "code",
   "execution_count": null,
   "metadata": {},
   "outputs": [],
   "source": []
  },
  {
   "cell_type": "markdown",
   "metadata": {
    "heading_collapsed": true
   },
   "source": [
    "# coord to city"
   ]
  },
  {
   "cell_type": "code",
   "execution_count": null,
   "metadata": {
    "ExecuteTime": {
     "end_time": "2021-09-22T21:15:25.185699Z",
     "start_time": "2021-09-22T21:13:21.720Z"
    },
    "hidden": true
   },
   "outputs": [],
   "source": [
    "# import geocoder\n",
    "\n",
    "# for i in tqdm(range(120000)):\n",
    "#     g = geocoder.osm([59.8150210, 30.3220263], method='reverse')\n",
    "# #     g.json['city']"
   ]
  },
  {
   "cell_type": "markdown",
   "metadata": {},
   "source": [
    "# folium "
   ]
  },
  {
   "cell_type": "code",
   "execution_count": 395,
   "metadata": {
    "ExecuteTime": {
     "end_time": "2021-09-22T17:24:54.778637Z",
     "start_time": "2021-09-22T17:24:54.772733Z"
    }
   },
   "outputs": [],
   "source": [
    "import folium\n",
    "from folium import Choropleth, Circle, Marker\n",
    "from folium.plugins import HeatMap, MarkerCluster"
   ]
  },
  {
   "cell_type": "code",
   "execution_count": 414,
   "metadata": {
    "ExecuteTime": {
     "end_time": "2021-09-22T17:31:40.082154Z",
     "start_time": "2021-09-22T17:31:39.912613Z"
    }
   },
   "outputs": [
    {
     "data": {
      "text/html": [
       "<div style=\"width:100%;\"><div style=\"position:relative;width:100%;height:0;padding-bottom:60%;\"><span style=\"color:#565656\">Make this Notebook Trusted to load map: File -> Trust Notebook</span><iframe src=\"about:blank\" style=\"position:absolute;width:100%;height:100%;left:0;top:0;border:none !important;\" data-html=%3C%21DOCTYPE%20html%3E%0A%3Chead%3E%20%20%20%20%0A%20%20%20%20%3Cmeta%20http-equiv%3D%22content-type%22%20content%3D%22text/html%3B%20charset%3DUTF-8%22%20/%3E%0A%20%20%20%20%0A%20%20%20%20%20%20%20%20%3Cscript%3E%0A%20%20%20%20%20%20%20%20%20%20%20%20L_NO_TOUCH%20%3D%20false%3B%0A%20%20%20%20%20%20%20%20%20%20%20%20L_DISABLE_3D%20%3D%20false%3B%0A%20%20%20%20%20%20%20%20%3C/script%3E%0A%20%20%20%20%0A%20%20%20%20%3Cstyle%3Ehtml%2C%20body%20%7Bwidth%3A%20100%25%3Bheight%3A%20100%25%3Bmargin%3A%200%3Bpadding%3A%200%3B%7D%3C/style%3E%0A%20%20%20%20%3Cstyle%3E%23map%20%7Bposition%3Aabsolute%3Btop%3A0%3Bbottom%3A0%3Bright%3A0%3Bleft%3A0%3B%7D%3C/style%3E%0A%20%20%20%20%3Cscript%20src%3D%22https%3A//cdn.jsdelivr.net/npm/leaflet%401.6.0/dist/leaflet.js%22%3E%3C/script%3E%0A%20%20%20%20%3Cscript%20src%3D%22https%3A//code.jquery.com/jquery-1.12.4.min.js%22%3E%3C/script%3E%0A%20%20%20%20%3Cscript%20src%3D%22https%3A//maxcdn.bootstrapcdn.com/bootstrap/3.2.0/js/bootstrap.min.js%22%3E%3C/script%3E%0A%20%20%20%20%3Cscript%20src%3D%22https%3A//cdnjs.cloudflare.com/ajax/libs/Leaflet.awesome-markers/2.0.2/leaflet.awesome-markers.js%22%3E%3C/script%3E%0A%20%20%20%20%3Clink%20rel%3D%22stylesheet%22%20href%3D%22https%3A//cdn.jsdelivr.net/npm/leaflet%401.6.0/dist/leaflet.css%22/%3E%0A%20%20%20%20%3Clink%20rel%3D%22stylesheet%22%20href%3D%22https%3A//maxcdn.bootstrapcdn.com/bootstrap/3.2.0/css/bootstrap.min.css%22/%3E%0A%20%20%20%20%3Clink%20rel%3D%22stylesheet%22%20href%3D%22https%3A//maxcdn.bootstrapcdn.com/bootstrap/3.2.0/css/bootstrap-theme.min.css%22/%3E%0A%20%20%20%20%3Clink%20rel%3D%22stylesheet%22%20href%3D%22https%3A//maxcdn.bootstrapcdn.com/font-awesome/4.6.3/css/font-awesome.min.css%22/%3E%0A%20%20%20%20%3Clink%20rel%3D%22stylesheet%22%20href%3D%22https%3A//cdnjs.cloudflare.com/ajax/libs/Leaflet.awesome-markers/2.0.2/leaflet.awesome-markers.css%22/%3E%0A%20%20%20%20%3Clink%20rel%3D%22stylesheet%22%20href%3D%22https%3A//cdn.jsdelivr.net/gh/python-visualization/folium/folium/templates/leaflet.awesome.rotate.min.css%22/%3E%0A%20%20%20%20%0A%20%20%20%20%20%20%20%20%20%20%20%20%3Cmeta%20name%3D%22viewport%22%20content%3D%22width%3Ddevice-width%2C%0A%20%20%20%20%20%20%20%20%20%20%20%20%20%20%20%20initial-scale%3D1.0%2C%20maximum-scale%3D1.0%2C%20user-scalable%3Dno%22%20/%3E%0A%20%20%20%20%20%20%20%20%20%20%20%20%3Cstyle%3E%0A%20%20%20%20%20%20%20%20%20%20%20%20%20%20%20%20%23map_33002fdc123d47539c9b64af4db90acd%20%7B%0A%20%20%20%20%20%20%20%20%20%20%20%20%20%20%20%20%20%20%20%20position%3A%20relative%3B%0A%20%20%20%20%20%20%20%20%20%20%20%20%20%20%20%20%20%20%20%20width%3A%20100.0%25%3B%0A%20%20%20%20%20%20%20%20%20%20%20%20%20%20%20%20%20%20%20%20height%3A%20100.0%25%3B%0A%20%20%20%20%20%20%20%20%20%20%20%20%20%20%20%20%20%20%20%20left%3A%200.0%25%3B%0A%20%20%20%20%20%20%20%20%20%20%20%20%20%20%20%20%20%20%20%20top%3A%200.0%25%3B%0A%20%20%20%20%20%20%20%20%20%20%20%20%20%20%20%20%7D%0A%20%20%20%20%20%20%20%20%20%20%20%20%3C/style%3E%0A%20%20%20%20%20%20%20%20%0A%3C/head%3E%0A%3Cbody%3E%20%20%20%20%0A%20%20%20%20%0A%20%20%20%20%20%20%20%20%20%20%20%20%3Cdiv%20class%3D%22folium-map%22%20id%3D%22map_33002fdc123d47539c9b64af4db90acd%22%20%3E%3C/div%3E%0A%20%20%20%20%20%20%20%20%0A%3C/body%3E%0A%3Cscript%3E%20%20%20%20%0A%20%20%20%20%0A%20%20%20%20%20%20%20%20%20%20%20%20var%20map_33002fdc123d47539c9b64af4db90acd%20%3D%20L.map%28%0A%20%20%20%20%20%20%20%20%20%20%20%20%20%20%20%20%22map_33002fdc123d47539c9b64af4db90acd%22%2C%0A%20%20%20%20%20%20%20%20%20%20%20%20%20%20%20%20%7B%0A%20%20%20%20%20%20%20%20%20%20%20%20%20%20%20%20%20%20%20%20center%3A%20%5B60.0%2C%20100.0%5D%2C%0A%20%20%20%20%20%20%20%20%20%20%20%20%20%20%20%20%20%20%20%20crs%3A%20L.CRS.EPSG3857%2C%0A%20%20%20%20%20%20%20%20%20%20%20%20%20%20%20%20%20%20%20%20zoom%3A%203%2C%0A%20%20%20%20%20%20%20%20%20%20%20%20%20%20%20%20%20%20%20%20zoomControl%3A%20true%2C%0A%20%20%20%20%20%20%20%20%20%20%20%20%20%20%20%20%20%20%20%20preferCanvas%3A%20false%2C%0A%20%20%20%20%20%20%20%20%20%20%20%20%20%20%20%20%7D%0A%20%20%20%20%20%20%20%20%20%20%20%20%29%3B%0A%0A%20%20%20%20%20%20%20%20%20%20%20%20%0A%0A%20%20%20%20%20%20%20%20%0A%20%20%20%20%0A%20%20%20%20%20%20%20%20%20%20%20%20var%20tile_layer_b1a420e3825444f9aa6d45c18d20dec6%20%3D%20L.tileLayer%28%0A%20%20%20%20%20%20%20%20%20%20%20%20%20%20%20%20%22https%3A//cartodb-basemaps-%7Bs%7D.global.ssl.fastly.net/light_all/%7Bz%7D/%7Bx%7D/%7By%7D.png%22%2C%0A%20%20%20%20%20%20%20%20%20%20%20%20%20%20%20%20%7B%22attribution%22%3A%20%22%5Cu0026copy%3B%20%5Cu003ca%20href%3D%5C%22http%3A//www.openstreetmap.org/copyright%5C%22%5Cu003eOpenStreetMap%5Cu003c/a%5Cu003e%20contributors%20%5Cu0026copy%3B%20%5Cu003ca%20href%3D%5C%22http%3A//cartodb.com/attributions%5C%22%5Cu003eCartoDB%5Cu003c/a%5Cu003e%2C%20CartoDB%20%5Cu003ca%20href%20%3D%5C%22http%3A//cartodb.com/attributions%5C%22%5Cu003eattributions%5Cu003c/a%5Cu003e%22%2C%20%22detectRetina%22%3A%20false%2C%20%22maxNativeZoom%22%3A%2018%2C%20%22maxZoom%22%3A%2018%2C%20%22minZoom%22%3A%200%2C%20%22noWrap%22%3A%20false%2C%20%22opacity%22%3A%201%2C%20%22subdomains%22%3A%20%22abc%22%2C%20%22tms%22%3A%20false%7D%0A%20%20%20%20%20%20%20%20%20%20%20%20%29.addTo%28map_33002fdc123d47539c9b64af4db90acd%29%3B%0A%20%20%20%20%20%20%20%20%0A%20%20%20%20%0A%20%20%20%20%20%20%20%20%20%20%20%20var%20marker_cffd07f0d23f4c40a331061131939a6f%20%3D%20L.marker%28%0A%20%20%20%20%20%20%20%20%20%20%20%20%20%20%20%20%5B55.7540471%2C%2037.620405%5D%2C%0A%20%20%20%20%20%20%20%20%20%20%20%20%20%20%20%20%7B%22radius%22%3A%20126550.0%7D%0A%20%20%20%20%20%20%20%20%20%20%20%20%29.addTo%28map_33002fdc123d47539c9b64af4db90acd%29%3B%0A%20%20%20%20%20%20%20%20%0A%20%20%20%20%0A%20%20%20%20%20%20%20%20%20%20%20%20var%20marker_c6aa6c45f1ad4ff188eb5e35ad1dfbf0%20%3D%20L.marker%28%0A%20%20%20%20%20%20%20%20%20%20%20%20%20%20%20%20%5B59.9391313%2C%2030.315900399999997%5D%2C%0A%20%20%20%20%20%20%20%20%20%20%20%20%20%20%20%20%7B%22radius%22%3A%2053840.0%7D%0A%20%20%20%20%20%20%20%20%20%20%20%20%29.addTo%28map_33002fdc123d47539c9b64af4db90acd%29%3B%0A%20%20%20%20%20%20%20%20%0A%20%20%20%20%0A%20%20%20%20%20%20%20%20%20%20%20%20var%20marker_70ec9d2fc35140ee97a1ec36eca8b140%20%3D%20L.marker%28%0A%20%20%20%20%20%20%20%20%20%20%20%20%20%20%20%20%5B55.02819100000001%2C%2082.9211489%5D%2C%0A%20%20%20%20%20%20%20%20%20%20%20%20%20%20%20%20%7B%22radius%22%3A%2016200.0%7D%0A%20%20%20%20%20%20%20%20%20%20%20%20%29.addTo%28map_33002fdc123d47539c9b64af4db90acd%29%3B%0A%20%20%20%20%20%20%20%20%0A%20%20%20%20%0A%20%20%20%20%20%20%20%20%20%20%20%20var%20marker_e1e302c421204c5bb6041f759db76401%20%3D%20L.marker%28%0A%20%20%20%20%20%20%20%20%20%20%20%20%20%20%20%20%5B56.8385216%2C%2060.605491099999995%5D%2C%0A%20%20%20%20%20%20%20%20%20%20%20%20%20%20%20%20%7B%22radius%22%3A%2014950.0%7D%0A%20%20%20%20%20%20%20%20%20%20%20%20%29.addTo%28map_33002fdc123d47539c9b64af4db90acd%29%3B%0A%20%20%20%20%20%20%20%20%0A%20%20%20%20%0A%20%20%20%20%20%20%20%20%20%20%20%20var%20marker_6d551a13896946feb6d177251b5d93dd%20%3D%20L.marker%28%0A%20%20%20%20%20%20%20%20%20%20%20%20%20%20%20%20%5B56.3240627%2C%2044.00539129999999%5D%2C%0A%20%20%20%20%20%20%20%20%20%20%20%20%20%20%20%20%7B%22radius%22%3A%2012440.0%7D%0A%20%20%20%20%20%20%20%20%20%20%20%20%29.addTo%28map_33002fdc123d47539c9b64af4db90acd%29%3B%0A%20%20%20%20%20%20%20%20%0A%20%20%20%20%0A%20%20%20%20%20%20%20%20%20%20%20%20var%20marker_f76663b25e144b3cbd1eccfa7c288e95%20%3D%20L.marker%28%0A%20%20%20%20%20%20%20%20%20%20%20%20%20%20%20%20%5B55.7943584%2C%2049.1114975%5D%2C%0A%20%20%20%20%20%20%20%20%20%20%20%20%20%20%20%20%7B%22radius%22%3A%2012570.0%7D%0A%20%20%20%20%20%20%20%20%20%20%20%20%29.addTo%28map_33002fdc123d47539c9b64af4db90acd%29%3B%0A%20%20%20%20%20%20%20%20%0A%20%20%20%20%0A%20%20%20%20%20%20%20%20%20%20%20%20var%20marker_bb658c8429ac4789a2ba9b49527e1f3b%20%3D%20L.marker%28%0A%20%20%20%20%20%20%20%20%20%20%20%20%20%20%20%20%5B53.195030599999996%2C%2050.1069518%5D%2C%0A%20%20%20%20%20%20%20%20%20%20%20%20%20%20%20%20%7B%22radius%22%3A%2011450.0%7D%0A%20%20%20%20%20%20%20%20%20%20%20%20%29.addTo%28map_33002fdc123d47539c9b64af4db90acd%29%3B%0A%20%20%20%20%20%20%20%20%0A%20%20%20%20%0A%20%20%20%20%20%20%20%20%20%20%20%20var%20marker_766cd827c33749cdb415914d2344c97c%20%3D%20L.marker%28%0A%20%20%20%20%20%20%20%20%20%20%20%20%20%20%20%20%5B54.9848566%2C%2073.3674517%5D%2C%0A%20%20%20%20%20%20%20%20%20%20%20%20%20%20%20%20%7B%22radius%22%3A%2011400.0%7D%0A%20%20%20%20%20%20%20%20%20%20%20%20%29.addTo%28map_33002fdc123d47539c9b64af4db90acd%29%3B%0A%20%20%20%20%20%20%20%20%0A%20%20%20%20%0A%20%20%20%20%20%20%20%20%20%20%20%20var%20marker_2e5f8a2609394d9da44994d89279711e%20%3D%20L.marker%28%0A%20%20%20%20%20%20%20%20%20%20%20%20%20%20%20%20%5B55.16026239999999%2C%2061.400807799999995%5D%2C%0A%20%20%20%20%20%20%20%20%20%20%20%20%20%20%20%20%7B%22radius%22%3A%2011880.0%7D%0A%20%20%20%20%20%20%20%20%20%20%20%20%29.addTo%28map_33002fdc123d47539c9b64af4db90acd%29%3B%0A%20%20%20%20%20%20%20%20%0A%20%20%20%20%0A%20%20%20%20%20%20%20%20%20%20%20%20var%20marker_3502c17956654dfbb81ee23e003ae5d3%20%3D%20L.marker%28%0A%20%20%20%20%20%20%20%20%20%20%20%20%20%20%20%20%5B47.2224566%2C%2039.718803%5D%2C%0A%20%20%20%20%20%20%20%20%20%20%20%20%20%20%20%20%7B%22radius%22%3A%2011380.0%7D%0A%20%20%20%20%20%20%20%20%20%20%20%20%29.addTo%28map_33002fdc123d47539c9b64af4db90acd%29%3B%0A%20%20%20%20%20%20%20%20%0A%20%20%20%20%0A%20%20%20%20%20%20%20%20%20%20%20%20var%20marker_5bbb8edf15cb41dc99fc24b40d2d522f%20%3D%20L.marker%28%0A%20%20%20%20%20%20%20%20%20%20%20%20%20%20%20%20%5B54.73494399999999%2C%2055.9578468%5D%2C%0A%20%20%20%20%20%20%20%20%20%20%20%20%20%20%20%20%7B%22radius%22%3A%2011260.0%7D%0A%20%20%20%20%20%20%20%20%20%20%20%20%29.addTo%28map_33002fdc123d47539c9b64af4db90acd%29%3B%0A%20%20%20%20%20%20%20%20%0A%20%20%20%20%0A%20%20%20%20%20%20%20%20%20%20%20%20var%20marker_8666ec6a36ef4dd19f8140e0fbaa23da%20%3D%20L.marker%28%0A%20%20%20%20%20%20%20%20%20%20%20%20%20%20%20%20%5B48.7070042%2C%2044.5170339%5D%2C%0A%20%20%20%20%20%20%20%20%20%20%20%20%20%20%20%20%7B%22radius%22%3A%2010050.0%7D%0A%20%20%20%20%20%20%20%20%20%20%20%20%29.addTo%28map_33002fdc123d47539c9b64af4db90acd%29%3B%0A%20%20%20%20%20%20%20%20%0A%20%20%20%20%0A%20%20%20%20%20%20%20%20%20%20%20%20var%20marker_d67e9b8cc5714a6cbbede1dcd229239b%20%3D%20L.marker%28%0A%20%20%20%20%20%20%20%20%20%20%20%20%20%20%20%20%5B58.0102583%2C%2056.2342034%5D%2C%0A%20%20%20%20%20%20%20%20%20%20%20%20%20%20%20%20%7B%22radius%22%3A%2010490.0%7D%0A%20%20%20%20%20%20%20%20%20%20%20%20%29.addTo%28map_33002fdc123d47539c9b64af4db90acd%29%3B%0A%20%20%20%20%20%20%20%20%0A%20%20%20%20%0A%20%20%20%20%20%20%20%20%20%20%20%20var%20marker_37c63667043d40269bb7a498fb36d231%20%3D%20L.marker%28%0A%20%20%20%20%20%20%20%20%20%20%20%20%20%20%20%20%5B56.00938789999999%2C%2092.85248059999999%5D%2C%0A%20%20%20%20%20%20%20%20%20%20%20%20%20%20%20%20%7B%22radius%22%3A%2010930.0%7D%0A%20%20%20%20%20%20%20%20%20%20%20%20%29.addTo%28map_33002fdc123d47539c9b64af4db90acd%29%3B%0A%20%20%20%20%20%20%20%20%0A%20%20%20%20%0A%20%20%20%20%20%20%20%20%20%20%20%20var%20marker_d3b37ec59b35472e820d31706047c347%20%3D%20L.marker%28%0A%20%20%20%20%20%20%20%20%20%20%20%20%20%20%20%20%5B51.659333200000006%2C%2039.1969229%5D%2C%0A%20%20%20%20%20%20%20%20%20%20%20%20%20%20%20%20%7B%22radius%22%3A%2010510.0%7D%0A%20%20%20%20%20%20%20%20%20%20%20%20%29.addTo%28map_33002fdc123d47539c9b64af4db90acd%29%3B%0A%20%20%20%20%20%20%20%20%0A%20%20%20%20%0A%20%20%20%20%20%20%20%20%20%20%20%20var%20marker_602595e0bf4847839e89f54bba934fe7%20%3D%20L.marker%28%0A%20%20%20%20%20%20%20%20%20%20%20%20%20%20%20%20%5B51.5303047%2C%2045.9529348%5D%2C%0A%20%20%20%20%20%20%20%20%20%20%20%20%20%20%20%20%7B%22radius%22%3A%208300.0%7D%0A%20%20%20%20%20%20%20%20%20%20%20%20%29.addTo%28map_33002fdc123d47539c9b64af4db90acd%29%3B%0A%20%20%20%20%20%20%20%20%0A%20%20%20%20%0A%20%20%20%20%20%20%20%20%20%20%20%20var%20marker_b803d25089e44a29887f963d9607bae7%20%3D%20L.marker%28%0A%20%20%20%20%20%20%20%20%20%20%20%20%20%20%20%20%5B45.0401604%2C%2038.975964700000006%5D%2C%0A%20%20%20%20%20%20%20%20%20%20%20%20%20%20%20%20%7B%22radius%22%3A%209490.0%7D%0A%20%20%20%20%20%20%20%20%20%20%20%20%29.addTo%28map_33002fdc123d47539c9b64af4db90acd%29%3B%0A%20%20%20%20%20%20%20%20%0A%20%20%20%20%0A%20%20%20%20%20%20%20%20%20%20%20%20var%20marker_9244b9746876458393bcb0a722aac5da%20%3D%20L.marker%28%0A%20%20%20%20%20%20%20%20%20%20%20%20%20%20%20%20%5B53.5205348%2C%2049.3894028%5D%2C%0A%20%20%20%20%20%20%20%20%20%20%20%20%20%20%20%20%7B%22radius%22%3A%206930.0%7D%0A%20%20%20%20%20%20%20%20%20%20%20%20%29.addTo%28map_33002fdc123d47539c9b64af4db90acd%29%3B%0A%20%20%20%20%20%20%20%20%0A%20%20%20%20%0A%20%20%20%20%20%20%20%20%20%20%20%20var%20marker_c9d076d8e3fe4fc19ee7d0471de47e10%20%3D%20L.marker%28%0A%20%20%20%20%20%20%20%20%20%20%20%20%20%20%20%20%5B53.3479968%2C%2083.7798064%5D%2C%0A%20%20%20%20%20%20%20%20%20%20%20%20%20%20%20%20%7B%22radius%22%3A%206310.0%7D%0A%20%20%20%20%20%20%20%20%20%20%20%20%29.addTo%28map_33002fdc123d47539c9b64af4db90acd%29%3B%0A%20%20%20%20%20%20%20%20%0A%20%20%20%20%0A%20%20%20%20%20%20%20%20%20%20%20%20var%20marker_746f07b86f6140d3a8229bc9dab4bad2%20%3D%20L.marker%28%0A%20%20%20%20%20%20%20%20%20%20%20%20%20%20%20%20%5B56.852738%2C%2053.21148960000001%5D%2C%0A%20%20%20%20%20%20%20%20%20%20%20%20%20%20%20%20%7B%22radius%22%3A%206460.0%7D%0A%20%20%20%20%20%20%20%20%20%20%20%20%29.addTo%28map_33002fdc123d47539c9b64af4db90acd%29%3B%0A%20%20%20%20%20%20%20%20%0A%20%20%20%20%0A%20%20%20%20%20%20%20%20%20%20%20%20var%20marker_15afa0b6fff94f64bab32a13acb4a09d%20%3D%20L.marker%28%0A%20%20%20%20%20%20%20%20%20%20%20%20%20%20%20%20%5B54.307941500000005%2C%2048.3748487%5D%2C%0A%20%20%20%20%20%20%20%20%20%20%20%20%20%20%20%20%7B%22radius%22%3A%206250.0%7D%0A%20%20%20%20%20%20%20%20%20%20%20%20%29.addTo%28map_33002fdc123d47539c9b64af4db90acd%29%3B%0A%20%20%20%20%20%20%20%20%0A%20%20%20%20%0A%20%20%20%20%20%20%20%20%20%20%20%20var%20marker_7e8987e6d53748259fec1749f9087f17%20%3D%20L.marker%28%0A%20%20%20%20%20%20%20%20%20%20%20%20%20%20%20%20%5B43.116490399999996%2C%20131.8823937%5D%2C%0A%20%20%20%20%20%20%20%20%20%20%20%20%20%20%20%20%7B%22radius%22%3A%206010.0%7D%0A%20%20%20%20%20%20%20%20%20%20%20%20%29.addTo%28map_33002fdc123d47539c9b64af4db90acd%29%3B%0A%20%20%20%20%20%20%20%20%0A%20%20%20%20%0A%20%20%20%20%20%20%20%20%20%20%20%20var%20marker_b39353c4d3b748888c24c00b438bc60c%20%3D%20L.marker%28%0A%20%20%20%20%20%20%20%20%20%20%20%20%20%20%20%20%5B57.62154770000001%2C%2039.897741100000005%5D%2C%0A%20%20%20%20%20%20%20%20%20%20%20%20%20%20%20%20%7B%22radius%22%3A%206010.0%7D%0A%20%20%20%20%20%20%20%20%20%20%20%20%29.addTo%28map_33002fdc123d47539c9b64af4db90acd%29%3B%0A%20%20%20%20%20%20%20%20%0A%20%20%20%20%0A%20%20%20%20%20%20%20%20%20%20%20%20var%20marker_cef1264d71934e3da7dadf62c5cfb44a%20%3D%20L.marker%28%0A%20%20%20%20%20%20%20%20%20%20%20%20%20%20%20%20%5B52.2864036%2C%20104.28074659999999%5D%2C%0A%20%20%20%20%20%20%20%20%20%20%20%20%20%20%20%20%7B%22radius%22%3A%206180.0%7D%0A%20%20%20%20%20%20%20%20%20%20%20%20%29.addTo%28map_33002fdc123d47539c9b64af4db90acd%29%3B%0A%20%20%20%20%20%20%20%20%0A%20%20%20%20%0A%20%20%20%20%20%20%20%20%20%20%20%20var%20marker_eca7c78475c4407ab2229e6115e76880%20%3D%20L.marker%28%0A%20%20%20%20%20%20%20%20%20%20%20%20%20%20%20%20%5B57.1529744%2C%2065.5344099%5D%2C%0A%20%20%20%20%20%20%20%20%20%20%20%20%20%20%20%20%7B%22radius%22%3A%208170.0%7D%0A%20%20%20%20%20%20%20%20%20%20%20%20%29.addTo%28map_33002fdc123d47539c9b64af4db90acd%29%3B%0A%20%20%20%20%20%20%20%20%0A%20%20%20%20%0A%20%20%20%20%20%20%20%20%20%20%20%20var%20marker_7a4bc1683ff04ae3851d4778cc5296ab%20%3D%20L.marker%28%0A%20%20%20%20%20%20%20%20%20%20%20%20%20%20%20%20%5B42.9849159%2C%2047.504718100000005%5D%2C%0A%20%20%20%20%20%20%20%20%20%20%20%20%20%20%20%20%7B%22radius%22%3A%206040.0%7D%0A%20%20%20%20%20%20%20%20%20%20%20%20%29.addTo%28map_33002fdc123d47539c9b64af4db90acd%29%3B%0A%20%20%20%20%20%20%20%20%0A%20%20%20%20%0A%20%20%20%20%20%20%20%20%20%20%20%20var%20marker_23e97de3ec684329ad0a90ff5476c4b9%20%3D%20L.marker%28%0A%20%20%20%20%20%20%20%20%20%20%20%20%20%20%20%20%5B48.4647258%2C%20135.05989419999997%5D%2C%0A%20%20%20%20%20%20%20%20%20%20%20%20%20%20%20%20%7B%22radius%22%3A%206100.0%7D%0A%20%20%20%20%20%20%20%20%20%20%20%20%29.addTo%28map_33002fdc123d47539c9b64af4db90acd%29%3B%0A%20%20%20%20%20%20%20%20%0A%20%20%20%20%0A%20%20%20%20%20%20%20%20%20%20%20%20var%20marker_2a5a800fa6f9456c9d2a9727ae502d91%20%3D%20L.marker%28%0A%20%20%20%20%20%20%20%20%20%20%20%20%20%20%20%20%5B51.7875092%2C%2055.1018828%5D%2C%0A%20%20%20%20%20%20%20%20%20%20%20%20%20%20%20%20%7B%22radius%22%3A%205730.0%7D%0A%20%20%20%20%20%20%20%20%20%20%20%20%29.addTo%28map_33002fdc123d47539c9b64af4db90acd%29%3B%0A%20%20%20%20%20%20%20%20%0A%20%20%20%20%0A%20%20%20%20%20%20%20%20%20%20%20%20var%20marker_dea4b53270c84d449cc317f334bf9472%20%3D%20L.marker%28%0A%20%20%20%20%20%20%20%20%20%20%20%20%20%20%20%20%5B53.794315000000005%2C%2087.2142745%5D%2C%0A%20%20%20%20%20%20%20%20%20%20%20%20%20%20%20%20%7B%22radius%22%3A%205450.0%7D%0A%20%20%20%20%20%20%20%20%20%20%20%20%29.addTo%28map_33002fdc123d47539c9b64af4db90acd%29%3B%0A%20%20%20%20%20%20%20%20%0A%20%20%20%20%0A%20%20%20%20%20%20%20%20%20%20%20%20var%20marker_62c683b506ca4aadbcb64501f6ec3f6f%20%3D%20L.marker%28%0A%20%20%20%20%20%20%20%20%20%20%20%20%20%20%20%20%5B55.391065100000006%2C%2086.0467781%5D%2C%0A%20%20%20%20%20%20%20%20%20%20%20%20%20%20%20%20%7B%22radius%22%3A%205530.0%7D%0A%20%20%20%20%20%20%20%20%20%20%20%20%29.addTo%28map_33002fdc123d47539c9b64af4db90acd%29%3B%0A%20%20%20%20%20%20%20%20%0A%20%20%20%20%0A%20%20%20%20%20%20%20%20%20%20%20%20var%20marker_7fc98bd2d96a44758b2e5ac576324927%20%3D%20L.marker%28%0A%20%20%20%20%20%20%20%20%20%20%20%20%20%20%20%20%5B54.62544449999999%2C%2039.7358609%5D%2C%0A%20%20%20%20%20%20%20%20%20%20%20%20%20%20%20%20%7B%22radius%22%3A%205350.0%7D%0A%20%20%20%20%20%20%20%20%20%20%20%20%29.addTo%28map_33002fdc123d47539c9b64af4db90acd%29%3B%0A%20%20%20%20%20%20%20%20%0A%20%20%20%20%0A%20%20%20%20%20%20%20%20%20%20%20%20var%20marker_5f7ef1079c694d5fb8d62fe7948af013%20%3D%20L.marker%28%0A%20%20%20%20%20%20%20%20%20%20%20%20%20%20%20%20%5B56.4845804%2C%2084.94815820000001%5D%2C%0A%20%20%20%20%20%20%20%20%20%20%20%20%20%20%20%20%7B%22radius%22%3A%205690.0%7D%0A%20%20%20%20%20%20%20%20%20%20%20%20%29.addTo%28map_33002fdc123d47539c9b64af4db90acd%29%3B%0A%20%20%20%20%20%20%20%20%0A%20%20%20%20%0A%20%20%20%20%20%20%20%20%20%20%20%20var%20marker_17c5aa651137425da4a58758d5bb7a03%20%3D%20L.marker%28%0A%20%20%20%20%20%20%20%20%20%20%20%20%20%20%20%20%5B46.3655652%2C%2048.0559236%5D%2C%0A%20%20%20%20%20%20%20%20%20%20%20%20%20%20%20%20%7B%22radius%22%3A%205240.0%7D%0A%20%20%20%20%20%20%20%20%20%20%20%20%29.addTo%28map_33002fdc123d47539c9b64af4db90acd%29%3B%0A%20%20%20%20%20%20%20%20%0A%20%20%20%20%0A%20%20%20%20%20%20%20%20%20%20%20%20var%20marker_63c9c14cf4e34a3ebcdc7a5d32eb2a2b%20%3D%20L.marker%28%0A%20%20%20%20%20%20%20%20%20%20%20%20%20%20%20%20%5B53.175331400000005%2C%2045.0348625%5D%2C%0A%20%20%20%20%20%20%20%20%20%20%20%20%20%20%20%20%7B%22radius%22%3A%205160.0%7D%0A%20%20%20%20%20%20%20%20%20%20%20%20%29.addTo%28map_33002fdc123d47539c9b64af4db90acd%29%3B%0A%20%20%20%20%20%20%20%20%0A%20%20%20%20%0A%20%20%20%20%20%20%20%20%20%20%20%20var%20marker_5194e27ab4884d7ca421c3beef8d362a%20%3D%20L.marker%28%0A%20%20%20%20%20%20%20%20%20%20%20%20%20%20%20%20%5B55.74346189999999%2C%2052.3959165%5D%2C%0A%20%20%20%20%20%20%20%20%20%20%20%20%20%20%20%20%7B%22radius%22%3A%205320.0%7D%0A%20%20%20%20%20%20%20%20%20%20%20%20%29.addTo%28map_33002fdc123d47539c9b64af4db90acd%29%3B%0A%20%20%20%20%20%20%20%20%0A%20%20%20%20%0A%20%20%20%20%20%20%20%20%20%20%20%20var%20marker_0a0d5dc99c3f47d0bd0af516913a8960%20%3D%20L.marker%28%0A%20%20%20%20%20%20%20%20%20%20%20%20%20%20%20%20%5B52.610248999999996%2C%2039.5947883%5D%2C%0A%20%20%20%20%20%20%20%20%20%20%20%20%20%20%20%20%7B%22radius%22%3A%205030.0%7D%0A%20%20%20%20%20%20%20%20%20%20%20%20%29.addTo%28map_33002fdc123d47539c9b64af4db90acd%29%3B%0A%20%20%20%20%20%20%20%20%0A%20%20%20%20%0A%20%20%20%20%20%20%20%20%20%20%20%20var%20marker_3381e0cb6f6f4682821d40fb06809bd5%20%3D%20L.marker%28%0A%20%20%20%20%20%20%20%20%20%20%20%20%20%20%20%20%5B54.1920559%2C%2037.6153842%5D%2C%0A%20%20%20%20%20%20%20%20%20%20%20%20%20%20%20%20%7B%22radius%22%3A%204680.0%7D%0A%20%20%20%20%20%20%20%20%20%20%20%20%29.addTo%28map_33002fdc123d47539c9b64af4db90acd%29%3B%0A%20%20%20%20%20%20%20%20%0A%20%20%20%20%0A%20%20%20%20%20%20%20%20%20%20%20%20var%20marker_004c0995a963469ca4582f3751d49117%20%3D%20L.marker%28%0A%20%20%20%20%20%20%20%20%20%20%20%20%20%20%20%20%5B58.6035264%2C%2049.6679304%5D%2C%0A%20%20%20%20%20%20%20%20%20%20%20%20%20%20%20%20%7B%22radius%22%3A%205210.0%7D%0A%20%20%20%20%20%20%20%20%20%20%20%20%29.addTo%28map_33002fdc123d47539c9b64af4db90acd%29%3B%0A%20%20%20%20%20%20%20%20%0A%20%20%20%20%0A%20%20%20%20%20%20%20%20%20%20%20%20var%20marker_9c8777c2ec4a42f9b6f52d14bbe6d368%20%3D%20L.marker%28%0A%20%20%20%20%20%20%20%20%20%20%20%20%20%20%20%20%5B56.14382979999999%2C%2047.2489782%5D%2C%0A%20%20%20%20%20%20%20%20%20%20%20%20%20%20%20%20%7B%22radius%22%3A%204960.0%7D%0A%20%20%20%20%20%20%20%20%20%20%20%20%29.addTo%28map_33002fdc123d47539c9b64af4db90acd%29%3B%0A%20%20%20%20%20%20%20%20%0A%20%20%20%20%0A%20%20%20%20%20%20%20%20%20%20%20%20var%20marker_f7d0d2b5fec4473084b8bc2307f45ed7%20%3D%20L.marker%28%0A%20%20%20%20%20%20%20%20%20%20%20%20%20%20%20%20%5B51.833585299999996%2C%20107.5842223%5D%2C%0A%20%20%20%20%20%20%20%20%20%20%20%20%20%20%20%20%7B%22radius%22%3A%204380.0%7D%0A%20%20%20%20%20%20%20%20%20%20%20%20%29.addTo%28map_33002fdc123d47539c9b64af4db90acd%29%3B%0A%20%20%20%20%20%20%20%20%0A%20%20%20%20%0A%20%20%20%20%20%20%20%20%20%20%20%20var%20marker_b2d0d78fcbcf437bb24023cf91e6474f%20%3D%20L.marker%28%0A%20%20%20%20%20%20%20%20%20%20%20%20%20%20%20%20%5B54.7074702%2C%2020.5073241%5D%2C%0A%20%20%20%20%20%20%20%20%20%20%20%20%20%20%20%20%7B%22radius%22%3A%204930.0%7D%0A%20%20%20%20%20%20%20%20%20%20%20%20%29.addTo%28map_33002fdc123d47539c9b64af4db90acd%29%3B%0A%20%20%20%20%20%20%20%20%0A%20%20%20%20%0A%20%20%20%20%20%20%20%20%20%20%20%20var%20marker_9c215dbac5c240058bcf90e36ea6d9af%20%3D%20L.marker%28%0A%20%20%20%20%20%20%20%20%20%20%20%20%20%20%20%20%5B53.2419535%2C%2034.3652146%5D%2C%0A%20%20%20%20%20%20%20%20%20%20%20%20%20%20%20%20%7B%22radius%22%3A%204000.0%7D%0A%20%20%20%20%20%20%20%20%20%20%20%20%29.addTo%28map_33002fdc123d47539c9b64af4db90acd%29%3B%0A%20%20%20%20%20%20%20%20%0A%20%20%20%20%0A%20%20%20%20%20%20%20%20%20%20%20%20var%20marker_77e03172416d4a5eb2565ac238a6a457%20%3D%20L.marker%28%0A%20%20%20%20%20%20%20%20%20%20%20%20%20%20%20%20%5B51.730363700000005%2C%2036.1925603%5D%2C%0A%20%20%20%20%20%20%20%20%20%20%20%20%20%20%20%20%7B%22radius%22%3A%204510.0%7D%0A%20%20%20%20%20%20%20%20%20%20%20%20%29.addTo%28map_33002fdc123d47539c9b64af4db90acd%29%3B%0A%20%20%20%20%20%20%20%20%0A%20%20%20%20%0A%20%20%20%20%20%20%20%20%20%20%20%20var%20marker_c830a71e50f9414cb9f9a8bb9d325dde%20%3D%20L.marker%28%0A%20%20%20%20%20%20%20%20%20%20%20%20%20%20%20%20%5B56.9993792%2C%2040.972827200000005%5D%2C%0A%20%20%20%20%20%20%20%20%20%20%20%20%20%20%20%20%7B%22radius%22%3A%204020.0%7D%0A%20%20%20%20%20%20%20%20%20%20%20%20%29.addTo%28map_33002fdc123d47539c9b64af4db90acd%29%3B%0A%20%20%20%20%20%20%20%20%0A%20%20%20%20%0A%20%20%20%20%20%20%20%20%20%20%20%20var%20marker_f7ddf68140d040ceb1ce8237b620174a%20%3D%20L.marker%28%0A%20%20%20%20%20%20%20%20%20%20%20%20%20%20%20%20%5B53.40721529999999%2C%2058.9791437%5D%2C%0A%20%20%20%20%20%20%20%20%20%20%20%20%20%20%20%20%7B%22radius%22%3A%204130.0%7D%0A%20%20%20%20%20%20%20%20%20%20%20%20%29.addTo%28map_33002fdc123d47539c9b64af4db90acd%29%3B%0A%20%20%20%20%20%20%20%20%0A%20%20%20%20%0A%20%20%20%20%20%20%20%20%20%20%20%20var%20marker_38779ea8442549aeac4779157d649897%20%3D%20L.marker%28%0A%20%20%20%20%20%20%20%20%20%20%20%20%20%20%20%20%5B56.8586059%2C%2035.9116761%5D%2C%0A%20%20%20%20%20%20%20%20%20%20%20%20%20%20%20%20%7B%22radius%22%3A%204250.0%7D%0A%20%20%20%20%20%20%20%20%20%20%20%20%29.addTo%28map_33002fdc123d47539c9b64af4db90acd%29%3B%0A%20%20%20%20%20%20%20%20%0A%20%20%20%20%0A%20%20%20%20%20%20%20%20%20%20%20%20var%20marker_e3074ae0160f4aa5bac789641839241d%20%3D%20L.marker%28%0A%20%20%20%20%20%20%20%20%20%20%20%20%20%20%20%20%5B45.044515999999994%2C%2041.9689655%5D%2C%0A%20%20%20%20%20%20%20%20%20%20%20%20%20%20%20%20%7B%22radius%22%3A%204550.0%7D%0A%20%20%20%20%20%20%20%20%20%20%20%20%29.addTo%28map_33002fdc123d47539c9b64af4db90acd%29%3B%0A%20%20%20%20%20%20%20%20%0A%20%20%20%20%0A%20%20%20%20%20%20%20%20%20%20%20%20var%20marker_a270404eef974c4fba4d615951975db9%20%3D%20L.marker%28%0A%20%20%20%20%20%20%20%20%20%20%20%20%20%20%20%20%5B44.616701299999995%2C%2033.525355%5D%2C%0A%20%20%20%20%20%20%20%20%20%20%20%20%20%20%20%20%7B%22radius%22%3A%205100.0%7D%0A%20%20%20%20%20%20%20%20%20%20%20%20%29.addTo%28map_33002fdc123d47539c9b64af4db90acd%29%3B%0A%20%20%20%20%20%20%20%20%0A%20%20%20%20%0A%20%20%20%20%20%20%20%20%20%20%20%20var%20marker_46f2ad4472ea4a9cb9c13621daf6ed6c%20%3D%20L.marker%28%0A%20%20%20%20%20%20%20%20%20%20%20%20%20%20%20%20%5B57.910126%2C%2059.9812853%5D%2C%0A%20%20%20%20%20%20%20%20%20%20%20%20%20%20%20%20%7B%22radius%22%3A%203450.0%7D%0A%20%20%20%20%20%20%20%20%20%20%20%20%29.addTo%28map_33002fdc123d47539c9b64af4db90acd%29%3B%0A%20%20%20%20%20%20%20%20%0A%20%20%20%20%0A%20%20%20%20%20%20%20%20%20%20%20%20var%20marker_afd23c85d9314104ad0a4cc303b8ae65%20%3D%20L.marker%28%0A%20%20%20%20%20%20%20%20%20%20%20%20%20%20%20%20%5B50.597647200000004%2C%2036.5856652%5D%2C%0A%20%20%20%20%20%20%20%20%20%20%20%20%20%20%20%20%7B%22radius%22%3A%203920.0%7D%0A%20%20%20%20%20%20%20%20%20%20%20%20%29.addTo%28map_33002fdc123d47539c9b64af4db90acd%29%3B%0A%20%20%20%20%20%20%20%20%0A%20%20%20%20%0A%20%20%20%20%20%20%20%20%20%20%20%20var%20marker_e028b41c2f1447b091d614565418fde4%20%3D%20L.marker%28%0A%20%20%20%20%20%20%20%20%20%20%20%20%20%20%20%20%5B64.5394289%2C%2040.516960600000004%5D%2C%0A%20%20%20%20%20%20%20%20%20%20%20%20%20%20%20%20%7B%22radius%22%3A%203450.0%7D%0A%20%20%20%20%20%20%20%20%20%20%20%20%29.addTo%28map_33002fdc123d47539c9b64af4db90acd%29%3B%0A%20%20%20%20%20%20%20%20%0A%20%20%20%20%0A%20%20%20%20%20%20%20%20%20%20%20%20var%20marker_58ae9dfed4f646908c627918a501d4d5%20%3D%20L.marker%28%0A%20%20%20%20%20%20%20%20%20%20%20%20%20%20%20%20%5B56.1280804%2C%2040.4084376%5D%2C%0A%20%20%20%20%20%20%20%20%20%20%20%20%20%20%20%20%7B%22radius%22%3A%203520.0%7D%0A%20%20%20%20%20%20%20%20%20%20%20%20%29.addTo%28map_33002fdc123d47539c9b64af4db90acd%29%3B%0A%20%20%20%20%20%20%20%20%0A%20%20%20%20%0A%20%20%20%20%20%20%20%20%20%20%20%20var%20marker_a371c452d1c8444dac97b88db0379a2d%20%3D%20L.marker%28%0A%20%20%20%20%20%20%20%20%20%20%20%20%20%20%20%20%5B43.585455100000004%2C%2039.723154799999996%5D%2C%0A%20%20%20%20%20%20%20%20%20%20%20%20%20%20%20%20%7B%22radius%22%3A%204320.0%7D%0A%20%20%20%20%20%20%20%20%20%20%20%20%29.addTo%28map_33002fdc123d47539c9b64af4db90acd%29%3B%0A%20%20%20%20%20%20%20%20%0A%20%20%20%20%0A%20%20%20%20%20%20%20%20%20%20%20%20var%20marker_c244d7b264174c38a42484efdf640c64%20%3D%20L.marker%28%0A%20%20%20%20%20%20%20%20%20%20%20%20%20%20%20%20%5B55.44438829999999%2C%2065.3161963%5D%2C%0A%20%20%20%20%20%20%20%20%20%20%20%20%20%20%20%20%7B%22radius%22%3A%203090.0%7D%0A%20%20%20%20%20%20%20%20%20%20%20%20%29.addTo%28map_33002fdc123d47539c9b64af4db90acd%29%3B%0A%20%20%20%20%20%20%20%20%0A%20%20%20%20%0A%20%20%20%20%20%20%20%20%20%20%20%20var%20marker_ec44c203b1224c5abe4aa7ac633b9c25%20%3D%20L.marker%28%0A%20%20%20%20%20%20%20%20%20%20%20%20%20%20%20%20%5B44.9482948%2C%2034.100115100000004%5D%2C%0A%20%20%20%20%20%20%20%20%20%20%20%20%20%20%20%20%7B%22radius%22%3A%203360.0%7D%0A%20%20%20%20%20%20%20%20%20%20%20%20%29.addTo%28map_33002fdc123d47539c9b64af4db90acd%29%3B%0A%20%20%20%20%20%20%20%20%0A%20%20%20%20%0A%20%20%20%20%20%20%20%20%20%20%20%20var%20marker_28453cfcec604c848f9e778a74e5f13f%20%3D%20L.marker%28%0A%20%20%20%20%20%20%20%20%20%20%20%20%20%20%20%20%5B54.786691299999994%2C%2031.8152477%5D%2C%0A%20%20%20%20%20%20%20%20%20%20%20%20%20%20%20%20%7B%22radius%22%3A%203200.0%7D%0A%20%20%20%20%20%20%20%20%20%20%20%20%29.addTo%28map_33002fdc123d47539c9b64af4db90acd%29%3B%0A%20%20%20%20%20%20%20%20%0A%20%20%20%20%0A%20%20%20%20%20%20%20%20%20%20%20%20var%20marker_f2eb40774f6045d4abb6a3786e77705d%20%3D%20L.marker%28%0A%20%20%20%20%20%20%20%20%20%20%20%20%20%20%20%20%5B54.5059848%2C%2036.2516245%5D%2C%0A%20%20%20%20%20%20%20%20%20%20%20%20%20%20%20%20%7B%22radius%22%3A%203320.0%7D%0A%20%20%20%20%20%20%20%20%20%20%20%20%29.addTo%28map_33002fdc123d47539c9b64af4db90acd%29%3B%0A%20%20%20%20%20%20%20%20%0A%20%20%20%20%0A%20%20%20%20%20%20%20%20%20%20%20%20var%20marker_7c394ea6c86549d5a64c2bedd311dbb1%20%3D%20L.marker%28%0A%20%20%20%20%20%20%20%20%20%20%20%20%20%20%20%20%5B52.03401420000001%2C%20113.4994%5D%2C%0A%20%20%20%20%20%20%20%20%20%20%20%20%20%20%20%20%7B%22radius%22%3A%203510.0%7D%0A%20%20%20%20%20%20%20%20%20%20%20%20%29.addTo%28map_33002fdc123d47539c9b64af4db90acd%29%3B%0A%20%20%20%20%20%20%20%20%0A%20%20%20%20%0A%20%20%20%20%20%20%20%20%20%20%20%20var%20marker_c2c910dc4395470e838f5702c92d55b0%20%3D%20L.marker%28%0A%20%20%20%20%20%20%20%20%20%20%20%20%20%20%20%20%5B54.180933200000005%2C%2045.186263200000006%5D%2C%0A%20%20%20%20%20%20%20%20%20%20%20%20%20%20%20%20%7B%22radius%22%3A%203170.0%7D%0A%20%20%20%20%20%20%20%20%20%20%20%20%29.addTo%28map_33002fdc123d47539c9b64af4db90acd%29%3B%0A%20%20%20%20%20%20%20%20%0A%20%20%20%20%0A%20%20%20%20%20%20%20%20%20%20%20%20var%20marker_5096298c3a2546a199cf525cf4cb4b4c%20%3D%20L.marker%28%0A%20%20%20%20%20%20%20%20%20%20%20%20%20%20%20%20%5B52.967129799999995%2C%2036.0696427%5D%2C%0A%20%20%20%20%20%20%20%20%20%20%20%20%20%20%20%20%7B%22radius%22%3A%203040.0%7D%0A%20%20%20%20%20%20%20%20%20%20%20%20%29.addTo%28map_33002fdc123d47539c9b64af4db90acd%29%3B%0A%20%20%20%20%20%20%20%20%0A%20%20%20%20%0A%20%20%20%20%20%20%20%20%20%20%20%20var%20marker_d712ed6e2dd8490089dcbb13ef484825%20%3D%20L.marker%28%0A%20%20%20%20%20%20%20%20%20%20%20%20%20%20%20%20%5B48.7978209%2C%2044.74625379999999%5D%2C%0A%20%20%20%20%20%20%20%20%20%20%20%20%20%20%20%20%7B%22radius%22%3A%203240.0%7D%0A%20%20%20%20%20%20%20%20%20%20%20%20%29.addTo%28map_33002fdc123d47539c9b64af4db90acd%29%3B%0A%20%20%20%20%20%20%20%20%0A%20%20%20%20%0A%20%20%20%20%20%20%20%20%20%20%20%20var%20marker_acfd484af5b74430adade84840f490ea%20%3D%20L.marker%28%0A%20%20%20%20%20%20%20%20%20%20%20%20%20%20%20%20%5B59.126921200000005%2C%2037.909049700000004%5D%2C%0A%20%20%20%20%20%20%20%20%20%20%20%20%20%20%20%20%7B%22radius%22%3A%203120.0%7D%0A%20%20%20%20%20%20%20%20%20%20%20%20%29.addTo%28map_33002fdc123d47539c9b64af4db90acd%29%3B%0A%20%20%20%20%20%20%20%20%0A%20%20%20%20%0A%20%20%20%20%20%20%20%20%20%20%20%20var%20marker_e192046417e242bfa9b9b049309b8230%20%3D%20L.marker%28%0A%20%20%20%20%20%20%20%20%20%20%20%20%20%20%20%20%5B43.020588000000004%2C%2044.681918200000005%5D%2C%0A%20%20%20%20%20%20%20%20%20%20%20%20%20%20%20%20%7B%22radius%22%3A%203020.0%7D%0A%20%20%20%20%20%20%20%20%20%20%20%20%29.addTo%28map_33002fdc123d47539c9b64af4db90acd%29%3B%0A%20%20%20%20%20%20%20%20%0A%20%20%20%20%0A%20%20%20%20%20%20%20%20%20%20%20%20var%20marker_9330f138da924d88bfe38640cf842999%20%3D%20L.marker%28%0A%20%20%20%20%20%20%20%20%20%20%20%20%20%20%20%20%5B69.00772099999999%2C%2033.0685865%5D%2C%0A%20%20%20%20%20%20%20%20%20%20%20%20%20%20%20%20%7B%22radius%22%3A%202830.0%7D%0A%20%20%20%20%20%20%20%20%20%20%20%20%29.addTo%28map_33002fdc123d47539c9b64af4db90acd%29%3B%0A%20%20%20%20%20%20%20%20%0A%20%20%20%20%0A%20%20%20%20%20%20%20%20%20%20%20%20var%20marker_a43885c08a604cd798bcf0afe54f5cfb%20%3D%20L.marker%28%0A%20%20%20%20%20%20%20%20%20%20%20%20%20%20%20%20%5B61.2541083%2C%2073.3961587%5D%2C%0A%20%20%20%20%20%20%20%20%20%20%20%20%20%20%20%20%7B%22radius%22%3A%203870.0%7D%0A%20%20%20%20%20%20%20%20%20%20%20%20%29.addTo%28map_33002fdc123d47539c9b64af4db90acd%29%3B%0A%20%20%20%20%20%20%20%20%0A%20%20%20%20%0A%20%20%20%20%20%20%20%20%20%20%20%20var%20marker_e91392dd0eb14bc18e2e3e4d88bc1af7%20%3D%20L.marker%28%0A%20%20%20%20%20%20%20%20%20%20%20%20%20%20%20%20%5B59.2483905%2C%2039.8355662%5D%2C%0A%20%20%20%20%20%20%20%20%20%20%20%20%20%20%20%20%7B%22radius%22%3A%203090.0%7D%0A%20%20%20%20%20%20%20%20%20%20%20%20%29.addTo%28map_33002fdc123d47539c9b64af4db90acd%29%3B%0A%20%20%20%20%20%20%20%20%0A%20%20%20%20%0A%20%20%20%20%20%20%20%20%20%20%20%20var%20marker_6e58dae7297d4e0086fb8bdc4c524f88%20%3D%20L.marker%28%0A%20%20%20%20%20%20%20%20%20%20%20%20%20%20%20%20%5B52.721315399999995%2C%2041.452264%5D%2C%0A%20%20%20%20%20%20%20%20%20%20%20%20%20%20%20%20%7B%22radius%22%3A%202900.0%7D%0A%20%20%20%20%20%20%20%20%20%20%20%20%29.addTo%28map_33002fdc123d47539c9b64af4db90acd%29%3B%0A%20%20%20%20%20%20%20%20%0A%20%20%20%20%0A%20%20%20%20%20%20%20%20%20%20%20%20var%20marker_f72c72dd17384c64bd4dcec3ebc71f6d%20%3D%20L.marker%28%0A%20%20%20%20%20%20%20%20%20%20%20%20%20%20%20%20%5B53.630086399999996%2C%2055.931708900000004%5D%2C%0A%20%20%20%20%20%20%20%20%20%20%20%20%20%20%20%20%7B%22radius%22%3A%202740.0%7D%0A%20%20%20%20%20%20%20%20%20%20%20%20%29.addTo%28map_33002fdc123d47539c9b64af4db90acd%29%3B%0A%20%20%20%20%20%20%20%20%0A%20%20%20%20%0A%20%20%20%20%20%20%20%20%20%20%20%20var%20marker_d6634a4da97647d0a825b82b633eb3bc%20%3D%20L.marker%28%0A%20%20%20%20%20%20%20%20%20%20%20%20%20%20%20%20%5B43.318014500000004%2C%2045.698291%5D%2C%0A%20%20%20%20%20%20%20%20%20%20%20%20%20%20%20%20%7B%22radius%22%3A%203250.0%7D%0A%20%20%20%20%20%20%20%20%20%20%20%20%29.addTo%28map_33002fdc123d47539c9b64af4db90acd%29%3B%0A%20%20%20%20%20%20%20%20%0A%20%20%20%20%0A%20%20%20%20%20%20%20%20%20%20%20%20var%20marker_c05b958caebb493fbc6c593de8817cec%20%3D%20L.marker%28%0A%20%20%20%20%20%20%20%20%20%20%20%20%20%20%20%20%5B62.028140500000006%2C%20129.7325887%5D%2C%0A%20%20%20%20%20%20%20%20%20%20%20%20%20%20%20%20%7B%22radius%22%3A%203310.0%7D%0A%20%20%20%20%20%20%20%20%20%20%20%20%29.addTo%28map_33002fdc123d47539c9b64af4db90acd%29%3B%0A%20%20%20%20%20%20%20%20%0A%20%20%20%20%0A%20%20%20%20%20%20%20%20%20%20%20%20var%20marker_91738cae82174490828319728532fd97%20%3D%20L.marker%28%0A%20%20%20%20%20%20%20%20%20%20%20%20%20%20%20%20%5B57.8029621%2C%2040.990826399999996%5D%2C%0A%20%20%20%20%20%20%20%20%20%20%20%20%20%20%20%20%7B%22radius%22%3A%202770.0%7D%0A%20%20%20%20%20%20%20%20%20%20%20%20%29.addTo%28map_33002fdc123d47539c9b64af4db90acd%29%3B%0A%20%20%20%20%20%20%20%20%0A%20%20%20%20%0A%20%20%20%20%20%20%20%20%20%20%20%20var%20marker_d96c208945eb4d71a419fbe972037f0b%20%3D%20L.marker%28%0A%20%20%20%20%20%20%20%20%20%20%20%20%20%20%20%20%5B50.5498936%2C%20137.0079408%5D%2C%0A%20%20%20%20%20%20%20%20%20%20%20%20%20%20%20%20%7B%22radius%22%3A%202410.0%7D%0A%20%20%20%20%20%20%20%20%20%20%20%20%29.addTo%28map_33002fdc123d47539c9b64af4db90acd%29%3B%0A%20%20%20%20%20%20%20%20%0A%20%20%20%20%0A%20%20%20%20%20%20%20%20%20%20%20%20var%20marker_8d54150bfdad41e7b6efa8be924b7e71%20%3D%20L.marker%28%0A%20%20%20%20%20%20%20%20%20%20%20%20%20%20%20%20%5B61.789126399999994%2C%2034.3596434%5D%2C%0A%20%20%20%20%20%20%20%20%20%20%20%20%20%20%20%20%7B%22radius%22%3A%202810.0%7D%0A%20%20%20%20%20%20%20%20%20%20%20%20%29.addTo%28map_33002fdc123d47539c9b64af4db90acd%29%3B%0A%20%20%20%20%20%20%20%20%0A%20%20%20%20%0A%20%20%20%20%20%20%20%20%20%20%20%20var%20marker_454afc14f62049d5a4c13119c3cd38e1%20%3D%20L.marker%28%0A%20%20%20%20%20%20%20%20%20%20%20%20%20%20%20%20%5B47.2094917%2C%2038.9350989%5D%2C%0A%20%20%20%20%20%20%20%20%20%20%20%20%20%20%20%20%7B%22radius%22%3A%202480.0%7D%0A%20%20%20%20%20%20%20%20%20%20%20%20%29.addTo%28map_33002fdc123d47539c9b64af4db90acd%29%3B%0A%20%20%20%20%20%20%20%20%0A%20%20%20%20%0A%20%20%20%20%20%20%20%20%20%20%20%20var%20marker_54578a89f1fa4d3e947a44a43cf2d070%20%3D%20L.marker%28%0A%20%20%20%20%20%20%20%20%20%20%20%20%20%20%20%20%5B60.9396698%2C%2076.5696184%5D%2C%0A%20%20%20%20%20%20%20%20%20%20%20%20%20%20%20%20%7B%22radius%22%3A%202790.0%7D%0A%20%20%20%20%20%20%20%20%20%20%20%20%29.addTo%28map_33002fdc123d47539c9b64af4db90acd%29%3B%0A%20%20%20%20%20%20%20%20%0A%20%20%20%20%0A%20%20%20%20%20%20%20%20%20%20%20%20var%20marker_c7d8a0d1fcaf4497928a5a1665c4b36c%20%3D%20L.marker%28%0A%20%20%20%20%20%20%20%20%20%20%20%20%20%20%20%20%5B56.6343662%2C%2047.8999706%5D%2C%0A%20%20%20%20%20%20%20%20%20%20%20%20%20%20%20%20%7B%22radius%22%3A%202760.0%7D%0A%20%20%20%20%20%20%20%20%20%20%20%20%29.addTo%28map_33002fdc123d47539c9b64af4db90acd%29%3B%0A%20%20%20%20%20%20%20%20%0A%20%20%20%20%0A%20%20%20%20%20%20%20%20%20%20%20%20var%20marker_7e0f704a4f9c4e308a2661c070936f56%20%3D%20L.marker%28%0A%20%20%20%20%20%20%20%20%20%20%20%20%20%20%20%20%5B56.1513108%2C%20101.6340035%5D%2C%0A%20%20%20%20%20%20%20%20%20%20%20%20%20%20%20%20%7B%22radius%22%3A%202250.0%7D%0A%20%20%20%20%20%20%20%20%20%20%20%20%29.addTo%28map_33002fdc123d47539c9b64af4db90acd%29%3B%0A%20%20%20%20%20%20%20%20%0A%20%20%20%20%0A%20%20%20%20%20%20%20%20%20%20%20%20var%20marker_b11bac2609c94f8290fd31b0a0c85d37%20%3D%20L.marker%28%0A%20%20%20%20%20%20%20%20%20%20%20%20%20%20%20%20%5B44.7235026%2C%2037.7686135%5D%2C%0A%20%20%20%20%20%20%20%20%20%20%20%20%20%20%20%20%7B%22radius%22%3A%202760.0%7D%0A%20%20%20%20%20%20%20%20%20%20%20%20%29.addTo%28map_33002fdc123d47539c9b64af4db90acd%29%3B%0A%20%20%20%20%20%20%20%20%0A%20%20%20%20%0A%20%20%20%20%20%20%20%20%20%20%20%20var%20marker_c3d14236f5cf49a49a6006cbfb43b2e7%20%3D%20L.marker%28%0A%20%20%20%20%20%20%20%20%20%20%20%20%20%20%20%20%5B56.2376047%2C%2043.4599416%5D%2C%0A%20%20%20%20%20%20%20%20%20%20%20%20%20%20%20%20%7B%22radius%22%3A%202270.0%7D%0A%20%20%20%20%20%20%20%20%20%20%20%20%29.addTo%28map_33002fdc123d47539c9b64af4db90acd%29%3B%0A%20%20%20%20%20%20%20%20%0A%20%20%20%20%0A%20%20%20%20%20%20%20%20%20%20%20%20var%20marker_552720fc2465469bb5c9371af2009e91%20%3D%20L.marker%28%0A%20%20%20%20%20%20%20%20%20%20%20%20%20%20%20%20%5B47.7085287%2C%2040.2159846%5D%2C%0A%20%20%20%20%20%20%20%20%20%20%20%20%20%20%20%20%7B%22radius%22%3A%202290.0%7D%0A%20%20%20%20%20%20%20%20%20%20%20%20%29.addTo%28map_33002fdc123d47539c9b64af4db90acd%29%3B%0A%20%20%20%20%20%20%20%20%0A%20%20%20%20%0A%20%20%20%20%20%20%20%20%20%20%20%20var%20marker_84a811fb68b1434cb557f6a5f86b4480%20%3D%20L.marker%28%0A%20%20%20%20%20%20%20%20%20%20%20%20%20%20%20%20%5B43.4845464%2C%2043.60713%5D%2C%0A%20%20%20%20%20%20%20%20%20%20%20%20%20%20%20%20%7B%22radius%22%3A%202390.0%7D%0A%20%20%20%20%20%20%20%20%20%20%20%20%29.addTo%28map_33002fdc123d47539c9b64af4db90acd%29%3B%0A%20%20%20%20%20%20%20%20%0A%20%20%20%20%0A%20%20%20%20%20%20%20%20%20%20%20%20var%20marker_a1eb7f3f890341a7b290563b8767f0d9%20%3D%20L.marker%28%0A%20%20%20%20%20%20%20%20%20%20%20%20%20%20%20%20%5B51.2294282%2C%2058.4752777%5D%2C%0A%20%20%20%20%20%20%20%20%20%20%20%20%20%20%20%20%7B%22radius%22%3A%202250.0%7D%0A%20%20%20%20%20%20%20%20%20%20%20%20%29.addTo%28map_33002fdc123d47539c9b64af4db90acd%29%3B%0A%20%20%20%20%20%20%20%20%0A%20%20%20%20%0A%20%20%20%20%20%20%20%20%20%20%20%20var%20marker_bbb13e7f3131459c973aeef5babd84ea%20%3D%20L.marker%28%0A%20%20%20%20%20%20%20%20%20%20%20%20%20%20%20%20%5B61.66866170000001%2C%2050.8358151%5D%2C%0A%20%20%20%20%20%20%20%20%20%20%20%20%20%20%20%20%7B%22radius%22%3A%202440.0%7D%0A%20%20%20%20%20%20%20%20%20%20%20%20%29.addTo%28map_33002fdc123d47539c9b64af4db90acd%29%3B%0A%20%20%20%20%20%20%20%20%0A%20%20%20%20%0A%20%20%20%20%20%20%20%20%20%20%20%20var%20marker_79c807a229474bb9ad6bda38664ba784%20%3D%20L.marker%28%0A%20%20%20%20%20%20%20%20%20%20%20%20%20%20%20%20%5B55.6313609%2C%2051.8144669%5D%2C%0A%20%20%20%20%20%20%20%20%20%20%20%20%20%20%20%20%7B%22radius%22%3A%202400.0%7D%0A%20%20%20%20%20%20%20%20%20%20%20%20%29.addTo%28map_33002fdc123d47539c9b64af4db90acd%29%3B%0A%20%20%20%20%20%20%20%20%0A%20%20%20%20%0A%20%20%20%20%20%20%20%20%20%20%20%20var%20marker_fccd5dd64e224fcc99fa5c899b85f818%20%3D%20L.marker%28%0A%20%20%20%20%20%20%20%20%20%20%20%20%20%20%20%20%5B52.544879%2C%20103.888543%5D%2C%0A%20%20%20%20%20%20%20%20%20%20%20%20%20%20%20%20%7B%22radius%22%3A%202230.0%7D%0A%20%20%20%20%20%20%20%20%20%20%20%20%29.addTo%28map_33002fdc123d47539c9b64af4db90acd%29%3B%0A%20%20%20%20%20%20%20%20%0A%20%20%20%20%0A%20%20%20%20%20%20%20%20%20%20%20%20var%20marker_1411159bc6b543059c06be9839da54fa%20%3D%20L.marker%28%0A%20%20%20%20%20%20%20%20%20%20%20%20%20%20%20%20%5B51.296710100000006%2C%2037.8350182%5D%2C%0A%20%20%20%20%20%20%20%20%20%20%20%20%20%20%20%20%7B%22radius%22%3A%202240.0%7D%0A%20%20%20%20%20%20%20%20%20%20%20%20%29.addTo%28map_33002fdc123d47539c9b64af4db90acd%29%3B%0A%20%20%20%20%20%20%20%20%0A%20%20%20%20%0A%20%20%20%20%20%20%20%20%20%20%20%20var%20marker_c5c6b871dc9541acb44e1ab4b14406f2%20%3D%20L.marker%28%0A%20%20%20%20%20%20%20%20%20%20%20%20%20%20%20%20%5B58.521384600000005%2C%2031.275539399999996%5D%2C%0A%20%20%20%20%20%20%20%20%20%20%20%20%20%20%20%20%7B%22radius%22%3A%202250.0%7D%0A%20%20%20%20%20%20%20%20%20%20%20%20%29.addTo%28map_33002fdc123d47539c9b64af4db90acd%29%3B%0A%20%20%20%20%20%20%20%20%0A%20%20%20%20%0A%20%20%20%20%20%20%20%20%20%20%20%20var%20marker_905e729f25484dd5a46313a9e525d257%20%3D%20L.marker%28%0A%20%20%20%20%20%20%20%20%20%20%20%20%20%20%20%20%5B55.796389000000005%2C%2037.938283%5D%2C%0A%20%20%20%20%20%20%20%20%20%20%20%20%20%20%20%20%7B%22radius%22%3A%205070.0%7D%0A%20%20%20%20%20%20%20%20%20%20%20%20%29.addTo%28map_33002fdc123d47539c9b64af4db90acd%29%3B%0A%20%20%20%20%20%20%20%20%0A%20%20%20%20%0A%20%20%20%20%20%20%20%20%20%20%20%20var%20marker_24e5d4297b9546a1a991e079f7842224%20%3D%20L.marker%28%0A%20%20%20%20%20%20%20%20%20%20%20%20%20%20%20%20%5B50.290659000000005%2C%20127.527198%5D%2C%0A%20%20%20%20%20%20%20%20%20%20%20%20%20%20%20%20%7B%22radius%22%3A%202260.0%7D%0A%20%20%20%20%20%20%20%20%20%20%20%20%29.addTo%28map_33002fdc123d47539c9b64af4db90acd%29%3B%0A%20%20%20%20%20%20%20%20%0A%20%20%20%20%0A%20%20%20%20%20%20%20%20%20%20%20%20var%20marker_e0a47cc60ee646b28761a68dd4780312%20%3D%20L.marker%28%0A%20%20%20%20%20%20%20%20%20%20%20%20%20%20%20%20%5B53.8604265%2C%2086.7183577%5D%2C%0A%20%20%20%20%20%20%20%20%20%20%20%20%20%20%20%20%7B%22radius%22%3A%201880.0%7D%0A%20%20%20%20%20%20%20%20%20%20%20%20%29.addTo%28map_33002fdc123d47539c9b64af4db90acd%29%3B%0A%20%20%20%20%20%20%20%20%0A%20%20%20%20%0A%20%20%20%20%20%20%20%20%20%20%20%20var%20marker_7245dcca4fe84288bcd651847b9e8ddb%20%3D%20L.marker%28%0A%20%20%20%20%20%20%20%20%20%20%20%20%20%20%20%20%5B55.888656999999995%2C%2037.430370200000006%5D%2C%0A%20%20%20%20%20%20%20%20%20%20%20%20%20%20%20%20%7B%22radius%22%3A%202580.0%7D%0A%20%20%20%20%20%20%20%20%20%20%20%20%29.addTo%28map_33002fdc123d47539c9b64af4db90acd%29%3B%0A%20%20%20%20%20%20%20%20%0A%20%20%20%20%0A%20%20%20%20%20%20%20%20%20%20%20%20var%20marker_5534b850582543b08ca8c772f99ebbbb%20%3D%20L.marker%28%0A%20%20%20%20%20%20%20%20%20%20%20%20%20%20%20%20%5B57.8194415%2C%2028.331719800000002%5D%2C%0A%20%20%20%20%20%20%20%20%20%20%20%20%20%20%20%20%7B%22radius%22%3A%202090.0%7D%0A%20%20%20%20%20%20%20%20%20%20%20%20%29.addTo%28map_33002fdc123d47539c9b64af4db90acd%29%3B%0A%20%20%20%20%20%20%20%20%0A%20%20%20%20%0A%20%20%20%20%20%20%20%20%20%20%20%20var%20marker_1fc2e07302334d2e86aa816efda1fe19%20%3D%20L.marker%28%0A%20%20%20%20%20%20%20%20%20%20%20%20%20%20%20%20%5B52.53938639999999%2C%2085.2138453%5D%2C%0A%20%20%20%20%20%20%20%20%20%20%20%20%20%20%20%20%7B%22radius%22%3A%201980.0%7D%0A%20%20%20%20%20%20%20%20%20%20%20%20%29.addTo%28map_33002fdc123d47539c9b64af4db90acd%29%3B%0A%20%20%20%20%20%20%20%20%0A%20%20%20%20%0A%20%20%20%20%20%20%20%20%20%20%20%20var%20marker_2addeb7691d54a619e5a0e3e550b0330%20%3D%20L.marker%28%0A%20%20%20%20%20%20%20%20%20%20%20%20%20%20%20%20%5B51.485400299999995%2C%2046.126721999999994%5D%2C%0A%20%20%20%20%20%20%20%20%20%20%20%20%20%20%20%20%7B%22radius%22%3A%202260.0%7D%0A%20%20%20%20%20%20%20%20%20%20%20%20%29.addTo%28map_33002fdc123d47539c9b64af4db90acd%29%3B%0A%20%20%20%20%20%20%20%20%0A%20%20%20%20%0A%20%20%20%20%20%20%20%20%20%20%20%20var%20marker_86f6dae06cc14d628693c366df799750%20%3D%20L.marker%28%0A%20%20%20%20%20%20%20%20%20%20%20%20%20%20%20%20%5B58.0485495%2C%2038.8584119%5D%2C%0A%20%20%20%20%20%20%20%20%20%20%20%20%20%20%20%20%7B%22radius%22%3A%201820.0%7D%0A%20%20%20%20%20%20%20%20%20%20%20%20%29.addTo%28map_33002fdc123d47539c9b64af4db90acd%29%3B%0A%20%20%20%20%20%20%20%20%0A%20%20%20%20%0A%20%20%20%20%20%20%20%20%20%20%20%20var%20marker_e4b0b008b7b44db88d616ead22a7d402%20%3D%20L.marker%28%0A%20%20%20%20%20%20%20%20%20%20%20%20%20%20%20%20%5B52.022423100000005%2C%2047.782776500000004%5D%2C%0A%20%20%20%20%20%20%20%20%20%20%20%20%20%20%20%20%7B%22radius%22%3A%201860.0%7D%0A%20%20%20%20%20%20%20%20%20%20%20%20%29.addTo%28map_33002fdc123d47539c9b64af4db90acd%29%3B%0A%20%20%20%20%20%20%20%20%0A%20%20%20%20%0A%20%20%20%20%20%20%20%20%20%20%20%20var%20marker_739e137433394e7795db27bd13559845%20%3D%20L.marker%28%0A%20%20%20%20%20%20%20%20%20%20%20%20%20%20%20%20%5B64.5625385%2C%2039.8180934%5D%2C%0A%20%20%20%20%20%20%20%20%20%20%20%20%20%20%20%20%7B%22radius%22%3A%201810.0%7D%0A%20%20%20%20%20%20%20%20%20%20%20%20%29.addTo%28map_33002fdc123d47539c9b64af4db90acd%29%3B%0A%20%20%20%20%20%20%20%20%0A%20%20%20%20%0A%20%20%20%20%20%20%20%20%20%20%20%20var%20marker_0e708708afa049b08e6ce3300609b11e%20%3D%20L.marker%28%0A%20%20%20%20%20%20%20%20%20%20%20%20%20%20%20%20%5B45.0012149%2C%2041.132416799999994%5D%2C%0A%20%20%20%20%20%20%20%20%20%20%20%20%20%20%20%20%7B%22radius%22%3A%201870.0%7D%0A%20%20%20%20%20%20%20%20%20%20%20%20%29.addTo%28map_33002fdc123d47539c9b64af4db90acd%29%3B%0A%20%20%20%20%20%20%20%20%0A%20%20%20%20%0A%20%20%20%20%20%20%20%20%20%20%20%20var%20marker_983ce225f8a84d30860cb1e2afb4a8a9%20%3D%20L.marker%28%0A%20%20%20%20%20%20%20%20%20%20%20%20%20%20%20%20%5B55.4389322%2C%2037.570348200000005%5D%2C%0A%20%20%20%20%20%20%20%20%20%20%20%20%20%20%20%20%7B%22radius%22%3A%203090.0%7D%0A%20%20%20%20%20%20%20%20%20%20%20%20%29.addTo%28map_33002fdc123d47539c9b64af4db90acd%29%3B%0A%20%20%20%20%20%20%20%20%0A%20%20%20%20%0A%20%20%20%20%20%20%20%20%20%20%20%20var%20marker_353702b8cbb340eaba75198c9fa38ac0%20%3D%20L.marker%28%0A%20%20%20%20%20%20%20%20%20%20%20%20%20%20%20%20%5B55.916177299999994%2C%2037.854541499999996%5D%2C%0A%20%20%20%20%20%20%20%20%20%20%20%20%20%20%20%20%7B%22radius%22%3A%202250.0%7D%0A%20%20%20%20%20%20%20%20%20%20%20%20%29.addTo%28map_33002fdc123d47539c9b64af4db90acd%29%3B%0A%20%20%20%20%20%20%20%20%0A%20%20%20%20%0A%20%20%20%20%20%20%20%20%20%20%20%20var%20marker_4621d5e67d08453da0707e06d4686a4a%20%3D%20L.marker%28%0A%20%20%20%20%20%20%20%20%20%20%20%20%20%20%20%20%5B46.9591631%2C%20142.737976%5D%2C%0A%20%20%20%20%20%20%20%20%20%20%20%20%20%20%20%20%7B%22radius%22%3A%202000.0%7D%0A%20%20%20%20%20%20%20%20%20%20%20%20%29.addTo%28map_33002fdc123d47539c9b64af4db90acd%29%3B%0A%20%20%20%20%20%20%20%20%0A%20%20%20%20%0A%20%20%20%20%20%20%20%20%20%20%20%20var%20marker_2928c371c8894deeab0466637c11c205%20%3D%20L.marker%28%0A%20%20%20%20%20%20%20%20%20%20%20%20%20%20%20%20%5B53.036908%2C%20158.6559254%5D%2C%0A%20%20%20%20%20%20%20%20%20%20%20%20%20%20%20%20%7B%22radius%22%3A%201790.0%7D%0A%20%20%20%20%20%20%20%20%20%20%20%20%29.addTo%28map_33002fdc123d47539c9b64af4db90acd%29%3B%0A%20%20%20%20%20%20%20%20%0A%20%20%20%20%0A%20%20%20%20%20%20%20%20%20%20%20%20var%20marker_5d1031cabfbd41108dd8d7553fafb501%20%3D%20L.marker%28%0A%20%20%20%20%20%20%20%20%20%20%20%20%20%20%20%20%5B53.1558674%2C%2048.4744629%5D%2C%0A%20%20%20%20%20%20%20%20%20%20%20%20%20%20%20%20%7B%22radius%22%3A%201650.0%7D%0A%20%20%20%20%20%20%20%20%20%20%20%20%29.addTo%28map_33002fdc123d47539c9b64af4db90acd%29%3B%0A%20%20%20%20%20%20%20%20%0A%20%20%20%20%0A%20%20%20%20%20%20%20%20%20%20%20%20var%20marker_1f7d1690e7424415b8b7588c1ed49516%20%3D%20L.marker%28%0A%20%20%20%20%20%20%20%20%20%20%20%20%20%20%20%20%5B69.3489978%2C%2088.20098459999998%5D%2C%0A%20%20%20%20%20%20%20%20%20%20%20%20%20%20%20%20%7B%22radius%22%3A%201830.0%7D%0A%20%20%20%20%20%20%20%20%20%20%20%20%29.addTo%28map_33002fdc123d47539c9b64af4db90acd%29%3B%0A%20%20%20%20%20%20%20%20%0A%20%20%20%20%0A%20%20%20%20%20%20%20%20%20%20%20%20var%20marker_05aba664ee5d42dc9eb680745abe6e52%20%3D%20L.marker%28%0A%20%20%20%20%20%20%20%20%20%20%20%20%20%20%20%20%5B55.171490500000004%2C%2059.6725549%5D%2C%0A%20%20%20%20%20%20%20%20%20%20%20%20%20%20%20%20%7B%22radius%22%3A%201620.0%7D%0A%20%20%20%20%20%20%20%20%20%20%20%20%29.addTo%28map_33002fdc123d47539c9b64af4db90acd%29%3B%0A%20%20%20%20%20%20%20%20%0A%20%20%20%20%0A%20%20%20%20%20%20%20%20%20%20%20%20var%20marker_66457914958b4c578339c73b14e87276%20%3D%20L.marker%28%0A%20%20%20%20%20%20%20%20%20%20%20%20%20%20%20%20%5B56.414962%2C%2061.9188674%5D%2C%0A%20%20%20%20%20%20%20%20%20%20%20%20%20%20%20%20%7B%22radius%22%3A%201640.0%7D%0A%20%20%20%20%20%20%20%20%20%20%20%20%29.addTo%28map_33002fdc123d47539c9b64af4db90acd%29%3B%0A%20%20%20%20%20%20%20%20%0A%20%20%20%20%0A%20%20%20%20%20%20%20%20%20%20%20%20var%20marker_9b3bc231a26640ce899bfb2cce551455%20%3D%20L.marker%28%0A%20%20%20%20%20%20%20%20%20%20%20%20%20%20%20%20%5B55.9105782%2C%2037.736357899999994%5D%2C%0A%20%20%20%20%20%20%20%20%20%20%20%20%20%20%20%20%7B%22radius%22%3A%202460.0%7D%0A%20%20%20%20%20%20%20%20%20%20%20%20%29.addTo%28map_33002fdc123d47539c9b64af4db90acd%29%3B%0A%20%20%20%20%20%20%20%20%0A%20%20%20%20%0A%20%20%20%20%20%20%20%20%20%20%20%20var%20marker_429735b5498e402f98df23aca64a7b03%20%3D%20L.marker%28%0A%20%20%20%20%20%20%20%20%20%20%20%20%20%20%20%20%5B55.700398899999996%2C%2037.96062379999999%5D%2C%0A%20%20%20%20%20%20%20%20%20%20%20%20%20%20%20%20%7B%22radius%22%3A%202080.0%7D%0A%20%20%20%20%20%20%20%20%20%20%20%20%29.addTo%28map_33002fdc123d47539c9b64af4db90acd%29%3B%0A%20%20%20%20%20%20%20%20%0A%20%20%20%20%0A%20%20%20%20%20%20%20%20%20%20%20%20var%20marker_8e9833290c10435b97b4700d1f189a68%20%3D%20L.marker%28%0A%20%20%20%20%20%20%20%20%20%20%20%20%20%20%20%20%5B47.5165338%2C%2042.1984951%5D%2C%0A%20%20%20%20%20%20%20%20%20%20%20%20%20%20%20%20%7B%22radius%22%3A%201700.0%7D%0A%20%20%20%20%20%20%20%20%20%20%20%20%29.addTo%28map_33002fdc123d47539c9b64af4db90acd%29%3B%0A%20%20%20%20%20%20%20%20%0A%20%20%20%20%0A%20%20%20%20%20%20%20%20%20%20%20%20var%20marker_d20243a4895d4c62ae2fb4bd66f76cfd%20%3D%20L.marker%28%0A%20%20%20%20%20%20%20%20%20%20%20%20%20%20%20%20%5B47.411919%2C%2040.1042098%5D%2C%0A%20%20%20%20%20%20%20%20%20%20%20%20%20%20%20%20%7B%22radius%22%3A%201660.0%7D%0A%20%20%20%20%20%20%20%20%20%20%20%20%29.addTo%28map_33002fdc123d47539c9b64af4db90acd%29%3B%0A%20%20%20%20%20%20%20%20%0A%20%20%20%20%0A%20%20%20%20%20%20%20%20%20%20%20%20var%20marker_2893df7c85624264ab8858e2be3a0c1f%20%3D%20L.marker%28%0A%20%20%20%20%20%20%20%20%20%20%20%20%20%20%20%20%5B53.72233249999999%2C%2091.44367209999999%5D%2C%0A%20%20%20%20%20%20%20%20%20%20%20%20%20%20%20%20%7B%22radius%22%3A%201870.0%7D%0A%20%20%20%20%20%20%20%20%20%20%20%20%29.addTo%28map_33002fdc123d47539c9b64af4db90acd%29%3B%0A%20%20%20%20%20%20%20%20%0A%20%20%20%20%0A%20%20%20%20%20%20%20%20%20%20%20%20var%20marker_99afb38f626f437c9d55bc888984f61c%20%3D%20L.marker%28%0A%20%20%20%20%20%20%20%20%20%20%20%20%20%20%20%20%5B42.8239372%2C%20132.8927361%5D%2C%0A%20%20%20%20%20%20%20%20%20%20%20%20%20%20%20%20%7B%22radius%22%3A%201430.0%7D%0A%20%20%20%20%20%20%20%20%20%20%20%20%29.addTo%28map_33002fdc123d47539c9b64af4db90acd%29%3B%0A%20%20%20%20%20%20%20%20%0A%20%20%20%20%0A%20%20%20%20%20%20%20%20%20%20%20%20var%20marker_8cafdd106a1a49ca8511808319f5589c%20%3D%20L.marker%28%0A%20%20%20%20%20%20%20%20%20%20%20%20%20%20%20%20%5B43.7971818%2C%20131.9518229%5D%2C%0A%20%20%20%20%20%20%20%20%20%20%20%20%20%20%20%20%7B%22radius%22%3A%201730.0%7D%0A%20%20%20%20%20%20%20%20%20%20%20%20%29.addTo%28map_33002fdc123d47539c9b64af4db90acd%29%3B%0A%20%20%20%20%20%20%20%20%0A%20%20%20%20%0A%20%20%20%20%20%20%20%20%20%20%20%20var%20marker_2637aaf476f944a4b59e5c6d867764b8%20%3D%20L.marker%28%0A%20%20%20%20%20%20%20%20%20%20%20%20%20%20%20%20%5B59.4079923%2C%2056.8039427%5D%2C%0A%20%20%20%20%20%20%20%20%20%20%20%20%20%20%20%20%7B%22radius%22%3A%201370.0%7D%0A%20%20%20%20%20%20%20%20%20%20%20%20%29.addTo%28map_33002fdc123d47539c9b64af4db90acd%29%3B%0A%20%20%20%20%20%20%20%20%0A%20%20%20%20%0A%20%20%20%20%20%20%20%20%20%20%20%20var%20marker_fad728fd0c6c49f6be0e9f37a974ebd9%20%3D%20L.marker%28%0A%20%20%20%20%20%20%20%20%20%20%20%20%20%20%20%20%5B53.36169739999999%2C%2055.924522399999994%5D%2C%0A%20%20%20%20%20%20%20%20%20%20%20%20%20%20%20%20%7B%22radius%22%3A%201490.0%7D%0A%20%20%20%20%20%20%20%20%20%20%20%20%29.addTo%28map_33002fdc123d47539c9b64af4db90acd%29%3B%0A%20%20%20%20%20%20%20%20%0A%20%20%20%20%0A%20%20%20%20%20%20%20%20%20%20%20%20var%20marker_939d1d64107f468789d20800fb9b066d%20%3D%20L.marker%28%0A%20%20%20%20%20%20%20%20%20%20%20%20%20%20%20%20%5B55.7847291%2C%2038.4447045%5D%2C%0A%20%20%20%20%20%20%20%20%20%20%20%20%20%20%20%20%7B%22radius%22%3A%201530.0%7D%0A%20%20%20%20%20%20%20%20%20%20%20%20%29.addTo%28map_33002fdc123d47539c9b64af4db90acd%29%3B%0A%20%20%20%20%20%20%20%20%0A%20%20%20%20%0A%20%20%20%20%20%20%20%20%20%20%20%20var%20marker_11391ad487794cdd914d1d105e497bac%20%3D%20L.marker%28%0A%20%20%20%20%20%20%20%20%20%20%20%20%20%20%20%20%5B55.04564570000001%2C%2060.1077572%5D%2C%0A%20%20%20%20%20%20%20%20%20%20%20%20%20%20%20%20%7B%22radius%22%3A%201510.0%7D%0A%20%20%20%20%20%20%20%20%20%20%20%20%29.addTo%28map_33002fdc123d47539c9b64af4db90acd%29%3B%0A%20%20%20%20%20%20%20%20%0A%20%20%20%20%0A%20%20%20%20%20%20%20%20%20%20%20%20var%20marker_51a32b7e4cee4c80b3e3b613ed694731%20%3D%20L.marker%28%0A%20%20%20%20%20%20%20%20%20%20%20%20%20%20%20%20%5B56.908008499999994%2C%2059.942926%5D%2C%0A%20%20%20%20%20%20%20%20%20%20%20%20%20%20%20%20%7B%22radius%22%3A%201190.0%7D%0A%20%20%20%20%20%20%20%20%20%20%20%20%29.addTo%28map_33002fdc123d47539c9b64af4db90acd%29%3B%0A%20%20%20%20%20%20%20%20%0A%20%20%20%20%0A%20%20%20%20%20%20%20%20%20%20%20%20var%20marker_c8e8863ad88a4083a2b907821aaf3b52%20%3D%20L.marker%28%0A%20%20%20%20%20%20%20%20%20%20%20%20%20%20%20%20%5B45.3562627%2C%2036.4674513%5D%2C%0A%20%20%20%20%20%20%20%20%20%20%20%20%20%20%20%20%7B%22radius%22%3A%201520.0%7D%0A%20%20%20%20%20%20%20%20%20%20%20%20%29.addTo%28map_33002fdc123d47539c9b64af4db90acd%29%3B%0A%20%20%20%20%20%20%20%20%0A%20%20%20%20%0A%20%20%20%20%20%20%20%20%20%20%20%20var%20marker_ed9fd5c11ee84a5e8f3a5ba0d7941cd9%20%3D%20L.marker%28%0A%20%20%20%20%20%20%20%20%20%20%20%20%20%20%20%20%5B51.501206700000004%2C%2081.2078695%5D%2C%0A%20%20%20%20%20%20%20%20%20%20%20%20%20%20%20%20%7B%22radius%22%3A%201400.0%7D%0A%20%20%20%20%20%20%20%20%20%20%20%20%29.addTo%28map_33002fdc123d47539c9b64af4db90acd%29%3B%0A%20%20%20%20%20%20%20%20%0A%20%20%20%20%0A%20%20%20%20%20%20%20%20%20%20%20%20var%20marker_bd722edaa4f44c0aaed4728bfe174871%20%3D%20L.marker%28%0A%20%20%20%20%20%20%20%20%20%20%20%20%20%20%20%20%5B54.901461899999994%2C%2052.2970467%5D%2C%0A%20%20%20%20%20%20%20%20%20%20%20%20%20%20%20%20%7B%22radius%22%3A%201580.0%7D%0A%20%20%20%20%20%20%20%20%20%20%20%20%29.addTo%28map_33002fdc123d47539c9b64af4db90acd%29%3B%0A%20%20%20%20%20%20%20%20%0A%20%20%20%20%0A%20%20%20%20%20%20%20%20%20%20%20%20var%20marker_df1fa0e6eb5e4875a71545d90c754e74%20%3D%20L.marker%28%0A%20%20%20%20%20%20%20%20%20%20%20%20%20%20%20%20%5B56.35543489999999%2C%2041.3170576%5D%2C%0A%20%20%20%20%20%20%20%20%20%20%20%20%20%20%20%20%7B%22radius%22%3A%201340.0%7D%0A%20%20%20%20%20%20%20%20%20%20%20%20%29.addTo%28map_33002fdc123d47539c9b64af4db90acd%29%3B%0A%20%20%20%20%20%20%20%20%0A%20%20%20%20%0A%20%20%20%20%20%20%20%20%20%20%20%20var%20marker_358040065f104a2b8f0ecd8f79701268%20%3D%20L.marker%28%0A%20%20%20%20%20%20%20%20%20%20%20%20%20%20%20%20%5B55.102814%2C%2038.753100200000006%5D%2C%0A%20%20%20%20%20%20%20%20%20%20%20%20%20%20%20%20%7B%22radius%22%3A%201390.0%7D%0A%20%20%20%20%20%20%20%20%20%20%20%20%29.addTo%28map_33002fdc123d47539c9b64af4db90acd%29%3B%0A%20%20%20%20%20%20%20%20%0A%20%20%20%20%0A%20%20%20%20%20%20%20%20%20%20%20%20var%20marker_80818c56c324417bbf26027770c4de74%20%3D%20L.marker%28%0A%20%20%20%20%20%20%20%20%20%20%20%20%20%20%20%20%5B44.6098268%2C%2040.100660600000005%5D%2C%0A%20%20%20%20%20%20%20%20%20%20%20%20%20%20%20%20%7B%22radius%22%3A%201390.0%7D%0A%20%20%20%20%20%20%20%20%20%20%20%20%29.addTo%28map_33002fdc123d47539c9b64af4db90acd%29%3B%0A%20%20%20%20%20%20%20%20%0A%20%20%20%20%0A%20%20%20%20%20%20%20%20%20%20%20%20var%20marker_8167c8d5c28e4996a7b529046143f43b%20%3D%20L.marker%28%0A%20%20%20%20%20%20%20%20%20%20%20%20%20%20%20%20%5B44.041090999999994%2C%2043.0661553%5D%2C%0A%20%20%20%20%20%20%20%20%20%20%20%20%20%20%20%20%7B%22radius%22%3A%201460.0%7D%0A%20%20%20%20%20%20%20%20%20%20%20%20%29.addTo%28map_33002fdc123d47539c9b64af4db90acd%29%3B%0A%20%20%20%20%20%20%20%20%0A%20%20%20%20%0A%20%20%20%20%20%20%20%20%20%20%20%20var%20marker_30bc42d7c5b444d3ae1014840d6bbe86%20%3D%20L.marker%28%0A%20%20%20%20%20%20%20%20%20%20%20%20%20%20%20%20%5B55.6789455%2C%2037.263686%5D%2C%0A%20%20%20%20%20%20%20%20%20%20%20%20%20%20%20%20%7B%22radius%22%3A%201360.0%7D%0A%20%20%20%20%20%20%20%20%20%20%20%20%29.addTo%28map_33002fdc123d47539c9b64af4db90acd%29%3B%0A%20%20%20%20%20%20%20%20%0A%20%20%20%20%0A%20%20%20%20%20%20%20%20%20%20%20%20var%20marker_504bcfb1fe8f4f279debfcc0d339084b%20%3D%20L.marker%28%0A%20%20%20%20%20%20%20%20%20%20%20%20%20%20%20%20%5B55.116665000000005%2C%2061.61791850000001%5D%2C%0A%20%20%20%20%20%20%20%20%20%20%20%20%20%20%20%20%7B%22radius%22%3A%201460.0%7D%0A%20%20%20%20%20%20%20%20%20%20%20%20%29.addTo%28map_33002fdc123d47539c9b64af4db90acd%29%3B%0A%20%20%20%20%20%20%20%20%0A%20%20%20%20%0A%20%20%20%20%20%20%20%20%20%20%20%20var%20marker_76052dbead7f4e56b25a6f1acbd6ad8d%20%3D%20L.marker%28%0A%20%20%20%20%20%20%20%20%20%20%20%20%20%20%20%20%5B43.250466499999995%2C%2046.585129200000004%5D%2C%0A%20%20%20%20%20%20%20%20%20%20%20%20%20%20%20%20%7B%22radius%22%3A%201460.0%7D%0A%20%20%20%20%20%20%20%20%20%20%20%20%29.addTo%28map_33002fdc123d47539c9b64af4db90acd%29%3B%0A%20%20%20%20%20%20%20%20%0A%20%20%20%20%0A%20%20%20%20%20%20%20%20%20%20%20%20var%20marker_3deaab9105cf4d2e9381a7afa55d56d8%20%3D%20L.marker%28%0A%20%20%20%20%20%20%20%20%20%20%20%20%20%20%20%20%5B54.010907499999995%2C%2038.291402399999996%5D%2C%0A%20%20%20%20%20%20%20%20%20%20%20%20%20%20%20%20%7B%22radius%22%3A%201220.0%7D%0A%20%20%20%20%20%20%20%20%20%20%20%20%29.addTo%28map_33002fdc123d47539c9b64af4db90acd%29%3B%0A%20%20%20%20%20%20%20%20%0A%20%20%20%20%0A%20%20%20%20%20%20%20%20%20%20%20%20var%20marker_1d711502a8d34aeaa09a4e6a30706ce7%20%3D%20L.marker%28%0A%20%20%20%20%20%20%20%20%20%20%20%20%20%20%20%20%5B43.9052044%2C%2042.7168721%5D%2C%0A%20%20%20%20%20%20%20%20%20%20%20%20%20%20%20%20%7B%22radius%22%3A%201280.0%7D%0A%20%20%20%20%20%20%20%20%20%20%20%20%29.addTo%28map_33002fdc123d47539c9b64af4db90acd%29%3B%0A%20%20%20%20%20%20%20%20%0A%20%20%20%20%0A%20%20%20%20%20%20%20%20%20%20%20%20var%20marker_6897d252803e4338be1bcd99ef71056f%20%3D%20L.marker%28%0A%20%20%20%20%20%20%20%20%20%20%20%20%20%20%20%20%5B54.9226466%2C%2037.403385899999996%5D%2C%0A%20%20%20%20%20%20%20%20%20%20%20%20%20%20%20%20%7B%22radius%22%3A%201250.0%7D%0A%20%20%20%20%20%20%20%20%20%20%20%20%29.addTo%28map_33002fdc123d47539c9b64af4db90acd%29%3B%0A%20%20%20%20%20%20%20%20%0A%20%20%20%20%0A%20%20%20%20%20%20%20%20%20%20%20%20var%20marker_319a1f537df348ab8222b899859ec9eb%20%3D%20L.marker%28%0A%20%20%20%20%20%20%20%20%20%20%20%20%20%20%20%20%5B56.109497700000006%2C%2047.47911129999999%5D%2C%0A%20%20%20%20%20%20%20%20%20%20%20%20%20%20%20%20%7B%22radius%22%3A%201280.0%7D%0A%20%20%20%20%20%20%20%20%20%20%20%20%29.addTo%28map_33002fdc123d47539c9b64af4db90acd%29%3B%0A%20%20%20%20%20%20%20%20%0A%20%20%20%20%0A%20%20%20%20%20%20%20%20%20%20%20%20var%20marker_daf5191dcddf482881f1141cd7afc8c7%20%3D%20L.marker%28%0A%20%20%20%20%20%20%20%20%20%20%20%20%20%20%20%20%5B61.088267599999995%2C%2072.6164079%5D%2C%0A%20%20%20%20%20%20%20%20%20%20%20%20%20%20%20%20%7B%22radius%22%3A%201280.0%7D%0A%20%20%20%20%20%20%20%20%20%20%20%20%29.addTo%28map_33002fdc123d47539c9b64af4db90acd%29%3B%0A%20%20%20%20%20%20%20%20%0A%20%20%20%20%0A%20%20%20%20%20%20%20%20%20%20%20%20var%20marker_7f5c8cd6fb9446d9ae82416533b917a5%20%3D%20L.marker%28%0A%20%20%20%20%20%20%20%20%20%20%20%20%20%20%20%20%5B54.2167926%2C%2049.6262585%5D%2C%0A%20%20%20%20%20%20%20%20%20%20%20%20%20%20%20%20%7B%22radius%22%3A%201120.0%7D%0A%20%20%20%20%20%20%20%20%20%20%20%20%29.addTo%28map_33002fdc123d47539c9b64af4db90acd%29%3B%0A%20%20%20%20%20%20%20%20%0A%20%20%20%20%0A%20%20%20%20%20%20%20%20%20%20%20%20var%20marker_764a4b9b046b4bd28e4dda93f3cd538b%20%3D%20L.marker%28%0A%20%20%20%20%20%20%20%20%20%20%20%20%20%20%20%20%5B56.088377%2C%2054.2483061%5D%2C%0A%20%20%20%20%20%20%20%20%20%20%20%20%20%20%20%20%7B%22radius%22%3A%201320.0%7D%0A%20%20%20%20%20%20%20%20%20%20%20%20%29.addTo%28map_33002fdc123d47539c9b64af4db90acd%29%3B%0A%20%20%20%20%20%20%20%20%0A%20%20%20%20%0A%20%20%20%20%20%20%20%20%20%20%20%20var%20marker_83e2b5c00fcc4e91ad9f5f29e7442277%20%3D%20L.marker%28%0A%20%20%20%20%20%20%20%20%20%20%20%20%20%20%20%20%5B44.2269425%2C%2042.0466704%5D%2C%0A%20%20%20%20%20%20%20%20%20%20%20%20%20%20%20%20%7B%22radius%22%3A%201230.0%7D%0A%20%20%20%20%20%20%20%20%20%20%20%20%29.addTo%28map_33002fdc123d47539c9b64af4db90acd%29%3B%0A%20%20%20%20%20%20%20%20%0A%20%20%20%20%0A%20%20%20%20%20%20%20%20%20%20%20%20var%20marker_bdfb48399c9f43ec9c8b6d4d3bfef490%20%3D%20L.marker%28%0A%20%20%20%20%20%20%20%20%20%20%20%20%20%20%20%20%5B55.815142099999996%2C%2038.98698220000001%5D%2C%0A%20%20%20%20%20%20%20%20%20%20%20%20%20%20%20%20%7B%22radius%22%3A%201180.0%7D%0A%20%20%20%20%20%20%20%20%20%20%20%20%29.addTo%28map_33002fdc123d47539c9b64af4db90acd%29%3B%0A%20%20%20%20%20%20%20%20%0A%20%20%20%20%0A%20%20%20%20%20%20%20%20%20%20%20%20var%20marker_e8c4988134854b968e8292663853c6c5%20%3D%20L.marker%28%0A%20%20%20%20%20%20%20%20%20%20%20%20%20%20%20%20%5B42.058966%2C%2048.2907452%5D%2C%0A%20%20%20%20%20%20%20%20%20%20%20%20%20%20%20%20%7B%22radius%22%3A%201270.0%7D%0A%20%20%20%20%20%20%20%20%20%20%20%20%29.addTo%28map_33002fdc123d47539c9b64af4db90acd%29%3B%0A%20%20%20%20%20%20%20%20%0A%20%20%20%20%0A%20%20%20%20%20%20%20%20%20%20%20%20var%20marker_f01e8338ca614daea1e5c669876897f5%20%3D%20L.marker%28%0A%20%20%20%20%20%20%20%20%20%20%20%20%20%20%20%20%5B50.0651529%2C%2045.38442020000001%5D%2C%0A%20%20%20%20%20%20%20%20%20%20%20%20%20%20%20%20%7B%22radius%22%3A%201090.0%7D%0A%20%20%20%20%20%20%20%20%20%20%20%20%29.addTo%28map_33002fdc123d47539c9b64af4db90acd%29%3B%0A%20%20%20%20%20%20%20%20%0A%20%20%20%20%0A%20%20%20%20%20%20%20%20%20%20%20%20var%20marker_505f0af7d64a47b5a9bed006d0d3d678%20%3D%20L.marker%28%0A%20%20%20%20%20%20%20%20%20%20%20%20%20%20%20%20%5B44.6226031%2C%2041.9476723%5D%2C%0A%20%20%20%20%20%20%20%20%20%20%20%20%20%20%20%20%7B%22radius%22%3A%201160.0%7D%0A%20%20%20%20%20%20%20%20%20%20%20%20%29.addTo%28map_33002fdc123d47539c9b64af4db90acd%29%3B%0A%20%20%20%20%20%20%20%20%0A%20%20%20%20%0A%20%20%20%20%20%20%20%20%20%20%20%20var%20marker_c23e5d2d0c2c469d98d73ededde08ff4%20%3D%20L.marker%28%0A%20%20%20%20%20%20%20%20%20%20%20%20%20%20%20%20%5B55.8317203%2C%2037.3295266%5D%2C%0A%20%20%20%20%20%20%20%20%20%20%20%20%20%20%20%20%7B%22radius%22%3A%201760.0%7D%0A%20%20%20%20%20%20%20%20%20%20%20%20%29.addTo%28map_33002fdc123d47539c9b64af4db90acd%29%3B%0A%20%20%20%20%20%20%20%20%0A%20%20%20%20%0A%20%20%20%20%20%20%20%20%20%20%20%20var%20marker_c6d8e068d1c84ffcacea20246018f593%20%3D%20L.marker%28%0A%20%20%20%20%20%20%20%20%20%20%20%20%20%20%20%20%5B55.563031099999996%2C%2042.0231362%5D%2C%0A%20%20%20%20%20%20%20%20%20%20%20%20%20%20%20%20%7B%22radius%22%3A%201060.0%7D%0A%20%20%20%20%20%20%20%20%20%20%20%20%29.addTo%28map_33002fdc123d47539c9b64af4db90acd%29%3B%0A%20%20%20%20%20%20%20%20%0A%20%20%20%20%0A%20%20%20%20%20%20%20%20%20%20%20%20var%20marker_529351b4a26e44a6adefc38cd222d711%20%3D%20L.marker%28%0A%20%20%20%20%20%20%20%20%20%20%20%20%20%20%20%20%5B47.1383299%2C%2039.7507179%5D%2C%0A%20%20%20%20%20%20%20%20%20%20%20%20%20%20%20%20%7B%22radius%22%3A%201270.0%7D%0A%20%20%20%20%20%20%20%20%20%20%20%20%29.addTo%28map_33002fdc123d47539c9b64af4db90acd%29%3B%0A%20%20%20%20%20%20%20%20%0A%20%20%20%20%0A%20%20%20%20%20%20%20%20%20%20%20%20var%20marker_f624433bc38447e8973c238431cc4071%20%3D%20L.marker%28%0A%20%20%20%20%20%20%20%20%20%20%20%20%20%20%20%20%5B47.757773%2C%2039.93636970000001%5D%2C%0A%20%20%20%20%20%20%20%20%20%20%20%20%20%20%20%20%7B%22radius%22%3A%201050.0%7D%0A%20%20%20%20%20%20%20%20%20%20%20%20%29.addTo%28map_33002fdc123d47539c9b64af4db90acd%29%3B%0A%20%20%20%20%20%20%20%20%0A%20%20%20%20%0A%20%20%20%20%20%20%20%20%20%20%20%20var%20marker_9278924145154a8884858d4f4cba9552%20%3D%20L.marker%28%0A%20%20%20%20%20%20%20%20%20%20%20%20%20%20%20%20%5B63.2018039%2C%2075.45105809999998%5D%2C%0A%20%20%20%20%20%20%20%20%20%20%20%20%20%20%20%20%7B%22radius%22%3A%201080.0%7D%0A%20%20%20%20%20%20%20%20%20%20%20%20%29.addTo%28map_33002fdc123d47539c9b64af4db90acd%29%3B%0A%20%20%20%20%20%20%20%20%0A%20%20%20%20%0A%20%20%20%20%20%20%20%20%20%20%20%20var%20marker_0bf6d97f287a42a4a9865cc68319d489%20%3D%20L.marker%28%0A%20%20%20%20%20%20%20%20%20%20%20%20%20%20%20%20%5B55.923380099999996%2C%2037.978370700000006%5D%2C%0A%20%20%20%20%20%20%20%20%20%20%20%20%20%20%20%20%7B%22radius%22%3A%201270.0%7D%0A%20%20%20%20%20%20%20%20%20%20%20%20%29.addTo%28map_33002fdc123d47539c9b64af4db90acd%29%3B%0A%20%20%20%20%20%20%20%20%0A%20%20%20%20%0A%20%20%20%20%20%20%20%20%20%20%20%20var%20marker_6880f97effd74afe8ffcc05df037acb9%20%3D%20L.marker%28%0A%20%20%20%20%20%20%20%20%20%20%20%20%20%20%20%20%5B51.7191047%2C%2094.4376882%5D%2C%0A%20%20%20%20%20%20%20%20%20%20%20%20%20%20%20%20%7B%22radius%22%3A%201200.0%7D%0A%20%20%20%20%20%20%20%20%20%20%20%20%29.addTo%28map_33002fdc123d47539c9b64af4db90acd%29%3B%0A%20%20%20%20%20%20%20%20%0A%20%20%20%20%0A%20%20%20%20%20%20%20%20%20%20%20%20var%20marker_adb1fa0ba38f417bab5fd4f6ed2dbb1a%20%3D%20L.marker%28%0A%20%20%20%20%20%20%20%20%20%20%20%20%20%20%20%20%5B54.4815311%2C%2053.465597200000005%5D%2C%0A%20%20%20%20%20%20%20%20%20%20%20%20%20%20%20%20%7B%22radius%22%3A%201140.0%7D%0A%20%20%20%20%20%20%20%20%20%20%20%20%29.addTo%28map_33002fdc123d47539c9b64af4db90acd%29%3B%0A%20%20%20%20%20%20%20%20%0A%20%20%20%20%0A%20%20%20%20%20%20%20%20%20%20%20%20var%20marker_b6d303f4a96d4ba7baaa358f6f7c4273%20%3D%20L.marker%28%0A%20%20%20%20%20%20%20%20%20%20%20%20%20%20%20%20%5B56.253907%2C%2090.4794397%5D%2C%0A%20%20%20%20%20%20%20%20%20%20%20%20%20%20%20%20%7B%22radius%22%3A%201050.0%7D%0A%20%20%20%20%20%20%20%20%20%20%20%20%29.addTo%28map_33002fdc123d47539c9b64af4db90acd%29%3B%0A%20%20%20%20%20%20%20%20%0A%20%20%20%20%0A%20%20%20%20%20%20%20%20%20%20%20%20var%20marker_009af88b6f34477eba6ad08f73d72590%20%3D%20L.marker%28%0A%20%20%20%20%20%20%20%20%20%20%20%20%20%20%20%20%5B56.603128500000004%2C%2084.8809926%5D%2C%0A%20%20%20%20%20%20%20%20%20%20%20%20%20%20%20%20%7B%22radius%22%3A%201060.0%7D%0A%20%20%20%20%20%20%20%20%20%20%20%20%29.addTo%28map_33002fdc123d47539c9b64af4db90acd%29%3B%0A%20%20%20%20%20%20%20%20%0A%20%20%20%20%0A%20%20%20%20%20%20%20%20%20%20%20%20var%20marker_8b4331cec86d44be83d150c225329af2%20%3D%20L.marker%28%0A%20%20%20%20%20%20%20%20%20%20%20%20%20%20%20%20%5B52.6152411%2C%2038.5289342%5D%2C%0A%20%20%20%20%20%20%20%20%20%20%20%20%20%20%20%20%7B%22radius%22%3A%201010.0%7D%0A%20%20%20%20%20%20%20%20%20%20%20%20%29.addTo%28map_33002fdc123d47539c9b64af4db90acd%29%3B%0A%20%20%20%20%20%20%20%20%0A%20%20%20%20%0A%20%20%20%20%20%20%20%20%20%20%20%20var%20marker_a92f807979b9485e8ca2840bd224e664%20%3D%20L.marker%28%0A%20%20%20%20%20%20%20%20%20%20%20%20%20%20%20%20%5B55.3945814%2C%2043.8408141%5D%2C%0A%20%20%20%20%20%20%20%20%20%20%20%20%20%20%20%20%7B%22radius%22%3A%201030.0%7D%0A%20%20%20%20%20%20%20%20%20%20%20%20%29.addTo%28map_33002fdc123d47539c9b64af4db90acd%29%3B%0A%20%20%20%20%20%20%20%20%0A%20%20%20%20%0A%20%20%20%20%20%20%20%20%20%20%20%20var%20marker_a7bd33bd1154455eaaa5a563015e9847%20%3D%20L.marker%28%0A%20%20%20%20%20%20%20%20%20%20%20%20%20%20%20%20%5B45.190629%2C%2033.367634%5D%2C%0A%20%20%20%20%20%20%20%20%20%20%20%20%20%20%20%20%7B%22radius%22%3A%201080.0%7D%0A%20%20%20%20%20%20%20%20%20%20%20%20%29.addTo%28map_33002fdc123d47539c9b64af4db90acd%29%3B%0A%20%20%20%20%20%20%20%20%0A%20%20%20%20%0A%20%20%20%20%20%20%20%20%20%20%20%20var%20marker_0de6fa1a88294f5692231ffbec293002%20%3D%20L.marker%28%0A%20%20%20%20%20%20%20%20%20%20%20%20%20%20%20%20%5B55.094314399999995%2C%2036.6121639%5D%2C%0A%20%20%20%20%20%20%20%20%20%20%20%20%20%20%20%20%7B%22radius%22%3A%201160.0%7D%0A%20%20%20%20%20%20%20%20%20%20%20%20%29.addTo%28map_33002fdc123d47539c9b64af4db90acd%29%3B%0A%20%20%20%20%20%20%20%20%0A%20%20%20%20%0A%20%20%20%20%20%20%20%20%20%20%20%20var%20marker_cc8955195bbb404985c537b7920fba4d%20%3D%20L.marker%28%0A%20%20%20%20%20%20%20%20%20%20%20%20%20%20%20%20%5B66.0839433%2C%2076.6809681%5D%2C%0A%20%20%20%20%20%20%20%20%20%20%20%20%20%20%20%20%7B%22radius%22%3A%201180.0%7D%0A%20%20%20%20%20%20%20%20%20%20%20%20%29.addTo%28map_33002fdc123d47539c9b64af4db90acd%29%3B%0A%20%20%20%20%20%20%20%20%0A%20%20%20%20%0A%20%20%20%20%20%20%20%20%20%20%20%20var%20marker_35ed7b2889714618ba989cc2860e766a%20%3D%20L.marker%28%0A%20%20%20%20%20%20%20%20%20%20%20%20%20%20%20%20%5B42.891600700000005%2C%2047.6367066%5D%2C%0A%20%20%20%20%20%20%20%20%20%20%20%20%20%20%20%20%7B%22radius%22%3A%201290.0%7D%0A%20%20%20%20%20%20%20%20%20%20%20%20%29.addTo%28map_33002fdc123d47539c9b64af4db90acd%29%3B%0A%20%20%20%20%20%20%20%20%0A%20%20%20%20%0A%20%20%20%20%20%20%20%20%20%20%20%20var%20marker_3345a055b6cc43b6b5a4179f299e65f4%20%3D%20L.marker%28%0A%20%20%20%20%20%20%20%20%20%20%20%20%20%20%20%20%5B46.3083344%2C%2044.2702088%5D%2C%0A%20%20%20%20%20%20%20%20%20%20%20%20%20%20%20%20%7B%22radius%22%3A%201040.0%7D%0A%20%20%20%20%20%20%20%20%20%20%20%20%29.addTo%28map_33002fdc123d47539c9b64af4db90acd%29%3B%0A%20%20%20%20%20%20%20%20%0A%20%20%20%20%0A%20%20%20%20%20%20%20%20%20%20%20%20var%20marker_f53267eb2db34343bdb530dff7a821ef%20%3D%20L.marker%28%0A%20%20%20%20%20%20%20%20%20%20%20%20%20%20%20%20%5B56.01036379999999%2C%2037.8471403%5D%2C%0A%20%20%20%20%20%20%20%20%20%20%20%20%20%20%20%20%7B%22radius%22%3A%201090.0%7D%0A%20%20%20%20%20%20%20%20%20%20%20%20%29.addTo%28map_33002fdc123d47539c9b64af4db90acd%29%3B%0A%20%20%20%20%20%20%20%20%0A%20%20%20%20%0A%20%20%20%20%20%20%20%20%20%20%20%20var%20marker_053a0157ae004810b2865e5912f5ff1f%20%3D%20L.marker%28%0A%20%20%20%20%20%20%20%20%20%20%20%20%20%20%20%20%5B55.599803%2C%2038.12242979999999%5D%2C%0A%20%20%20%20%20%20%20%20%20%20%20%20%20%20%20%20%7B%22radius%22%3A%201080.0%7D%0A%20%20%20%20%20%20%20%20%20%20%20%20%29.addTo%28map_33002fdc123d47539c9b64af4db90acd%29%3B%0A%20%20%20%20%20%20%20%20%0A%20%20%20%20%0A%20%20%20%20%20%20%20%20%20%20%20%20var%20marker_16457c246e384e3a9389593bbd67657c%20%3D%20L.marker%28%0A%20%20%20%20%20%20%20%20%20%20%20%20%20%20%20%20%5B43.3501675%2C%20132.1596175%5D%2C%0A%20%20%20%20%20%20%20%20%20%20%20%20%20%20%20%20%7B%22radius%22%3A%201050.0%7D%0A%20%20%20%20%20%20%20%20%20%20%20%20%29.addTo%28map_33002fdc123d47539c9b64af4db90acd%29%3B%0A%20%20%20%20%20%20%20%20%0A%20%20%20%20%0A%20%20%20%20%20%20%20%20%20%20%20%20var%20marker_44c58f5ef75b40cfabcefd7fd4641dcb%20%3D%20L.marker%28%0A%20%20%20%20%20%20%20%20%20%20%20%20%20%20%20%20%5B44.0446186%2C%2042.8588653%5D%2C%0A%20%20%20%20%20%20%20%20%20%20%20%20%20%20%20%20%7B%22radius%22%3A%201150.0%7D%0A%20%20%20%20%20%20%20%20%20%20%20%20%29.addTo%28map_33002fdc123d47539c9b64af4db90acd%29%3B%0A%20%20%20%20%20%20%20%20%0A%20%20%20%20%0A%20%20%20%20%20%20%20%20%20%20%20%20var%20marker_70527329816041bf95e6c48ec41f950e%20%3D%20L.marker%28%0A%20%20%20%20%20%20%20%20%20%20%20%20%20%20%20%20%5B55.86861329999999%2C%2038.4622104%5D%2C%0A%20%20%20%20%20%20%20%20%20%20%20%20%20%20%20%20%7B%22radius%22%3A%201030.0%7D%0A%20%20%20%20%20%20%20%20%20%20%20%20%29.addTo%28map_33002fdc123d47539c9b64af4db90acd%29%3B%0A%20%20%20%20%20%20%20%20%0A%20%20%20%20%0A%20%20%20%20%20%20%20%20%20%20%20%20var%20marker_5335ad92b0ff4d39967adcc9e9206221%20%3D%20L.marker%28%0A%20%20%20%20%20%20%20%20%20%20%20%20%20%20%20%20%5B54.75821559999999%2C%2083.1070605%5D%2C%0A%20%20%20%20%20%20%20%20%20%20%20%20%20%20%20%20%7B%22radius%22%3A%201040.0%7D%0A%20%20%20%20%20%20%20%20%20%20%20%20%29.addTo%28map_33002fdc123d47539c9b64af4db90acd%29%3B%0A%20%20%20%20%20%20%20%20%0A%20%20%20%20%0A%20%20%20%20%20%20%20%20%20%20%20%20var%20marker_fd5e9dde14b04c8d9d708d6dfd1c4f5a%20%3D%20L.marker%28%0A%20%20%20%20%20%20%20%20%20%20%20%20%20%20%20%20%5B55.84666510000001%2C%2048.5010954%5D%2C%0A%20%20%20%20%20%20%20%20%20%20%20%20%20%20%20%20%7B%22radius%22%3A%201000.0%7D%0A%20%20%20%20%20%20%20%20%20%20%20%20%29.addTo%28map_33002fdc123d47539c9b64af4db90acd%29%3B%0A%20%20%20%20%20%20%20%20%0A%20%20%20%20%0A%20%20%20%20%20%20%20%20%20%20%20%20var%20marker_e3c1057880a545eb92b832d9fcb24370%20%3D%20L.marker%28%0A%20%20%20%20%20%20%20%20%20%20%20%20%20%20%20%20%5B55.5495132%2C%2038.2728914%5D%2C%0A%20%20%20%20%20%20%20%20%20%20%20%20%20%20%20%20%7B%22radius%22%3A%201240.0%7D%0A%20%20%20%20%20%20%20%20%20%20%20%20%29.addTo%28map_33002fdc123d47539c9b64af4db90acd%29%3B%0A%20%20%20%20%20%20%20%20%0A%20%20%20%20%0A%20%20%20%20%20%20%20%20%20%20%20%20var%20marker_3d3d18cfde9742ffb797d24382c7e528%20%3D%20L.marker%28%0A%20%20%20%20%20%20%20%20%20%20%20%20%20%20%20%20%5B55.43632829999999%2C%2037.766498399999996%5D%2C%0A%20%20%20%20%20%20%20%20%20%20%20%20%20%20%20%20%7B%22radius%22%3A%201350.0%7D%0A%20%20%20%20%20%20%20%20%20%20%20%20%29.addTo%28map_33002fdc123d47539c9b64af4db90acd%29%3B%0A%20%20%20%20%20%20%20%20%0A%20%20%20%20%0A%20%20%20%20%20%20%20%20%20%20%20%20var%20marker_95b06b4e697c405fab4f211ffca1999f%20%3D%20L.marker%28%0A%20%20%20%20%20%20%20%20%20%20%20%20%20%20%20%20%5B52.3380202%2C%2035.3516867%5D%2C%0A%20%20%20%20%20%20%20%20%20%20%20%20%20%20%20%20%7B%22radius%22%3A%201010.0%7D%0A%20%20%20%20%20%20%20%20%20%20%20%20%29.addTo%28map_33002fdc123d47539c9b64af4db90acd%29%3B%0A%20%20%20%20%20%20%20%20%0A%20%20%20%20%0A%20%20%20%20%20%20%20%20%20%20%20%20var%20marker_54edf9d10d324354987459e1f036bdf9%20%3D%20L.marker%28%0A%20%20%20%20%20%20%20%20%20%20%20%20%20%20%20%20%5B43.2257841%2C%2044.7645779%5D%2C%0A%20%20%20%20%20%20%20%20%20%20%20%20%20%20%20%20%7B%22radius%22%3A%201240.0%7D%0A%20%20%20%20%20%20%20%20%20%20%20%20%29.addTo%28map_33002fdc123d47539c9b64af4db90acd%29%3B%0A%20%20%20%20%20%20%20%20%0A%20%20%20%20%0A%20%20%20%20%20%20%20%20%20%20%20%20var%20marker_21dabea6251f43daa2a6c67a9e73883a%20%3D%20L.marker%28%0A%20%20%20%20%20%20%20%20%20%20%20%20%20%20%20%20%5B55.93859989999999%2C%2037.5101021%5D%2C%0A%20%20%20%20%20%20%20%20%20%20%20%20%20%20%20%20%7B%22radius%22%3A%201180.0%7D%0A%20%20%20%20%20%20%20%20%20%20%20%20%29.addTo%28map_33002fdc123d47539c9b64af4db90acd%29%3B%0A%20%20%20%20%20%20%20%20%0A%20%20%20%20%0A%20%20%20%20%20%20%20%20%20%20%20%20var%20marker_9bf55ceabb514d9d81edc9d54b18bcbb%20%3D%20L.marker%28%0A%20%20%20%20%20%20%20%20%20%20%20%20%20%20%20%20%5B55.7582621%2C%2037.861855299999995%5D%2C%0A%20%20%20%20%20%20%20%20%20%20%20%20%20%20%20%20%7B%22radius%22%3A%201080.0%7D%0A%20%20%20%20%20%20%20%20%20%20%20%20%29.addTo%28map_33002fdc123d47539c9b64af4db90acd%29%3B%0A%20%20%20%20%20%20%20%20%0A%20%20%20%20%0A%20%20%20%20%20%20%20%20%20%20%20%20var%20marker_6fa725f2f69846fe924bc95c5633c542%20%3D%20L.marker%28%0A%20%20%20%20%20%20%20%20%20%20%20%20%20%20%20%20%5B61.0023984%2C%2069.0184798%5D%2C%0A%20%20%20%20%20%20%20%20%20%20%20%20%20%20%20%20%7B%22radius%22%3A%201030.0%7D%0A%20%20%20%20%20%20%20%20%20%20%20%20%29.addTo%28map_33002fdc123d47539c9b64af4db90acd%29%3B%0A%20%20%20%20%20%20%20%20%0A%3C/script%3E onload=\"this.contentDocument.open();this.contentDocument.write(    decodeURIComponent(this.getAttribute('data-html')));this.contentDocument.close();\" allowfullscreen webkitallowfullscreen mozallowfullscreen></iframe></div></div>"
      ],
      "text/plain": [
       "<folium.folium.Map at 0x7f3fac0177b8>"
      ]
     },
     "execution_count": 414,
     "metadata": {},
     "output_type": "execute_result"
    }
   ],
   "source": [
    "# Create a base map\n",
    "m_4 = folium.Map(location=[60,100], tiles='cartodbpositron', zoom_start=3\n",
    "                )\n",
    "\n",
    "# Add a bubble map to the base map\n",
    "for i in range(0,len(cities_upd)):\n",
    "    Marker(\n",
    "        location=[cities_upd.iloc[i]['geo_lat'], cities_upd.iloc[i]['geo_lon']],\n",
    "        radius=float(cities_upd.iloc[i]['population'])*10).add_to(m_4)\n",
    "\n",
    "# Display the map\n",
    "m_4"
   ]
  },
  {
   "cell_type": "code",
   "execution_count": null,
   "metadata": {},
   "outputs": [],
   "source": [
    "geo_lat\tgeo_lon\tpopulation"
   ]
  },
  {
   "cell_type": "markdown",
   "metadata": {},
   "source": [
    "# shp"
   ]
  },
  {
   "cell_type": "code",
   "execution_count": null,
   "metadata": {
    "ExecuteTime": {
     "end_time": "2021-09-22T21:15:25.186466Z",
     "start_time": "2021-09-22T21:13:42.391Z"
    }
   },
   "outputs": [],
   "source": [
    "# !pip install geoplot"
   ]
  },
  {
   "cell_type": "code",
   "execution_count": 1,
   "metadata": {
    "ExecuteTime": {
     "end_time": "2021-09-22T20:41:11.383759Z",
     "start_time": "2021-09-22T20:41:10.906454Z"
    }
   },
   "outputs": [
    {
     "ename": "ModuleNotFoundError",
     "evalue": "No module named 'geoplot'",
     "output_type": "error",
     "traceback": [
      "\u001b[0;31m---------------------------------------------------------------------------\u001b[0m",
      "\u001b[0;31mModuleNotFoundError\u001b[0m                       Traceback (most recent call last)",
      "\u001b[0;32m<ipython-input-1-f0584de936b8>\u001b[0m in \u001b[0;36m<module>\u001b[0;34m\u001b[0m\n\u001b[1;32m      1\u001b[0m \u001b[0;32mimport\u001b[0m \u001b[0mgeopandas\u001b[0m \u001b[0;32mas\u001b[0m \u001b[0mgpd\u001b[0m\u001b[0;34m\u001b[0m\u001b[0;34m\u001b[0m\u001b[0m\n\u001b[0;32m----> 2\u001b[0;31m \u001b[0;32mimport\u001b[0m \u001b[0mgeoplot\u001b[0m \u001b[0;32mas\u001b[0m \u001b[0mgplt\u001b[0m\u001b[0;34m\u001b[0m\u001b[0;34m\u001b[0m\u001b[0m\n\u001b[0m\u001b[1;32m      3\u001b[0m \u001b[0;31m# adm = gpd.read_file(\"data/adm_ter_shp/admin_level_6.shp\",encoding='cp1251') # 8, 6\u001b[0m\u001b[0;34m\u001b[0m\u001b[0;34m\u001b[0m\u001b[0;34m\u001b[0m\u001b[0m\n",
      "\u001b[0;31mModuleNotFoundError\u001b[0m: No module named 'geoplot'"
     ]
    }
   ],
   "source": [
    "import geopandas as gpd\n",
    "adm = gpd.read_file(\"data/adm_ter_shp/admin_level_6.shp\",encoding='cp1251') # 8, 6"
   ]
  },
  {
   "cell_type": "code",
   "execution_count": 553,
   "metadata": {
    "ExecuteTime": {
     "end_time": "2021-09-22T18:19:04.027148Z",
     "start_time": "2021-09-22T18:19:04.019433Z"
    }
   },
   "outputs": [
    {
     "data": {
      "text/plain": [
       "(2367, 118)"
      ]
     },
     "execution_count": 553,
     "metadata": {},
     "output_type": "execute_result"
    }
   ],
   "source": [
    "adm.shape"
   ]
  },
  {
   "cell_type": "code",
   "execution_count": 558,
   "metadata": {
    "ExecuteTime": {
     "end_time": "2021-09-22T18:20:25.856590Z",
     "start_time": "2021-09-22T18:20:25.851435Z"
    }
   },
   "outputs": [],
   "source": [
    "# adm"
   ]
  },
  {
   "cell_type": "code",
   "execution_count": 556,
   "metadata": {
    "ExecuteTime": {
     "end_time": "2021-09-22T18:19:55.733829Z",
     "start_time": "2021-09-22T18:19:52.601057Z"
    }
   },
   "outputs": [
    {
     "data": {
      "image/png": "[encoded data removed]",
      "text/plain": [
       "<Figure size 1440x1080 with 1 Axes>"
      ]
     },
     "metadata": {
      "needs_background": "light"
     },
     "output_type": "display_data"
    }
   ],
   "source": [
    "adm.plot(figsize=(20,15), color='none', edgecolor='gainsboro', zorder=3);"
   ]
  },
  {
   "cell_type": "code",
   "execution_count": 19,
   "metadata": {
    "ExecuteTime": {
     "end_time": "2021-09-22T20:55:27.984500Z",
     "start_time": "2021-09-22T20:55:27.978150Z"
    }
   },
   "outputs": [],
   "source": [
    "from shapely.geometry import Point"
   ]
  },
  {
   "cell_type": "code",
   "execution_count": 20,
   "metadata": {
    "ExecuteTime": {
     "end_time": "2021-09-22T20:55:38.691516Z",
     "start_time": "2021-09-22T20:55:38.683738Z"
    }
   },
   "outputs": [
    {
     "data": {
      "text/plain": [
       "shapely.geometry.point.Point"
      ]
     },
     "execution_count": 20,
     "metadata": {},
     "output_type": "execute_result"
    }
   ],
   "source": [
    "Point"
   ]
  },
  {
   "cell_type": "code",
   "execution_count": null,
   "metadata": {},
   "outputs": [],
   "source": [
    "# git clone\n",
    "# git pull"
   ]
  },
  {
   "cell_type": "code",
   "execution_count": null,
   "metadata": {
    "ExecuteTime": {
     "end_time": "2021-09-22T21:21:09.247584Z",
     "start_time": "2021-09-22T21:20:40.782Z"
    }
   },
   "outputs": [],
   "source": [
    "# !conda install geoplot -c conda-forge"
   ]
  },
  {
   "cell_type": "code",
   "execution_count": null,
   "metadata": {
    "ExecuteTime": {
     "end_time": "2021-09-22T21:21:09.246840Z",
     "start_time": "2021-09-22T21:20:38.574Z"
    }
   },
   "outputs": [],
   "source": [
    "# cities['geometry'] = cities.apply(lambda x: Point(x['geo_lat'], x['geo_lon']), axis=1)"
   ]
  },
  {
   "cell_type": "code",
   "execution_count": null,
   "metadata": {
    "ExecuteTime": {
     "end_time": "2021-09-22T21:21:09.248298Z",
     "start_time": "2021-09-22T21:20:44.192Z"
    }
   },
   "outputs": [],
   "source": [
    "# ax = adm.plot(figsize=(20,15), color='none', edgecolor='gainsboro', zorder=3)\n",
    "# cities.plot(color='lightgreen', ax=ax);"
   ]
  },
  {
   "cell_type": "code",
   "execution_count": null,
   "metadata": {},
   "outputs": [],
   "source": []
  }
 ],
 "metadata": {
  "hide_input": false,
  "kernelspec": {
   "display_name": "Python 3",
   "language": "python",
   "name": "python3"
  },
  "language_info": {
   "codemirror_mode": {
    "name": "ipython",
    "version": 3
   },
   "file_extension": ".py",
   "mimetype": "text/x-python",
   "name": "python",
   "nbconvert_exporter": "python",
   "pygments_lexer": "ipython3",
   "version": "3.6.9"
  },
  "toc": {
   "base_numbering": 1,
   "nav_menu": {},
   "number_sections": true,
   "sideBar": true,
   "skip_h1_title": false,
   "title_cell": "Table of Contents",
   "title_sidebar": "Contents",
   "toc_cell": false,
   "toc_position": {
    "height": "calc(100% - 180px)",
    "left": "10px",
    "top": "150px",
    "width": "198.825px"
   },
   "toc_section_display": true,
   "toc_window_display": true
  }
 },
 "nbformat": 4,
 "nbformat_minor": 4
}
